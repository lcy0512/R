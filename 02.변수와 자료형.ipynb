{
 "cells": [
  {
   "cell_type": "markdown",
   "metadata": {},
   "source": [
    "# 변수와 자료형\n",
    "\n",
    "### 변수\n",
    "분석에 필요한자료를 일시적으로 저장하거나 처리결과를 담을 수 있는 기억장소를 지정해주는 역할<br>\n",
    "변수 이름은 값을 지정하는 메모리 영역의 이름으로 할당.<br><br>\n",
    "(1) 변수 이름의 작성 규칙\n",
    "- 첫자는 영문으로 시작.\n",
    "- 첫자를 제외하고 숫자, under bar, dot을 사용할 수 있음.\n",
    "- 대문자와 소문자를 구분해야 함.\n",
    "- 변수 이름은 의미를 파악할 수 이름으로 지정하는 것이 좋다.\n",
    "- 두 단어를 포함한 변수 이름을 지정할 결우 camel이나 snake 기법을 사용해야 가독성이 좋다."
   ]
  },
  {
   "cell_type": "code",
   "execution_count": 1,
   "metadata": {
    "vscode": {
     "languageId": "r"
    }
   },
   "outputs": [],
   "source": [
    "var1 <- 2\n",
    "var1 <- 1.1\n",
    "var1 <- \"Apple\""
   ]
  },
  {
   "cell_type": "code",
   "execution_count": 2,
   "metadata": {
    "vscode": {
     "languageId": "r"
    }
   },
   "outputs": [
    {
     "data": {
      "text/html": [
       "'Apple'"
      ],
      "text/latex": [
       "'Apple'"
      ],
      "text/markdown": [
       "'Apple'"
      ],
      "text/plain": [
       "[1] \"Apple\""
      ]
     },
     "metadata": {},
     "output_type": "display_data"
    }
   ],
   "source": [
    "var1"
   ]
  },
  {
   "cell_type": "code",
   "execution_count": null,
   "metadata": {
    "vscode": {
     "languageId": "r"
    }
   },
   "outputs": [],
   "source": []
  }
 ],
 "metadata": {
  "kernelspec": {
   "display_name": "R",
   "language": "R",
   "name": "ir"
  },
  "language_info": {
   "codemirror_mode": "r",
   "file_extension": ".r",
   "mimetype": "text/x-r-source",
   "name": "R",
   "pygments_lexer": "r",
   "version": "4.3.3"
  }
 },
 "nbformat": 4,
 "nbformat_minor": 2
}

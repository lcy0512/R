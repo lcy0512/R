{
 "cells": [
  {
   "cell_type": "code",
   "execution_count": 5,
   "metadata": {
    "vscode": {
     "languageId": "r"
    }
   },
   "outputs": [
    {
     "data": {
      "text/html": [
       "'ko_KR.UTF-8/ko_KR.UTF-8/ko_KR.UTF-8/C/ko_KR.UTF-8/C'"
      ],
      "text/latex": [
       "'ko\\_KR.UTF-8/ko\\_KR.UTF-8/ko\\_KR.UTF-8/C/ko\\_KR.UTF-8/C'"
      ],
      "text/markdown": [
       "'ko_KR.UTF-8/ko_KR.UTF-8/ko_KR.UTF-8/C/ko_KR.UTF-8/C'"
      ],
      "text/plain": [
       "[1] \"ko_KR.UTF-8/ko_KR.UTF-8/ko_KR.UTF-8/C/ko_KR.UTF-8/C\""
      ]
     },
     "metadata": {},
     "output_type": "display_data"
    }
   ],
   "source": [
    "# 기본 옵션\n",
    "options(warn = -1)\n",
    "options(repr.plot.width=15, repr.plot.height=9)\n",
    "# options(scipen = 100)\n",
    "Sys.setlocale(category = \"LC_ALL\", locale = \"ko_KR.UTF-8\")"
   ]
  },
  {
   "cell_type": "code",
   "execution_count": 82,
   "metadata": {
    "vscode": {
     "languageId": "r"
    }
   },
   "outputs": [],
   "source": [
    "rfFun <- function(data,targetCol,count)  {\n",
    "    library(randomForest)\n",
    "    library(caret)\n",
    "    result <- c()\n",
    "    for(i in 1:count) {\n",
    "        samp <- createDataPartition(data[,targetCol], p=0.7, list=F)\n",
    "        # 모델\n",
    "        model.rf <- randomForest(as.formula(paste(names(data)[targetCol], \"~ .\")), data = data[samp,], ntree = 100)\n",
    "\n",
    "        result <- c(result,\n",
    "            mean(\n",
    "                predict(model.rf, subset(data[-samp,], select = -1)) == data[-samp,targetCol]\n",
    "                )) # 예측력\n",
    "    }\n",
    "    cat(\"\\033[32m------------------------------------------------\\033[0m\\n\")\n",
    "    cat(\"\\033[36m 예측율 \\033[0m\\n\",result,\"\\n\")\n",
    "    # cat(\"\\n------------------------------------------------\\n\")\n",
    "    cat(\"\\033[32m------------------------------------------------\\033[0m\\n\")\n",
    "    cat(\"\\033[31m 평균 예측율 \\033[0m\\n\",mean(result),\"\\n\")\n",
    "    # cat(\"\\n------------------------------------------------\")\n",
    "    cat(\"\\033[32m------------------------------------------------\\033[0m\\n\")\n",
    "}"
   ]
  },
  {
   "cell_type": "code",
   "execution_count": 83,
   "metadata": {
    "vscode": {
     "languageId": "r"
    }
   },
   "outputs": [
    {
     "name": "stdout",
     "output_type": "stream",
     "text": [
      "\u001b[32m------------------------------------------------\u001b[0m\n",
      "\u001b[36m 예측율 \u001b[0m\n",
      " 0.8614865 \n",
      "\u001b[32m------------------------------------------------\u001b[0m\n",
      "\u001b[31m 평균 예측율 \u001b[0m\n",
      " 0.8614865 \n",
      "\u001b[32m------------------------------------------------\u001b[0m\n"
     ]
    }
   ],
   "source": [
    "rfFun(mnist,1,1)"
   ]
  },
  {
   "cell_type": "code",
   "execution_count": 53,
   "metadata": {
    "vscode": {
     "languageId": "r"
    }
   },
   "outputs": [
    {
     "data": {
      "text/plain": [
       "V1 ~ ."
      ]
     },
     "metadata": {},
     "output_type": "display_data"
    }
   ],
   "source": [
    "# rfFun(data = mnist, targetCol = 1, count = 3)\n",
    "as.formula(paste(names(data)[targetCol], \"~ .\"))\n"
   ]
  },
  {
   "cell_type": "markdown",
   "metadata": {},
   "source": [
    "# 손글씨 인식"
   ]
  },
  {
   "cell_type": "code",
   "execution_count": 6,
   "metadata": {
    "vscode": {
     "languageId": "r"
    }
   },
   "outputs": [],
   "source": [
    "mnist <- read.csv(\"Data/train_1k.csv\",header = F)\n"
   ]
  },
  {
   "cell_type": "code",
   "execution_count": 7,
   "metadata": {
    "vscode": {
     "languageId": "r"
    }
   },
   "outputs": [
    {
     "name": "stdout",
     "output_type": "stream",
     "text": [
      "                            \n",
      "                            \n",
      "                            \n",
      "                            \n",
      "                            \n",
      "            ************    \n",
      "        ****************    \n",
      "       ****************     \n",
      "       ***********          \n",
      "        ******* **          \n",
      "         *****              \n",
      "           ****             \n",
      "           ****             \n",
      "            ******          \n",
      "             ******         \n",
      "              ******        \n",
      "               *****        \n",
      "                 ****       \n",
      "              *******       \n",
      "            ********        \n",
      "          *********         \n",
      "        **********          \n",
      "      **********            \n",
      "    **********              \n",
      "    ********                \n",
      "                            \n",
      "                            \n",
      "                            \n"
     ]
    }
   ],
   "source": [
    "# Data 확인\n",
    "num1 <- seq(2, 785, 28)\n",
    "num2 <- seq(29, 785, 28)\n",
    "\n",
    "cnt <- 0\n",
    "\n",
    "for(j in 1:28) {\n",
    "    n1 = as.numeric(num1[j])\n",
    "    n2 = as.numeric(num2[j])\n",
    "    for(i in seq(n1, n2,1)) {\n",
    "        if(mnist[1,i] != 0) {\n",
    "            cat(\"*\")\n",
    "        }else {\n",
    "            cat(\" \")\n",
    "        }\n",
    "        # 줄 띄우기\n",
    "        cnt = cnt + 1\n",
    "        if(cnt > 27) {\n",
    "            cat(\"\\n\")\n",
    "            cnt <- 0\n",
    "        }\n",
    "    }\n",
    "}"
   ]
  },
  {
   "cell_type": "code",
   "execution_count": 8,
   "metadata": {
    "vscode": {
     "languageId": "r"
    }
   },
   "outputs": [
    {
     "name": "stderr",
     "output_type": "stream",
     "text": [
      "\n",
      "다음의 패키지를 부착합니다: ‘dplyr’\n",
      "\n",
      "\n",
      "The following objects are masked from ‘package:stats’:\n",
      "\n",
      "    filter, lag\n",
      "\n",
      "\n",
      "The following objects are masked from ‘package:base’:\n",
      "\n",
      "    intersect, setdiff, setequal, union\n",
      "\n",
      "\n"
     ]
    }
   ],
   "source": [
    "# 정렬\n",
    "library(dplyr)\n",
    "mnist <- arrange(mnist, V1)"
   ]
  },
  {
   "cell_type": "code",
   "execution_count": 9,
   "metadata": {
    "vscode": {
     "languageId": "r"
    }
   },
   "outputs": [
    {
     "name": "stdout",
     "output_type": "stream",
     "text": [
      "0 : 98 \n",
      "1 : 116 \n",
      "2 : 99 \n",
      "3 : 93 \n",
      "4 : 105 \n",
      "5 : 92 \n",
      "6 : 94 \n",
      "7 : 117 \n",
      "8 : 87 \n",
      "9 : 100 \n"
     ]
    }
   ],
   "source": [
    "# 번호별 갯수 파악\n",
    "for(i in 0:9) {\n",
    "    countNum <- nrow(subset(mnist, V1 == i))\n",
    "    cat(i,\":\",countNum,\"\\n\")\n",
    "}"
   ]
  },
  {
   "cell_type": "code",
   "execution_count": 10,
   "metadata": {
    "vscode": {
     "languageId": "r"
    }
   },
   "outputs": [
    {
     "name": "stdout",
     "output_type": "stream",
     "text": [
      "'data.frame':\t1001 obs. of  785 variables:\n",
      " $ V1  : Factor w/ 10 levels \"0\",\"1\",\"2\",\"3\",..: 1 1 1 1 1 1 1 1 1 1 ...\n",
      " $ V2  : int  0 0 0 0 0 0 0 0 0 0 ...\n",
      " $ V3  : int  0 0 0 0 0 0 0 0 0 0 ...\n",
      " $ V4  : int  0 0 0 0 0 0 0 0 0 0 ...\n",
      " $ V5  : int  0 0 0 0 0 0 0 0 0 0 ...\n",
      " $ V6  : int  0 0 0 0 0 0 0 0 0 0 ...\n",
      " $ V7  : int  0 0 0 0 0 0 0 0 0 0 ...\n",
      " $ V8  : int  0 0 0 0 0 0 0 0 0 0 ...\n",
      " $ V9  : int  0 0 0 0 0 0 0 0 0 0 ...\n",
      " $ V10 : int  0 0 0 0 0 0 0 0 0 0 ...\n",
      " $ V11 : int  0 0 0 0 0 0 0 0 0 0 ...\n",
      " $ V12 : int  0 0 0 0 0 0 0 0 0 0 ...\n",
      " $ V13 : int  0 0 0 0 0 0 0 0 0 0 ...\n",
      " $ V14 : int  0 0 0 0 0 0 0 0 0 0 ...\n",
      " $ V15 : int  0 0 0 0 0 0 0 0 0 0 ...\n",
      " $ V16 : int  0 0 0 0 0 0 0 0 0 0 ...\n",
      " $ V17 : int  0 0 0 0 0 0 0 0 0 0 ...\n",
      " $ V18 : int  0 0 0 0 0 0 0 0 0 0 ...\n",
      " $ V19 : int  0 0 0 0 0 0 0 0 0 0 ...\n",
      " $ V20 : int  0 0 0 0 0 0 0 0 0 0 ...\n",
      " $ V21 : int  0 0 0 0 0 0 0 0 0 0 ...\n",
      " $ V22 : int  0 0 0 0 0 0 0 0 0 0 ...\n",
      " $ V23 : int  0 0 0 0 0 0 0 0 0 0 ...\n",
      " $ V24 : int  0 0 0 0 0 0 0 0 0 0 ...\n",
      " $ V25 : int  0 0 0 0 0 0 0 0 0 0 ...\n",
      " $ V26 : int  0 0 0 0 0 0 0 0 0 0 ...\n",
      " $ V27 : int  0 0 0 0 0 0 0 0 0 0 ...\n",
      " $ V28 : int  0 0 0 0 0 0 0 0 0 0 ...\n",
      " $ V29 : int  0 0 0 0 0 0 0 0 0 0 ...\n",
      " $ V30 : int  0 0 0 0 0 0 0 0 0 0 ...\n",
      " $ V31 : int  0 0 0 0 0 0 0 0 0 0 ...\n",
      " $ V32 : int  0 0 0 0 0 0 0 0 0 0 ...\n",
      " $ V33 : int  0 0 0 0 0 0 0 0 0 0 ...\n",
      " $ V34 : int  0 0 0 0 0 0 0 0 0 0 ...\n",
      " $ V35 : int  0 0 0 0 0 0 0 0 0 0 ...\n",
      " $ V36 : int  0 0 0 0 0 0 0 0 0 0 ...\n",
      " $ V37 : int  0 0 0 0 0 0 0 0 0 0 ...\n",
      " $ V38 : int  0 0 0 0 0 0 0 0 0 0 ...\n",
      " $ V39 : int  0 0 0 0 0 0 0 0 0 0 ...\n",
      " $ V40 : int  0 0 0 0 0 0 0 0 0 0 ...\n",
      " $ V41 : int  0 0 0 0 0 0 0 0 0 0 ...\n",
      " $ V42 : int  0 0 0 0 0 0 0 0 0 0 ...\n",
      " $ V43 : int  0 0 0 0 0 0 0 0 0 0 ...\n",
      " $ V44 : int  0 0 0 0 0 0 0 0 0 0 ...\n",
      " $ V45 : int  0 0 0 0 0 0 0 0 0 0 ...\n",
      " $ V46 : int  0 0 0 0 0 0 0 0 0 0 ...\n",
      " $ V47 : int  0 0 0 0 0 0 0 0 0 0 ...\n",
      " $ V48 : int  0 0 0 0 0 0 0 0 0 0 ...\n",
      " $ V49 : int  0 0 0 0 0 0 0 0 0 0 ...\n",
      " $ V50 : int  0 0 0 0 0 0 0 0 0 0 ...\n",
      " $ V51 : int  0 0 0 0 0 0 0 0 0 0 ...\n",
      " $ V52 : int  0 0 0 0 0 0 0 0 0 0 ...\n",
      " $ V53 : int  0 0 0 0 0 0 0 0 0 0 ...\n",
      " $ V54 : int  0 0 0 0 0 0 0 0 0 0 ...\n",
      " $ V55 : int  0 0 0 0 0 0 0 0 0 0 ...\n",
      " $ V56 : int  0 0 0 0 0 0 0 0 0 0 ...\n",
      " $ V57 : int  0 0 0 0 0 0 0 0 0 0 ...\n",
      " $ V58 : int  0 0 0 0 0 0 0 0 0 0 ...\n",
      " $ V59 : int  0 0 0 0 0 0 0 0 0 0 ...\n",
      " $ V60 : int  0 0 0 0 0 0 0 0 0 0 ...\n",
      " $ V61 : int  0 0 0 0 0 0 0 0 0 0 ...\n",
      " $ V62 : int  0 0 0 0 0 0 0 0 0 0 ...\n",
      " $ V63 : int  0 0 0 0 0 0 0 0 0 0 ...\n",
      " $ V64 : int  0 0 0 0 0 0 0 0 0 0 ...\n",
      " $ V65 : int  0 0 0 0 0 0 0 0 0 0 ...\n",
      " $ V66 : int  0 0 0 0 0 0 0 0 0 0 ...\n",
      " $ V67 : int  0 0 0 0 0 0 0 0 0 0 ...\n",
      " $ V68 : int  0 0 0 0 0 0 0 0 0 0 ...\n",
      " $ V69 : int  0 0 0 0 0 0 0 0 0 0 ...\n",
      " $ V70 : int  0 0 0 0 0 0 0 0 0 0 ...\n",
      " $ V71 : int  0 0 0 0 0 0 0 0 0 0 ...\n",
      " $ V72 : int  0 0 0 0 0 0 0 0 0 0 ...\n",
      " $ V73 : int  0 0 0 0 0 0 0 0 0 0 ...\n",
      " $ V74 : int  0 0 0 0 0 0 0 0 0 0 ...\n",
      " $ V75 : int  0 0 0 0 0 0 0 0 0 0 ...\n",
      " $ V76 : int  0 0 0 0 0 0 0 0 0 0 ...\n",
      " $ V77 : int  0 0 0 0 0 0 0 0 0 0 ...\n",
      " $ V78 : int  0 0 0 0 0 0 0 0 0 0 ...\n",
      " $ V79 : int  0 0 0 0 0 0 0 0 0 0 ...\n",
      " $ V80 : int  0 0 0 0 0 0 0 0 0 0 ...\n",
      " $ V81 : int  0 0 0 0 0 0 0 0 0 0 ...\n",
      " $ V82 : int  0 0 0 0 0 0 0 0 0 0 ...\n",
      " $ V83 : int  0 0 0 0 0 0 0 0 0 0 ...\n",
      " $ V84 : int  0 0 0 0 0 0 0 0 0 0 ...\n",
      " $ V85 : int  0 0 0 0 0 0 0 0 0 0 ...\n",
      " $ V86 : int  0 0 0 0 0 0 0 0 0 0 ...\n",
      " $ V87 : int  0 0 0 0 0 0 0 0 0 0 ...\n",
      " $ V88 : int  0 0 0 0 0 0 0 0 0 0 ...\n",
      " $ V89 : int  0 0 0 0 0 0 0 0 0 0 ...\n",
      " $ V90 : int  0 0 0 0 0 0 0 0 0 0 ...\n",
      " $ V91 : int  0 0 0 0 0 0 0 0 0 0 ...\n",
      " $ V92 : int  0 0 0 0 0 0 0 0 0 0 ...\n",
      " $ V93 : int  0 0 0 0 0 0 0 0 0 0 ...\n",
      " $ V94 : int  0 0 0 0 0 0 0 0 0 0 ...\n",
      " $ V95 : int  0 0 0 0 0 0 0 0 0 0 ...\n",
      " $ V96 : int  0 0 0 0 0 0 0 0 0 0 ...\n",
      " $ V97 : int  0 0 0 0 0 0 0 0 0 0 ...\n",
      " $ V98 : int  0 0 0 0 0 0 0 0 0 0 ...\n",
      " $ V99 : int  0 0 0 0 0 0 0 0 0 0 ...\n",
      "  [list output truncated]\n"
     ]
    }
   ],
   "source": [
    "# Target인 V1을 factor로 변경\n",
    "mnist$V1 <- as.factor(mnist$V1)\n",
    "str(mnist)"
   ]
  },
  {
   "cell_type": "code",
   "execution_count": 22,
   "metadata": {
    "vscode": {
     "languageId": "r"
    }
   },
   "outputs": [
    {
     "data": {
      "text/html": [
       "0.881756756756757"
      ],
      "text/latex": [
       "0.881756756756757"
      ],
      "text/markdown": [
       "0.881756756756757"
      ],
      "text/plain": [
       "[1] 0.8817568"
      ]
     },
     "metadata": {},
     "output_type": "display_data"
    }
   ],
   "source": [
    "# RandomForest로 예측력과 오분류표 구하기\n",
    "# library(caret)\n",
    "# library(randomForest)\n",
    "samp <- createDataPartition(mnist$V1, p=0.7, list=F)\n",
    "data.tr <- mnist[samp,]\n",
    "data.test <- mnist[-samp,]\n",
    "\n",
    "x <- subset(data.test, select = -V1)\n",
    "y <- data.test$V1\n",
    "\n",
    "model.rf <- randomForest(V1 ~ ., data = data.tr , ntree = 100)\n",
    "\n",
    "mean(predict(model.rf, x) == y)"
   ]
  },
  {
   "cell_type": "code",
   "execution_count": 15,
   "metadata": {
    "vscode": {
     "languageId": "r"
    }
   },
   "outputs": [
    {
     "data": {
      "text/html": [
       "<style>\n",
       ".list-inline {list-style: none; margin:0; padding: 0}\n",
       ".list-inline>li {display: inline-block}\n",
       ".list-inline>li:not(:last-child)::after {content: \"\\00b7\"; padding: 0 .5ex}\n",
       "</style>\n",
       "<ol class=list-inline><li>0</li><li>0</li><li>0</li><li>0</li><li>0</li><li>0</li></ol>\n",
       "\n",
       "<details>\n",
       "\t<summary style=display:list-item;cursor:pointer>\n",
       "\t\t<strong>Levels</strong>:\n",
       "\t</summary>\n",
       "\t<style>\n",
       "\t.list-inline {list-style: none; margin:0; padding: 0}\n",
       "\t.list-inline>li {display: inline-block}\n",
       "\t.list-inline>li:not(:last-child)::after {content: \"\\00b7\"; padding: 0 .5ex}\n",
       "\t</style>\n",
       "\t<ol class=list-inline><li>'0'</li><li>'1'</li><li>'2'</li><li>'3'</li><li>'4'</li><li>'5'</li><li>'6'</li><li>'7'</li><li>'8'</li><li>'9'</li></ol>\n",
       "</details>"
      ],
      "text/latex": [
       "\\begin{enumerate*}\n",
       "\\item 0\n",
       "\\item 0\n",
       "\\item 0\n",
       "\\item 0\n",
       "\\item 0\n",
       "\\item 0\n",
       "\\end{enumerate*}\n",
       "\n",
       "\\emph{Levels}: \\begin{enumerate*}\n",
       "\\item '0'\n",
       "\\item '1'\n",
       "\\item '2'\n",
       "\\item '3'\n",
       "\\item '4'\n",
       "\\item '5'\n",
       "\\item '6'\n",
       "\\item '7'\n",
       "\\item '8'\n",
       "\\item '9'\n",
       "\\end{enumerate*}\n"
      ],
      "text/markdown": [
       "1. 0\n",
       "2. 0\n",
       "3. 0\n",
       "4. 0\n",
       "5. 0\n",
       "6. 0\n",
       "\n",
       "\n",
       "\n",
       "**Levels**: 1. '0'\n",
       "2. '1'\n",
       "3. '2'\n",
       "4. '3'\n",
       "5. '4'\n",
       "6. '5'\n",
       "7. '6'\n",
       "8. '7'\n",
       "9. '8'\n",
       "10. '9'\n",
       "\n",
       "\n"
      ],
      "text/plain": [
       "[1] 0 0 0 0 0 0\n",
       "Levels: 0 1 2 3 4 5 6 7 8 9"
      ]
     },
     "metadata": {},
     "output_type": "display_data"
    }
   ],
   "source": []
  }
 ],
 "metadata": {
  "kernelspec": {
   "display_name": "R",
   "language": "R",
   "name": "r"
  },
  "language_info": {
   "codemirror_mode": "r",
   "file_extension": ".r",
   "mimetype": "text/x-r-source",
   "name": "R",
   "pygments_lexer": "r",
   "version": "4.3.3"
  }
 },
 "nbformat": 4,
 "nbformat_minor": 2
}

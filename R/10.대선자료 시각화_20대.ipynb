{
 "cells": [
  {
   "cell_type": "code",
   "execution_count": null,
   "metadata": {
    "vscode": {
     "languageId": "r"
    }
   },
   "outputs": [],
   "source": [
    "# 기본 옵션\n",
    "options(warn = -1)\n",
    "options(repr.plot.width=15, repr.plot.height=9)\n",
    "options(scipen = 100)\n",
    "Sys.setlocale(category = \"LC_ALL\", locale = \"ko_KR.UTF-8\")\n",
    "\n",
    "# library 불러오기\n",
    "library(stringr)\n",
    "library(plotrix)\n",
    "library(dplyr)"
   ]
  },
  {
   "cell_type": "code",
   "execution_count": null,
   "metadata": {
    "vscode": {
     "languageId": "r"
    }
   },
   "outputs": [],
   "source": [
    "basic <- function(parameters) {\n",
    "   str(parameters)\n",
    "   summary(parameters)\n",
    "}"
   ]
  },
  {
   "cell_type": "code",
   "execution_count": null,
   "metadata": {
    "vscode": {
     "languageId": "r"
    }
   },
   "outputs": [],
   "source": [
    "election <- read.csv(\"Data/election_2022.csv\")"
   ]
  },
  {
   "cell_type": "code",
   "execution_count": null,
   "metadata": {
    "vscode": {
     "languageId": "r"
    }
   },
   "outputs": [],
   "source": [
    "# electionSum = 이재명 + 윤석열 + 심상정\n",
    "election$electionSum <- election$이재명 + election$윤석열 + election$심상정\n",
    "election$electionSum <- apply(election[5:7],1,sum)"
   ]
  },
  {
   "cell_type": "code",
   "execution_count": null,
   "metadata": {
    "vscode": {
     "languageId": "r"
    }
   },
   "outputs": [],
   "source": [
    "# electionSum에 투표수 몇 percent?\n",
    "election$electionRatio <- election$electionSum / election$투표수 * 100"
   ]
  },
  {
   "cell_type": "code",
   "execution_count": null,
   "metadata": {
    "vscode": {
     "languageId": "r"
    }
   },
   "outputs": [],
   "source": [
    "# electionRatio가 가장 높은 시군구와 가장 낮은 시군구?\n",
    "# 1) arrange\n",
    "arrange(election,desc(electionRatio))[c(1,nrow(election)),c(1:2,ncol(election))]\n",
    "# 2) subset\n",
    "subset(election,electionRatio == max(election$electionRatio) | electionRatio == min(election$electionRatio))"
   ]
  },
  {
   "cell_type": "code",
   "execution_count": 73,
   "metadata": {
    "vscode": {
     "languageId": "r"
    }
   },
   "outputs": [],
   "source": [
    "# CSV로 저장\n",
    "write.csv(election,\"Data/election_2022_job.csv\")"
   ]
  }
 ],
 "metadata": {
  "kernelspec": {
   "display_name": "R",
   "language": "R",
   "name": "ir"
  },
  "language_info": {
   "codemirror_mode": "r",
   "file_extension": ".r",
   "mimetype": "text/x-r-source",
   "name": "R",
   "pygments_lexer": "r",
   "version": "4.3.3"
  }
 },
 "nbformat": 4,
 "nbformat_minor": 2
}

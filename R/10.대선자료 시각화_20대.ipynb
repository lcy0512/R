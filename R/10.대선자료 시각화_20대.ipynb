{
 "cells": [
  {
   "cell_type": "code",
   "execution_count": null,
   "metadata": {
    "vscode": {
     "languageId": "r"
    }
   },
   "outputs": [],
   "source": [
    "# 기본 옵션\n",
    "options(warn = -1)\n",
    "options(repr.plot.width=15, repr.plot.height=9)\n",
    "options(scipen = 100)\n",
    "Sys.setlocale(category = \"LC_ALL\", locale = \"ko_KR.UTF-8\")\n",
    "\n",
    "# library 불러오기\n",
    "library(stringr)\n",
    "library(plotrix)\n",
    "library(dplyr)"
   ]
  },
  {
   "cell_type": "code",
   "execution_count": null,
   "metadata": {
    "vscode": {
     "languageId": "r"
    }
   },
   "outputs": [],
   "source": [
    "basic <- function(parameters) {\n",
    "   str(parameters)\n",
    "   summary(parameters)\n",
    "}"
   ]
  },
  {
   "cell_type": "code",
   "execution_count": null,
   "metadata": {
    "vscode": {
     "languageId": "r"
    }
   },
   "outputs": [],
   "source": [
    "election <- read.csv(\"Data/election_2022.csv\")"
   ]
  },
  {
   "cell_type": "code",
   "execution_count": null,
   "metadata": {
    "vscode": {
     "languageId": "r"
    }
   },
   "outputs": [],
   "source": [
    "# electionSum = 이재명 + 윤석열 + 심상정\n",
    "election$electionSum <- election$이재명 + election$윤석열 + election$심상정\n",
    "election$electionSum <- apply(election[5:7],1,sum)\n",
    "\n",
    "# electionSum에 투표수 몇 percent?\n",
    "election$electionRatio <- election$electionSum / election$투표수 * 100\n",
    "\n",
    "# electionRatio가 가장 높은 시군구와 가장 낮은 시군구?\n",
    "# 1) arrange\n",
    "arrange(election,desc(electionRatio))[c(1,nrow(election)),c(1:2,ncol(election))]\n",
    "# 2) subset\n",
    "subset(election,electionRatio == max(election$electionRatio) | electionRatio == min(election$electionRatio))\n",
    "\n",
    "# CSV로 저장\n",
    "write.csv(election,\"Data/election_2022_job.csv\",row.names = F)"
   ]
  },
  {
   "cell_type": "markdown",
   "metadata": {},
   "source": [
    "## 광역시도별 투표율 3D PieChart로 표현"
   ]
  },
  {
   "cell_type": "code",
   "execution_count": null,
   "metadata": {
    "vscode": {
     "languageId": "r"
    }
   },
   "outputs": [],
   "source": [
    "# 전체 투표 수 중 광역시도의 비중(투표율)\n",
    "# 투표율 <- 광역시도별 투표수 / 투표수의 합계\n",
    "# 이 투표율로 차트를 만든다.\n",
    "# Pie Chart는 정렬를 하여 보여주어야 한다.\n",
    "\n",
    "# 투표수의 합계\n",
    "sum(election$투표수)\n",
    "# 광역시도별 투표수의 합계\n",
    "arrange(aggregate(투표수 ~ 광역시도,election,sum),desc(투표수))\n",
    "# 투표율\n",
    "round(arrange(aggregate(투표수 ~ 광역시도,election,sum),desc(투표수))$투표수 / sum(election$투표수) * 100,2)\n",
    "# 투표율에 관한 새로운 dataframe\n",
    "election_rate <- arrange(aggregate(투표수 ~ 광역시도,election,sum),desc(투표수))\n",
    "election_rate$투표비율 <- round(arrange(aggregate(투표수 ~ 광역시도,election,sum),desc(투표수))$투표수 / sum(election$투표수) * 100,2)\n",
    "\n",
    "par(family = 'AppleGothic',bg = 'lightgrey')\n",
    "label <- paste(election_rate$광역시도,\"\\n\",election_rate$투표비율,\"%\")\n",
    "pie3D(\n",
    "    election_rate$투표비율,\n",
    "    main = '광역시도별 투표율',\n",
    "    labels = label,\n",
    "    labelcex = 0.9,\n",
    "    radius = 0.9 # chart의 반지름 설정\n",
    ")"
   ]
  },
  {
   "cell_type": "code",
   "execution_count": null,
   "metadata": {
    "vscode": {
     "languageId": "r"
    }
   },
   "outputs": [],
   "source": [
    "# 수도권(경기,서울,인천)의 투표수에 대한 전체 투표수의 비중?\n",
    "sum(election_rate[c(1,2,5),]$투표비율)"
   ]
  },
  {
   "cell_type": "markdown",
   "metadata": {},
   "source": [
    "## 윤석열 후보의 광역시도별 득표율을 3D Pie Chart로 표현"
   ]
  },
  {
   "cell_type": "code",
   "execution_count": null,
   "metadata": {
    "vscode": {
     "languageId": "r"
    }
   },
   "outputs": [],
   "source": [
    "# 광역시도별 윤석열 투표수의 합계\n",
    "election_yoon <- arrange(aggregate(윤석열 ~ 광역시도,election,sum),desc(윤석열))\n",
    "\n",
    "# 광역시도별 윤석열 투표수의 합계\n",
    "sum(election$윤석열)\n",
    "\n",
    "# 광역시도별 윤석열 투표수의 합계 / 광역시도별 투표수의 합계 = 득표율\n",
    "election_yoon$득표율 <- round(arrange(aggregate(윤석열 ~ 광역시도,election,sum),desc(윤석열))$윤석열 / sum(election$윤석열) * 100,1)\n",
    "\n",
    "# 득표율을 표로 만든다.\n",
    "par(family = 'AppleGothic',bg = 'lightgrey')\n",
    "\n",
    "pie3D(\n",
    "    election_yoon$득표율,\n",
    "    main = '윤석열 후보의 광역시도별 득표율',\n",
    "    labels = paste(election_yoon$광역시도,\"\\n\",ifelse(election_yoon$득표율 < 3,'',paste(election_yoon$득표율,'%'))),\n",
    "    labelcex = 0.9\n",
    ")"
   ]
  },
  {
   "cell_type": "markdown",
   "metadata": {},
   "source": [
    "## 이재명 후보의 광역시도별 득표율"
   ]
  },
  {
   "cell_type": "code",
   "execution_count": null,
   "metadata": {
    "vscode": {
     "languageId": "r"
    }
   },
   "outputs": [],
   "source": [
    "# 광역시도별 이재명 투표수의 합계\n",
    "election_이재명 <- arrange(aggregate(이재명 ~ 광역시도,election,sum),desc(이재명))\n",
    "# 이재명 투표수의 전체 합계\n",
    "sum(election_이재명[,2])\n",
    "# 광역시도별 이재명 투표수의 합계 / 이재명 투표수의 전체 합계\n",
    "round(election_이재명[,2] / sum(election_이재명[,2]) * 100,2)\n",
    "# 차트\n",
    "par(family = 'AppleGothic',bg = 'lightgrey')\n",
    "pie3D(\n",
    "    main = '이재명 후보의 광역시도별 득표율',\n",
    "    round(election_이재명[,2] / sum(election_이재명[,2]) * 100,2),\n",
    "    labels = paste(election_이재명[,1],'\\n',round(election_이재명[,2] / sum(election_이재명[,2]) * 100,2),'%'),\n",
    "    labelcex = 0.9\n",
    ")"
   ]
  },
  {
   "cell_type": "markdown",
   "metadata": {},
   "source": [
    "## 윤석열 후보의 서울 득표 Top5만 득표율로 표시하고 나머지 지역은 기타로 합치기"
   ]
  },
  {
   "cell_type": "code",
   "execution_count": null,
   "metadata": {
    "vscode": {
     "languageId": "r"
    }
   },
   "outputs": [],
   "source": [
    "# 서울특별시 데이터만 발췌\n",
    "# subset(election,광역시도=='서울특별시')\n",
    "election_seoul <- election[election$광역시도 == '서울특별시',]\n",
    "\n",
    "# 서울특별시 데이터 중 필요한 컬럼만 발췌\n",
    "election_seoul_윤석열 <- arrange(election_seoul, desc(윤석열))[,c(2,6)]\n",
    "election_seoul_윤석열_ratio <- round(c(election_seoul_윤석열[1:5,2],sum(election_seoul_윤석열[-5:-1,2])) / sum(election_seoul_윤석열$윤석열) * 100,2)"
   ]
  },
  {
   "cell_type": "code",
   "execution_count": null,
   "metadata": {
    "vscode": {
     "languageId": "r"
    }
   },
   "outputs": [],
   "source": [
    "# Label\n",
    "label1 <- paste(c(election_seoul_윤석열$시군구[1:5], '기타'),\"\\n\",election_seoul_윤석열_ratio,\"%\")"
   ]
  },
  {
   "cell_type": "code",
   "execution_count": null,
   "metadata": {
    "vscode": {
     "languageId": "r"
    }
   },
   "outputs": [],
   "source": [
    "par(family = \"Applegothic\", bg = 'lightgrey')\n",
    "pie3D(\n",
    "    election_seoul_윤석열_ratio,\n",
    "    labels = label1\n",
    ")"
   ]
  },
  {
   "cell_type": "markdown",
   "metadata": {},
   "source": [
    "## 대선주자 출생지별 득표율 분석\n",
    "- 윤석열 후보의 출생지는 서울특별시 성북구"
   ]
  },
  {
   "cell_type": "code",
   "execution_count": null,
   "metadata": {
    "vscode": {
     "languageId": "r"
    }
   },
   "outputs": [],
   "source": [
    "newElection_seoul_ <- election_seoul[election_seoul$시군구 == '성북구',][,5:7]\n",
    "newElection_seoul_$기타 <- (election_seoul[election_seoul$시군구 == '성북구',]$투표수 - election_seoul[election_seoul$시군구 == '성북구',]$electionSum)"
   ]
  },
  {
   "cell_type": "code",
   "execution_count": null,
   "metadata": {
    "vscode": {
     "languageId": "r"
    }
   },
   "outputs": [],
   "source": [
    "newElection_seoul_ <- election_seoul[election_seoul$시군구 == '성북구',][,5:7]\n",
    "newElection_seoul_$기타 <- (election_seoul[election_seoul$시군구 == '성북구',]$투표수 - election_seoul[election_seoul$시군구 == '성북구',]$electionSum)\n",
    "\n",
    "par(family = 'applegothic',bg = 'white')\n",
    "label_1 <- colnames(newElection_seoul_)\n",
    "pie3D(\n",
    "    as.numeric(round(newElection_seoul_ / election_seoul[election_seoul$시군구 == '성북구',]$투표수 * 100,2)),\n",
    "    main = '서울시 성북구의 후보별 득표율',\n",
    "    labels = label_1,\n",
    ")"
   ]
  },
  {
   "cell_type": "markdown",
   "metadata": {},
   "source": [
    "----"
   ]
  },
  {
   "cell_type": "code",
   "execution_count": null,
   "metadata": {
    "vscode": {
     "languageId": "r"
    }
   },
   "outputs": [],
   "source": [
    "# 서울특별시 성북구만 발췌\n",
    "pob_윤석열 <- subset(election,시군구 == '성북구')\n",
    "\n",
    "# Ratio 구하기\n",
    "pob_윤석열_ratio <- as.numeric(c(pob_윤석열[,5:7], pob_윤석열[,4] - sum(pob_윤석열[,5:7]))) / pob_윤석열[,4] * 100\n",
    "\n",
    "# label 만들기\n",
    "pob_윤석열_label <- paste(c(\"이재명\",\"윤석열\",\"심상정\",\"기타\"),'\\n',round(pob_윤석열_ratio,2),'%')\n",
    "\n",
    "# pie chart\n",
    "par(family = 'applegothic',bg = 'white')\n",
    "pie3D(\n",
    "    pob_윤석열_ratio <- as.numeric(c(pob_윤석열[,5:7], pob_윤석열[,4] - sum(pob_윤석열[,5:7]))) / pob_윤석열[,4] * 100\n",
    ")"
   ]
  }
 ],
 "metadata": {
  "kernelspec": {
   "display_name": "R",
   "language": "R",
   "name": "ir"
  },
  "language_info": {
   "codemirror_mode": "r",
   "file_extension": ".r",
   "mimetype": "text/x-r-source",
   "name": "R",
   "pygments_lexer": "r",
   "version": "4.3.3"
  }
 },
 "nbformat": 4,
 "nbformat_minor": 2
}

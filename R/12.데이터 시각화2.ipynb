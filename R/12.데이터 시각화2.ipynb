{
 "cells": [
  {
   "cell_type": "code",
   "execution_count": null,
   "metadata": {
    "vscode": {
     "languageId": "r"
    }
   },
   "outputs": [],
   "source": [
    "# 기본 옵션\n",
    "options(warn = -1)\n",
    "options(repr.plot.width=15, repr.plot.height=9)\n",
    "options(scipen = 100)\n",
    "Sys.setlocale(category = \"LC_ALL\", locale = \"ko_KR.UTF-8\")\n",
    "\n",
    "# library 불러오기\n",
    "library(stringr)\n",
    "library(plotrix)\n",
    "library(dplyr)"
   ]
  },
  {
   "cell_type": "markdown",
   "metadata": {},
   "source": [
    "### 선굵기 변경"
   ]
  },
  {
   "cell_type": "code",
   "execution_count": null,
   "metadata": {
    "vscode": {
     "languageId": "r"
    }
   },
   "outputs": [],
   "source": [
    "par(bg = \"white\")\n",
    "x <- c(1,3,5,2,9,10)\n",
    "plot(\n",
    "    x,\n",
    "    type='b',\n",
    "    col = 'red',\n",
    "    lwd = c(rep(5,2),rep(1,3))\n",
    ")"
   ]
  },
  {
   "cell_type": "code",
   "execution_count": null,
   "metadata": {
    "vscode": {
     "languageId": "r"
    }
   },
   "outputs": [],
   "source": [
    "# 한 화면에 차트 여러개 그려서 비교하기\n",
    "par(bg = \"white\")\n",
    "price <- runif(10,1,100)\n",
    "plot(\n",
    "    price\n",
    ")"
   ]
  },
  {
   "cell_type": "code",
   "execution_count": null,
   "metadata": {
    "vscode": {
     "languageId": "r"
    }
   },
   "outputs": [],
   "source": [
    "# type 속성으로 여러화면 그리기\n",
    "# 2행 2열 차트 그리기\n",
    "par(bg = \"white\")\n",
    "par(mfrow = c(2,2))\n",
    "plot(\n",
    "    price,\n",
    "    type = \"l\",\n",
    ")\n",
    "plot(\n",
    "    price,\n",
    "    type = \"o\",\n",
    ")\n",
    "plot(\n",
    "    price,\n",
    "    type = \"h\",\n",
    ")\n",
    "barplot(\n",
    "    price,\n",
    ")"
   ]
  },
  {
   "cell_type": "code",
   "execution_count": null,
   "metadata": {
    "vscode": {
     "languageId": "r"
    }
   },
   "outputs": [],
   "source": [
    "par(bg = \"white\")\n",
    "par(mfrow = c(2,2))\n",
    "plot(\n",
    "    price,\n",
    "    type = 'o',\n",
    "    pch = 5,\n",
    ")\n",
    "plot(\n",
    "    price,\n",
    "    type = 'o',\n",
    "    pch = 15,\n",
    ")\n",
    "plot(\n",
    "    price,\n",
    "    type = 'o',\n",
    "    pch = 20,\n",
    "    col = 'blue'\n",
    ")\n",
    "plot(\n",
    "    price,\n",
    "    type = 'o',\n",
    "    pch = c(rep(20,8),20,20),\n",
    "    col = 'blue',\n",
    "    cex = c(rep(1,8),3,1)\n",
    ")\n"
   ]
  },
  {
   "cell_type": "markdown",
   "metadata": {},
   "source": [
    "### 중첩 자료 시각화"
   ]
  },
  {
   "cell_type": "code",
   "execution_count": null,
   "metadata": {
    "vscode": {
     "languageId": "r"
    }
   },
   "outputs": [],
   "source": [
    "x <- c(1,2,3,4,2,4)\n",
    "y <- rep(2,6)\n",
    "\n",
    "par(bg = 'white')\n",
    "plot(\n",
    "    x,y,\n",
    ")\n",
    "\n",
    "# 중복 데이터는 크기를 조정"
   ]
  },
  {
   "cell_type": "code",
   "execution_count": null,
   "metadata": {
    "vscode": {
     "languageId": "r"
    }
   },
   "outputs": [],
   "source": [
    "par(bg = 'white')\n",
    "xy.df <- as.data.frame(table(x,y))\n",
    "xy.df\n",
    "\n",
    "plot(\n",
    "    x,y,\n",
    "    pch = 15,\n",
    "    cex = xy.df$Freq\n",
    ")"
   ]
  },
  {
   "cell_type": "code",
   "execution_count": null,
   "metadata": {
    "vscode": {
     "languageId": "r"
    }
   },
   "outputs": [],
   "source": [
    "par(bg = 'white')\n",
    "x <- c(1,1,1,2,2,2,2,2,2,3,3,4,5,6)\n",
    "y <- c(1,1,4,2,3,2,2,2,3,2,1,1,1,1)\n",
    "z <- data.frame(x,y)\n",
    "sunflowerplot(\n",
    "    z,\n",
    ")"
   ]
  },
  {
   "cell_type": "code",
   "execution_count": null,
   "metadata": {
    "vscode": {
     "languageId": "r"
    }
   },
   "outputs": [],
   "source": [
    "# irirs의 Sepal.Length와 Sepal.Width의 중복 확인 산포도\n",
    "par(bg = 'white')\n",
    "sunflowerplot(\n",
    "    iris$Sepal.Length,iris$Sepal.Width,\n",
    "    col = c(\"blue\",\"red\")\n",
    ")"
   ]
  },
  {
   "cell_type": "markdown",
   "metadata": {},
   "source": [
    "### chart 2개를 겹쳐서 출력하기"
   ]
  },
  {
   "cell_type": "code",
   "execution_count": null,
   "metadata": {
    "vscode": {
     "languageId": "r"
    }
   },
   "outputs": [],
   "source": [
    "par(bg = 'white')\n",
    "x <- 1:10\n",
    "dotchart(\n",
    "    x,\n",
    "    col = 'red',\n",
    ")\n",
    "\n",
    "par(new = T) # 현재 차트를 유지하고 다른 차트를 생성한다.\n",
    "\n",
    "y <- c(1,2,1,4,5,2,7,7,2,5)\n",
    "barplot(\n",
    "    y,\n",
    "    col = 'blue',\n",
    ")"
   ]
  },
  {
   "cell_type": "markdown",
   "metadata": {},
   "source": [
    "### 투명도"
   ]
  },
  {
   "cell_type": "code",
   "execution_count": null,
   "metadata": {
    "vscode": {
     "languageId": "r"
    }
   },
   "outputs": [],
   "source": [
    "par(bg = 'white')\n",
    "x <- 1:10\n",
    "mycol <- rgb(0.2,0.8,1,seq(0.1,0.6,0.05))\n",
    "dotchart(\n",
    "    x,\n",
    "    col = 'red',\n",
    ")\n",
    "par(new = T)\n",
    "barplot(\n",
    "    x,\n",
    "    col = mycol,\n",
    ")"
   ]
  },
  {
   "cell_type": "markdown",
   "metadata": {},
   "source": [
    "### 상자 수염 그래프"
   ]
  },
  {
   "cell_type": "code",
   "execution_count": null,
   "metadata": {
    "vscode": {
     "languageId": "r"
    }
   },
   "outputs": [],
   "source": [
    "par(bg = 'white')\n",
    "abc <- c(110,300,150,280,310)\n",
    "boxplot(\n",
    "    abc\n",
    ")"
   ]
  },
  {
   "cell_type": "code",
   "execution_count": null,
   "metadata": {
    "vscode": {
     "languageId": "r"
    }
   },
   "outputs": [],
   "source": [
    "par(bg = 'white')\n",
    "boxplot(\n",
    "    abc,\n",
    "    col = \"Yellow\",\n",
    "    horizontal = TRUE\n",
    ")"
   ]
  },
  {
   "cell_type": "code",
   "execution_count": null,
   "metadata": {
    "vscode": {
     "languageId": "r"
    }
   },
   "outputs": [],
   "source": [
    "jkl <- c(1,1,1,1,1,2,5)\n",
    "par(bg = 'white')\n",
    "boxplot(jkl)"
   ]
  },
  {
   "cell_type": "code",
   "execution_count": null,
   "metadata": {
    "vscode": {
     "languageId": "r"
    }
   },
   "outputs": [],
   "source": [
    "# 자동차의 제동거리\n",
    "data(cars)"
   ]
  },
  {
   "cell_type": "code",
   "execution_count": null,
   "metadata": {
    "vscode": {
     "languageId": "r"
    }
   },
   "outputs": [],
   "source": [
    "par(bg = 'white')\n",
    "sunflowerplot(\n",
    "    cars,\n",
    ")"
   ]
  },
  {
   "cell_type": "code",
   "execution_count": null,
   "metadata": {
    "vscode": {
     "languageId": "r"
    }
   },
   "outputs": [],
   "source": [
    "par(bg = 'white')\n",
    "hist(cars$dist)\n",
    "boxplot(cars$dist)"
   ]
  },
  {
   "cell_type": "code",
   "execution_count": null,
   "metadata": {
    "vscode": {
     "languageId": "r"
    }
   },
   "outputs": [],
   "source": [
    "summary(cars$dist)\n",
    "summary(cars$dist[-49])"
   ]
  },
  {
   "cell_type": "code",
   "execution_count": null,
   "metadata": {
    "vscode": {
     "languageId": "r"
    }
   },
   "outputs": [],
   "source": [
    "quantile(cars$dist,0.75) - quantile(cars$dist,0.25)\n",
    "max(cars$dist) - (quantile(cars$dist,0.75) - quantile(cars$dist,0.25))"
   ]
  },
  {
   "cell_type": "code",
   "execution_count": null,
   "metadata": {
    "vscode": {
     "languageId": "r"
    }
   },
   "outputs": [],
   "source": [
    "par(bg = \"white\")\n",
    "boxplot(\n",
    "    iris$Sepal.Width,\n",
    "    horizontal = T\n",
    "    )"
   ]
  },
  {
   "cell_type": "markdown",
   "metadata": {},
   "source": [
    "# 기타 그래프"
   ]
  },
  {
   "cell_type": "code",
   "execution_count": null,
   "metadata": {
    "vscode": {
     "languageId": "r"
    }
   },
   "outputs": [],
   "source": [
    "par(bg = 'white', family = 'AppleGothic')\n",
    "\n",
    "x <- c( 1,  3,  6,  8, 9)\n",
    "y <- c(12, 56, 78, 32, 9)\n",
    "\n",
    "plot(x,y)\n",
    "# (3,3)과 (4,4)를 연결하는 선분 그리기\n",
    "segments(6,78, 8,32)\n",
    "\n",
    "# 화살표 그리기\n",
    "arrows(3,56, 1,12, col=\"red\")\n",
    "\n",
    "# 사각형 그리기\n",
    "rect(4,20,6,40,density = 15, col=\"DARKGREEN\",border = \"RED\")\n",
    "\n",
    "# 글자 쓰기\n",
    "text(5,40, \"ㅋㅋㅋㅋㅋㅋㅋㅋㅋ\",srt=50)\n",
    "\n",
    "# 테두리 활용하기\n",
    "mtext(\"이천영\", side = 3, adj = 1,cex = 2)\n",
    "\n",
    "# 그림의 테두리 그리기\n",
    "box(lty = 1, col = \"yellow\")\n",
    "\n",
    "# x축의 추가, y축의 50 위치에 0 ~ 10까지 표시하고 색은 빨간색\n",
    "axis(1,pos = 50, at=1:9,col = \"HOTPINK\")\n",
    "\n",
    "# y축의 추가, x축의 6 위치에 20 ~ 60 까지 표시하고 색은 파란색\n",
    "axis(2,pos = 6,at = 20:60,col = \"blue\")"
   ]
  },
  {
   "cell_type": "code",
   "execution_count": null,
   "metadata": {
    "vscode": {
     "languageId": "r"
    }
   },
   "outputs": [],
   "source": [
    "election <- read.csv(\"Data/election_2022_job.csv\")\n",
    "top5_시군구1 <- arrange(election,desc(투표수))[1:5,5:7]\n",
    "rownames(top5_시군구1) <- paste(arrange(election,desc(투표수))$광역시도,arrange(election,desc(투표수))$시군구)[1:5]\n",
    "\n",
    "par(bg = \"white\",family = \"AppleGothic\")\n",
    "barplot(\n",
    "    main = \"투표수 높은 지역의 후보별 투표수\",\n",
    "    t(top5_시군구1),\n",
    "    ylim = c(0,600000),\n",
    "    legend.text = T,\n",
    "    col = c(\"SKYBLUE\",\"RED\",\"YELLOW\")\n",
    ")\n",
    "\n",
    "for(i in 1:nrow(arrange(election,desc(투표수))[1:5,])) {\n",
    "    text(1.2*(i-1) + 0.7, # x좌표\n",
    "         arrange(election,desc(투표수))[1:5,]$electionSum[i]+10000, # y좌표\n",
    "         arrange(election,desc(투표수))[1:5,]$electionSum[i] # text\n",
    "         )\n",
    "}"
   ]
  },
  {
   "cell_type": "code",
   "execution_count": null,
   "metadata": {
    "vscode": {
     "languageId": "r"
    }
   },
   "outputs": [],
   "source": [
    "election <- read.csv(\"Data/election_2022_job.csv\")\n",
    "top5_시군구1 <- arrange(election,desc(투표수))[1:5,5:7]\n",
    "rownames(top5_시군구1) <- paste(arrange(election,desc(투표수))$광역시도,arrange(election,desc(투표수))$시군구)[1:5]\n",
    "\n",
    "par(bg = \"white\",family = \"AppleGothic\")\n",
    "barplot(\n",
    "    main = \"투표수 높은 지역의 후보별 투표수\",\n",
    "    t(top5_시군구1),\n",
    "    ylim = c(0,600000),\n",
    "    legend.text = T,\n",
    "    col = c(\"SKYBLUE\",\"RED\",\"YELLOW\")\n",
    ")\n",
    "\n",
    "# for(i in 1:5) {\n",
    "#     # 이재명\n",
    "#     text(\n",
    "#         1.2*(i-1) + 0.7, # x좌표\n",
    "#         sum(arrange(election,desc(투표수))[i,5]) / 2, # y좌표\n",
    "#         paste(round(arrange(election,desc(투표수))[1:5,4+1] / arrange(election,desc(투표수))[1:5,]$electionSum[1:5] * 100,2)[i],\"%\") # text\n",
    "#     )\n",
    "\n",
    "#     # 윤석열\n",
    "#     text(\n",
    "#         1.2*(i-1) + 0.7, # x좌표\n",
    "#         sum(arrange(election,desc(투표수))[i,5]) + sum(arrange(election,desc(투표수))[i,6]) / 2, # y좌표\n",
    "#         paste(round(arrange(election,desc(투표수))[1:5,4+2] / arrange(election,desc(투표수))[1:5,]$electionSum[1:5] * 100,2)[i],\"%\") # text\n",
    "#     )\n",
    "\n",
    "#     # 심상정\n",
    "#     text(\n",
    "#         1.2*(i-1) + 0.7, # x좌표\n",
    "#         sum(arrange(election,desc(투표수))[i,5]) + sum(arrange(election,desc(투표수))[i,6]) + sum(arrange(election,desc(투표수))[i,7]) / 2, # y좌표\n",
    "#         paste(round(arrange(election,desc(투표수))[1:5,4+3] / arrange(election,desc(투표수))[1:5,]$electionSum[1:5] * 100,2)[i],\"%\") # text\n",
    "#     )\n",
    "# }\n",
    "\n",
    "for(i in 5) {\n",
    "  text(\n",
    "      1.2*(i-1) + 0.7,\n",
    "      c(sum(t(top5_시군구1)$이재명) / 2, \n",
    "        sum(t(top5_시군구1)$이재명) + sum(t(top5_시군구1)$윤석열) / 2, \n",
    "        sum(t(top5_시군구1)$이재명) + sum(t(top5_시군구1)$윤석열) + sum(t(top5_시군구1)$이재명) / 2),\n",
    "        paste(round(arrange(election,desc(투표수))[i,5:7] / arrange(election,desc(투표수))[i,]$electionSum * 100,2),\"%\") # text\n",
    "  )\n",
    "}"
   ]
  },
  {
   "cell_type": "code",
   "execution_count": null,
   "metadata": {
    "vscode": {
     "languageId": "r"
    }
   },
   "outputs": [],
   "source": [
    "for(i in 1:nrow(arrange(election,desc(투표수))[1:5,])) {\n",
    "    text(1.2*(i-1) + 0.7, # x좌표\n",
    "        sum(arrange(election,desc(투표수))[i, j+2:j+3])*ifelse(j>1,1,0) + arrange(election,desc(투표수))[i,4+j] / 2, # y좌표\n",
    "        paste(round(arrange(election,desc(투표수))[1:5,5:7] / apply(top5_시군구1,1,sum) * 100, 2)[i,j],\"%\") # text\n",
    "        )\n",
    "}"
   ]
  },
  {
   "cell_type": "code",
   "execution_count": null,
   "metadata": {
    "vscode": {
     "languageId": "r"
    }
   },
   "outputs": [],
   "source": [
    "# (1) 벡터로 1개 for문 -> 5번을 반복해야함 -> x좌표를 움직임, y좌표 & 수치값은 벡터로\n",
    "arrange(election,desc(투표수))[1,5:7] # 행을 반복\n"
   ]
  },
  {
   "cell_type": "code",
   "execution_count": null,
   "metadata": {
    "vscode": {
     "languageId": "r"
    }
   },
   "outputs": [],
   "source": [
    "round(arrange(election,desc(투표수))[1:5,5:7] / apply(top5_시군구1,1,sum) * 100, 2)[1,2]"
   ]
  },
  {
   "cell_type": "code",
   "execution_count": null,
   "metadata": {
    "vscode": {
     "languageId": "r"
    }
   },
   "outputs": [],
   "source": [
    "round(top5_시군구1[1:5,] / arrange(election,desc(투표수))[1:5,]$electionSum * 100,2)"
   ]
  },
  {
   "cell_type": "code",
   "execution_count": null,
   "metadata": {
    "vscode": {
     "languageId": "r"
    }
   },
   "outputs": [],
   "source": [
    "paste(round(arrange(election,desc(투표수))[1,5:7] / arrange(election,desc(투표수))[1,]$electionSum * 100,2),\"%\")"
   ]
  },
  {
   "cell_type": "code",
   "execution_count": null,
   "metadata": {
    "vscode": {
     "languageId": "r"
    }
   },
   "outputs": [],
   "source": [
    "for(i in 5) {\n",
    "  text(\n",
    "      1.2*(i-1) + 0.7,\n",
    "      c(sum(t(top5_시군구1)$이재명) / 2, \n",
    "        sum(t(top5_시군구1)$이재명) + sum(t(top5_시군구1)$윤석열) / 2, \n",
    "        sum(t(top5_시군구1)$이재명) + sum(t(top5_시군구1)$윤석열) + sum(t(top5_시군구1)$이재명) / 2),\n",
    "        paste(round(arrange(election,desc(투표수))[1:5,4+j] / arrange(election,desc(투표수))[1:5,]$electionSum[1:5] * 100,2)[i],\"%\") # text\n",
    "  )\n",
    "}"
   ]
  },
  {
   "cell_type": "code",
   "execution_count": null,
   "metadata": {
    "vscode": {
     "languageId": "r"
    }
   },
   "outputs": [],
   "source": [
    "c(sum(t(top5_시군구1)[1,]) / 2, sum(t(top5_시군구1)[1,]) + sum(t(top5_시군구1)[2,1]) / 2, sum(t(top5_시군구1)[1,]) + sum(t(top5_시군구1)[2,1]) + sum(t(top5_시군구1)[3,1]) / 2)"
   ]
  },
  {
   "cell_type": "code",
   "execution_count": null,
   "metadata": {
    "vscode": {
     "languageId": "r"
    }
   },
   "outputs": [],
   "source": [
    "paste(round(arrange(election,desc(투표수))[i,5:7] / arrange(election,desc(투표수))[i,]$electionSum * 100,2),\"%\")"
   ]
  },
  {
   "cell_type": "code",
   "execution_count": null,
   "metadata": {
    "vscode": {
     "languageId": "r"
    }
   },
   "outputs": [],
   "source": [
    "t(top5_시군구1)"
   ]
  }
 ],
 "metadata": {
  "kernelspec": {
   "display_name": "R",
   "language": "R",
   "name": "r"
  },
  "language_info": {
   "codemirror_mode": "r",
   "file_extension": ".r",
   "mimetype": "text/x-r-source",
   "name": "R",
   "pygments_lexer": "r",
   "version": "4.3.3"
  }
 },
 "nbformat": 4,
 "nbformat_minor": 2
}

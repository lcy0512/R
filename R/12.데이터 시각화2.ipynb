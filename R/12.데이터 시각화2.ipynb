{
 "cells": [
  {
   "cell_type": "code",
   "execution_count": null,
   "metadata": {
    "vscode": {
     "languageId": "r"
    }
   },
   "outputs": [],
   "source": [
    "# 기본 옵션\n",
    "options(warn = -1)\n",
    "options(repr.plot.width=15, repr.plot.height=9)\n",
    "options(scipen = 100)\n",
    "Sys.setlocale(category = \"LC_ALL\", locale = \"ko_KR.UTF-8\")\n",
    "\n",
    "# library 불러오기\n",
    "library(stringr)\n",
    "library(plotrix)\n",
    "library(dplyr)\n",
    "library(ggplot2)"
   ]
  },
  {
   "cell_type": "markdown",
   "metadata": {},
   "source": [
    "### 선굵기 변경"
   ]
  },
  {
   "cell_type": "code",
   "execution_count": null,
   "metadata": {
    "vscode": {
     "languageId": "r"
    }
   },
   "outputs": [],
   "source": [
    "par(bg = \"white\")\n",
    "x <- c(1,3,5,2,9,10)\n",
    "plot(\n",
    "    x,\n",
    "    type='b',\n",
    "    col = 'red',\n",
    "    lwd = c(rep(5,2),rep(1,3))\n",
    ")"
   ]
  },
  {
   "cell_type": "code",
   "execution_count": null,
   "metadata": {
    "vscode": {
     "languageId": "r"
    }
   },
   "outputs": [],
   "source": [
    "# 한 화면에 차트 여러개 그려서 비교하기\n",
    "par(bg = \"white\")\n",
    "price <- runif(10,1,100)\n",
    "plot(\n",
    "    price\n",
    ")"
   ]
  },
  {
   "cell_type": "code",
   "execution_count": null,
   "metadata": {
    "vscode": {
     "languageId": "r"
    }
   },
   "outputs": [],
   "source": [
    "# type 속성으로 여러화면 그리기\n",
    "# 2행 2열 차트 그리기\n",
    "par(bg = \"white\")\n",
    "par(mfrow = c(2,2))\n",
    "plot(\n",
    "    price,\n",
    "    type = \"l\",\n",
    ")\n",
    "plot(\n",
    "    price,\n",
    "    type = \"o\",\n",
    ")\n",
    "plot(\n",
    "    price,\n",
    "    type = \"h\",\n",
    ")\n",
    "barplot(\n",
    "    price,\n",
    ")"
   ]
  },
  {
   "cell_type": "code",
   "execution_count": null,
   "metadata": {
    "vscode": {
     "languageId": "r"
    }
   },
   "outputs": [],
   "source": [
    "par(bg = \"white\")\n",
    "par(mfrow = c(2,2))\n",
    "plot(\n",
    "    price,\n",
    "    type = 'o',\n",
    "    pch = 5,\n",
    ")\n",
    "plot(\n",
    "    price,\n",
    "    type = 'o',\n",
    "    pch = 15,\n",
    ")\n",
    "plot(\n",
    "    price,\n",
    "    type = 'o',\n",
    "    pch = 20,\n",
    "    col = 'blue'\n",
    ")\n",
    "plot(\n",
    "    price,\n",
    "    type = 'o',\n",
    "    pch = c(rep(20,8),20,20),\n",
    "    col = 'blue',\n",
    "    cex = c(rep(1,8),3,1)\n",
    ")\n"
   ]
  },
  {
   "cell_type": "markdown",
   "metadata": {},
   "source": [
    "### 중첩 자료 시각화"
   ]
  },
  {
   "cell_type": "code",
   "execution_count": null,
   "metadata": {
    "vscode": {
     "languageId": "r"
    }
   },
   "outputs": [],
   "source": [
    "x <- c(1,2,3,4,2,4)\n",
    "y <- rep(2,6)\n",
    "\n",
    "par(bg = 'white')\n",
    "plot(\n",
    "    x,y,\n",
    ")\n",
    "\n",
    "# 중복 데이터는 크기를 조정"
   ]
  },
  {
   "cell_type": "code",
   "execution_count": null,
   "metadata": {
    "vscode": {
     "languageId": "r"
    }
   },
   "outputs": [],
   "source": [
    "par(bg = 'white')\n",
    "xy.df <- as.data.frame(table(x,y))\n",
    "xy.df\n",
    "\n",
    "plot(\n",
    "    x,y,\n",
    "    pch = 15,\n",
    "    cex = xy.df$Freq\n",
    ")"
   ]
  },
  {
   "cell_type": "code",
   "execution_count": null,
   "metadata": {
    "vscode": {
     "languageId": "r"
    }
   },
   "outputs": [],
   "source": [
    "par(bg = 'white')\n",
    "x <- c(1,1,1,2,2,2,2,2,2,3,3,4,5,6)\n",
    "y <- c(1,1,4,2,3,2,2,2,3,2,1,1,1,1)\n",
    "z <- data.frame(x,y)\n",
    "sunflowerplot(\n",
    "    z,\n",
    ")"
   ]
  },
  {
   "cell_type": "code",
   "execution_count": null,
   "metadata": {
    "vscode": {
     "languageId": "r"
    }
   },
   "outputs": [],
   "source": [
    "# irirs의 Sepal.Length와 Sepal.Width의 중복 확인 산포도\n",
    "par(bg = 'white')\n",
    "sunflowerplot(\n",
    "    iris$Sepal.Length,iris$Sepal.Width,\n",
    "    col = c(\"blue\",\"red\")\n",
    ")"
   ]
  },
  {
   "cell_type": "markdown",
   "metadata": {},
   "source": [
    "### chart 2개를 겹쳐서 출력하기"
   ]
  },
  {
   "cell_type": "code",
   "execution_count": null,
   "metadata": {
    "vscode": {
     "languageId": "r"
    }
   },
   "outputs": [],
   "source": [
    "par(bg = 'white')\n",
    "x <- 1:10\n",
    "dotchart(\n",
    "    x,\n",
    "    col = 'red',\n",
    ")\n",
    "\n",
    "par(new = T) # 현재 차트를 유지하고 다른 차트를 생성한다.\n",
    "\n",
    "y <- c(1,2,1,4,5,2,7,7,2,5)\n",
    "barplot(\n",
    "    y,\n",
    "    col = 'blue',\n",
    ")"
   ]
  },
  {
   "cell_type": "markdown",
   "metadata": {},
   "source": [
    "### 투명도"
   ]
  },
  {
   "cell_type": "code",
   "execution_count": null,
   "metadata": {
    "vscode": {
     "languageId": "r"
    }
   },
   "outputs": [],
   "source": [
    "par(bg = 'white')\n",
    "x <- 1:10\n",
    "mycol <- rgb(0.2,0.8,1,seq(0.1,0.6,0.05))\n",
    "dotchart(\n",
    "    x,\n",
    "    col = 'red',\n",
    ")\n",
    "par(new = T)\n",
    "barplot(\n",
    "    x,\n",
    "    col = mycol,\n",
    ")"
   ]
  },
  {
   "cell_type": "markdown",
   "metadata": {},
   "source": [
    "### 상자 수염 그래프"
   ]
  },
  {
   "cell_type": "code",
   "execution_count": null,
   "metadata": {
    "vscode": {
     "languageId": "r"
    }
   },
   "outputs": [],
   "source": [
    "par(bg = 'white')\n",
    "abc <- c(110,300,150,280,310)\n",
    "boxplot(\n",
    "    abc\n",
    ")"
   ]
  },
  {
   "cell_type": "code",
   "execution_count": null,
   "metadata": {
    "vscode": {
     "languageId": "r"
    }
   },
   "outputs": [],
   "source": [
    "par(bg = 'white')\n",
    "boxplot(\n",
    "    abc,\n",
    "    col = \"Yellow\",\n",
    "    horizontal = TRUE\n",
    ")"
   ]
  },
  {
   "cell_type": "code",
   "execution_count": null,
   "metadata": {
    "vscode": {
     "languageId": "r"
    }
   },
   "outputs": [],
   "source": [
    "jkl <- c(1,1,1,1,1,2,5)\n",
    "par(bg = 'white')\n",
    "boxplot(jkl)"
   ]
  },
  {
   "cell_type": "code",
   "execution_count": null,
   "metadata": {
    "vscode": {
     "languageId": "r"
    }
   },
   "outputs": [],
   "source": [
    "# 자동차의 제동거리\n",
    "data(cars)"
   ]
  },
  {
   "cell_type": "code",
   "execution_count": null,
   "metadata": {
    "vscode": {
     "languageId": "r"
    }
   },
   "outputs": [],
   "source": [
    "par(bg = 'white')\n",
    "sunflowerplot(\n",
    "    cars,\n",
    ")"
   ]
  },
  {
   "cell_type": "code",
   "execution_count": null,
   "metadata": {
    "vscode": {
     "languageId": "r"
    }
   },
   "outputs": [],
   "source": [
    "par(bg = 'white')\n",
    "hist(cars$dist)\n",
    "boxplot(cars$dist)"
   ]
  },
  {
   "cell_type": "code",
   "execution_count": null,
   "metadata": {
    "vscode": {
     "languageId": "r"
    }
   },
   "outputs": [],
   "source": [
    "summary(cars$dist)\n",
    "summary(cars$dist[-49])"
   ]
  },
  {
   "cell_type": "code",
   "execution_count": null,
   "metadata": {
    "vscode": {
     "languageId": "r"
    }
   },
   "outputs": [],
   "source": [
    "quantile(cars$dist,0.75) - quantile(cars$dist,0.25)\n",
    "max(cars$dist) - (quantile(cars$dist,0.75) - quantile(cars$dist,0.25))"
   ]
  },
  {
   "cell_type": "code",
   "execution_count": null,
   "metadata": {
    "vscode": {
     "languageId": "r"
    }
   },
   "outputs": [],
   "source": [
    "par(bg = \"white\")\n",
    "boxplot(\n",
    "    iris$Sepal.Width,\n",
    "    horizontal = T\n",
    "    )"
   ]
  },
  {
   "cell_type": "markdown",
   "metadata": {},
   "source": [
    "# 기타 그래프"
   ]
  },
  {
   "cell_type": "code",
   "execution_count": null,
   "metadata": {
    "vscode": {
     "languageId": "r"
    }
   },
   "outputs": [],
   "source": [
    "par(bg = 'white', family = 'AppleGothic')\n",
    "\n",
    "x <- c( 1,  3,  6,  8, 9)\n",
    "y <- c(12, 56, 78, 32, 9)\n",
    "\n",
    "plot(x,y)\n",
    "# (3,3)과 (4,4)를 연결하는 선분 그리기\n",
    "segments(6,78, 8,32)\n",
    "\n",
    "# 화살표 그리기\n",
    "arrows(3,56, 1,12, col=\"red\")\n",
    "\n",
    "# 사각형 그리기\n",
    "rect(4,20,6,40,density = 15, col=\"DARKGREEN\",border = \"RED\")\n",
    "\n",
    "# 글자 쓰기\n",
    "text(5,40, \"ㅋㅋㅋㅋㅋㅋㅋㅋㅋ\",srt=50)\n",
    "\n",
    "# 테두리 활용하기\n",
    "mtext(\"이천영\", side = 3, adj = 1,cex = 2)\n",
    "\n",
    "# 그림의 테두리 그리기\n",
    "box(lty = 1, col = \"yellow\")\n",
    "\n",
    "# x축의 추가, y축의 50 위치에 0 ~ 10까지 표시하고 색은 빨간색\n",
    "axis(1,pos = 50, at=1:9,col = \"HOTPINK\")\n",
    "\n",
    "# y축의 추가, x축의 6 위치에 20 ~ 60 까지 표시하고 색은 파란색\n",
    "axis(2,pos = 6,at = 20:60,col = \"blue\")"
   ]
  },
  {
   "cell_type": "code",
   "execution_count": null,
   "metadata": {
    "vscode": {
     "languageId": "r"
    }
   },
   "outputs": [],
   "source": [
    "election <- read.csv(\"Data/election_2022_job.csv\")\n",
    "top5_시군구1 <- arrange(election,desc(투표수))[1:5,5:7]\n",
    "rownames(top5_시군구1) <- paste(arrange(election,desc(투표수))$광역시도,arrange(election,desc(투표수))$시군구)[1:5]\n",
    "\n",
    "par(bg = \"white\",family = \"AppleGothic\")\n",
    "barplot(\n",
    "    main = \"투표수 높은 지역의 후보별 투표수\",\n",
    "    t(top5_시군구1),\n",
    "    ylim = c(0,600000),\n",
    "    legend.text = T,\n",
    "    col = c(\"SKYBLUE\",\"RED\",\"YELLOW\")\n",
    ")\n",
    "\n",
    "for(i in 1:nrow(arrange(election,desc(투표수))[1:5,])) {\n",
    "    text(1.2*(i-1) + 0.7, # x좌표\n",
    "         arrange(election,desc(투표수))[1:5,]$electionSum[i]+10000, # y좌표\n",
    "         arrange(election,desc(투표수))[1:5,]$electionSum[i] # text\n",
    "         )\n",
    "}"
   ]
  },
  {
   "cell_type": "code",
   "execution_count": null,
   "metadata": {
    "vscode": {
     "languageId": "r"
    }
   },
   "outputs": [],
   "source": [
    "election <- read.csv(\"Data/election_2022_job.csv\")\n",
    "top5_시군구1 <- arrange(election,desc(투표수))[1:5,]\n",
    "rownames(top5_시군구1) <- paste(arrange(election,desc(투표수))$광역시도,arrange(election,desc(투표수))$시군구)[1:5]\n",
    "\n",
    "par(bg = \"white\",family = \"AppleGothic\")\n",
    "barplot(\n",
    "    main = \"투표수 높은 지역의 후보별 투표수\",\n",
    "    t(top5_시군구1[,5:7]),\n",
    "    ylim = c(0,600000),\n",
    "    legend.text = T,\n",
    "    col = c(\"SKYBLUE\",\"RED\",\"YELLOW\")\n",
    ")\n",
    "\n",
    "for(i in 1:5) {\n",
    "    # 이재명\n",
    "    text(\n",
    "        1.2*(i-1) + 0.7, # x좌표\n",
    "        sum(top5_시군구1[i,5]) / 2, # y좌표\n",
    "        paste(round(top5_시군구1[1:5,5] / top5_시군구1[1:5,]$electionSum[1:5] * 100,2)[i],\"%\") # text\n",
    "    )\n",
    "\n",
    "    # 윤석열\n",
    "    text(\n",
    "        1.2*(i-1) + 0.7, # x좌표\n",
    "        sum(top5_시군구1[i,5]) + sum(top5_시군구1[i,6]) / 2, # y좌표\n",
    "        paste(round(top5_시군구1[1:5,6] / top5_시군구1[1:5,]$electionSum[1:5] * 100,2)[i],\"%\") # text\n",
    "    )\n",
    "\n",
    "    # 심상정\n",
    "    text(\n",
    "        1.2*(i-1) + 0.7, # x좌표\n",
    "        sum(top5_시군구1[i,5]) + sum(top5_시군구1[i,6]) + sum(top5_시군구1[i,7]) / 2, # y좌표\n",
    "        paste(round(top5_시군구1[1:5,7] / top5_시군구1[1:5,]$electionSum[1:5] * 100,2)[i],\"%\") # text\n",
    "    )\n",
    "}"
   ]
  },
  {
   "cell_type": "code",
   "execution_count": null,
   "metadata": {
    "vscode": {
     "languageId": "r"
    }
   },
   "outputs": [],
   "source": [
    "qplot(\n",
    "    Sepal.Length, Petal.Length, \n",
    "    data = iris, \n",
    "    col=Species\n",
    ")"
   ]
  },
  {
   "cell_type": "code",
   "execution_count": null,
   "metadata": {
    "vscode": {
     "languageId": "r"
    }
   },
   "outputs": [],
   "source": [
    "qplot(\n",
    "    Sepal.Length, Petal.Length, \n",
    "    data = iris, \n",
    "    col=Species,\n",
    "    size = Petal.Width\n",
    ")"
   ]
  },
  {
   "cell_type": "markdown",
   "metadata": {},
   "source": [
    "## 수학 함수의 시각화\n",
    "### y = x^2"
   ]
  },
  {
   "cell_type": "code",
   "execution_count": null,
   "metadata": {
    "vscode": {
     "languageId": "r"
    }
   },
   "outputs": [],
   "source": [
    "f <- function(x) {\n",
    "    y = x^2\n",
    "    return(y)\n",
    "}"
   ]
  },
  {
   "cell_type": "code",
   "execution_count": null,
   "metadata": {
    "vscode": {
     "languageId": "r"
    }
   },
   "outputs": [],
   "source": [
    "x <- c(1,2,3)\n",
    "f(x)"
   ]
  },
  {
   "cell_type": "code",
   "execution_count": null,
   "metadata": {
    "vscode": {
     "languageId": "r"
    }
   },
   "outputs": [],
   "source": [
    "par(bg = 'white', family = \"applegothic\")\n",
    "x <- seq(-5,5,0.1)\n",
    "plot(\n",
    "    x,f(x),\n",
    "    type = 'l',\n",
    "    ylim = c(0,30)\n",
    "    )"
   ]
  },
  {
   "cell_type": "code",
   "execution_count": null,
   "metadata": {
    "vscode": {
     "languageId": "r"
    }
   },
   "outputs": [],
   "source": [
    "g <- function(x) {\n",
    "    y = exp(-x) - 4*x^2 + x + 3*abs(x) - 3\n",
    "    return(y)\n",
    "}"
   ]
  },
  {
   "cell_type": "code",
   "execution_count": null,
   "metadata": {
    "vscode": {
     "languageId": "r"
    }
   },
   "outputs": [],
   "source": [
    "par(bg = 'white', family = \"applegothic\")\n",
    "plot(\n",
    "    x,g(x),\n",
    "    type = 'l'\n",
    ")"
   ]
  },
  {
   "cell_type": "code",
   "execution_count": null,
   "metadata": {
    "vscode": {
     "languageId": "r"
    }
   },
   "outputs": [],
   "source": [
    "# y = x^2 + 2x + 3\n",
    "h <- function(parameters) {\n",
    "   y = x^2 + 2*x + 3\n",
    "   return(y)\n",
    "}\n",
    "\n",
    "par(bg = 'white')\n",
    "plot(\n",
    "    x,h(x),\n",
    "    type = 'l'\n",
    ")\n",
    "\n",
    "axis(2,pos = 0, at = 0:40)"
   ]
  },
  {
   "cell_type": "code",
   "execution_count": null,
   "metadata": {
    "vscode": {
     "languageId": "r"
    }
   },
   "outputs": [],
   "source": [
    "# 데이터 불러오기\n",
    "crime <- read.csv(\"Data/서울시 5대 범죄발생 현황.csv\")\n",
    "# 불필요한 행,열 제거\n",
    "crime <- crime[-c(1:3),-c(2,4,5)]\n",
    "# 열의 이름 변경\n",
    "colnames(crime) <- c(\"발생년도\",\"자치구별\",\"살인발생\",\"살인검거\",\"강도발생\",\"강도검거\",\"강간/강제추행발생\",\"강간/강제추행검거\",\"절도발생\",\"절도검거\",\"폭력발생\",\"폭력검거\")\n",
    "# 데이터 중 소계항목 제거\n",
    "rownames(crime) <- c()\n",
    "subset(crime,자치구별 == \"소계\")\n",
    "crime <- crime[-c(26,52,78),]\n",
    "rownames(crime) <- c()\n",
    "# 결측치를 0으로 변경\n",
    "for(i in 3:12) {\n",
    "    cat(i,\"번째 열('-' 확인) : \",nrow(subset(crime,crime[,i] == \"-\")),\"\\n\")\n",
    "    if(nrow(subset(crime,crime[,i] == \"-\")) > 0) {\n",
    "        crime[,i] <- str_replace_all(crime[,i],\"-\",\"0\")\n",
    "        cat(i,\"번째 열 변경\",\"\\n\")\n",
    "    }\n",
    "}\n",
    "# numeric type으로 변경\n",
    "for(i in 3:12) {\n",
    "    crime[,i] <- as.numeric(crime[,i])\n",
    "}\n",
    "\n",
    "# 결측치 확인\n",
    "for(i in 3:12) {\n",
    "    cat(i,\"번째 :\",sum(is.na(crime[,i])),\"\\n\")\n",
    "}\n",
    "---\n",
    "# 연도별로 폭력 발생이 가장 높은 자치구\n",
    "arrange(subset(crime,발생년도 == '2019'),desc(폭력발생))[1:5,]\n",
    "arrange(subset(crime,발생년도 == '2020'),desc(폭력발생))[1:5,]\n",
    "arrange(subset(crime,발생년도 == '2021'),desc(폭력발생))[1:5,]\n",
    "arrange(subset(crime,발생년도 == '2022'),desc(폭력발생))[1:5,]\n",
    "# 연도별로 폭력 발생이 가장 낮은 자치구\n",
    "arrange(subset(crime,발생년도 == '2019'),desc(폭력발생))[21:25,]\n",
    "arrange(subset(crime,발생년도 == '2020'),desc(폭력발생))[21:25,]\n",
    "arrange(subset(crime,발생년도 == '2021'),desc(폭력발생))[21:25,]\n",
    "arrange(subset(crime,발생년도 == '2022'),desc(폭력발생))[21:25,]\n",
    "\n",
    "# 연도별 상위 TOP4에는 공통적으로 강남,영등포,송파,관악이 포함되어있었다!!\n",
    "crime_top4 <- rbind(\n",
    "                    arrange(subset(crime,발생년도 == '2019'),desc(폭력발생))[1:4,],\n",
    "                    arrange(subset(crime,발생년도 == '2020'),desc(폭력발생))[1:4,],\n",
    "                    arrange(subset(crime,발생년도 == '2021'),desc(폭력발생))[1:4,],\n",
    "                    arrange(subset(crime,발생년도 == '2022'),desc(폭력발생))[1:4,]\n",
    "                    )\n",
    "crime_top4$발생년도 <- as.numeric(crime_top4$발생년도)\n",
    "\n",
    "# 또한 연도별 하위 TOP3에는 서대문구,도봉구,성동구는 포함되어있었다!!\n",
    "crime_bottom3 <- rbind(\n",
    "                    arrange(subset(crime,발생년도 == '2019'),desc(폭력발생))[23:25,],\n",
    "                    arrange(subset(crime,발생년도 == '2020'),desc(폭력발생))[23:25,],\n",
    "                    arrange(subset(crime,발생년도 == '2021'),desc(폭력발생))[23:25,],\n",
    "                    arrange(subset(crime,발생년도 == '2022'),desc(폭력발생))[23:25,]\n",
    "                    )\n",
    "crime_bottom3$발생년도 <- as.numeric(crime_bottom3$발생년도)\n",
    "------\n",
    "# 차트 크기 조정\n",
    "options(repr.plot.width=40, repr.plot.height=9)\n",
    "\n",
    "# 2019년 폭력 발생이 가장 높은 지역 TOP5\n",
    "par(bg = 'white',family = \"applegothic\")\n",
    "par(mfrow = c(1,3))\n",
    "\n",
    "pie3D(\n",
    "    arrange(subset(crime,발생년도 == '2019'),desc(폭력발생))[1:5,11],\n",
    "    labels = paste(\n",
    "        arrange(subset(crime,발생년도 == '2019'),desc(폭력발생))[1:5,2],\"\\n\",\n",
    "        round(arrange(subset(crime,발생년도 == '2019'),desc(폭력발생))[1:5,11] / sum(arrange(subset(crime,발생년도 == '2019'),desc(폭력발생))[1:5,11]) * 100,2),\"%\"),\n",
    "    labelcex = 1.8,\n",
    "    radius = 0.9,\n",
    "    col = c('red','yellow','green','skyblue','purple')\n",
    ")\n",
    "title(\n",
    "    main = \"2019년 서울특별시 폭력 발생이 가장 높은 자치구 TOP5\",\n",
    "    cex.main = 3\n",
    ")\n",
    "# 결과 : 2019년에 가장 많이 발생한 5곳의 자치구들을 살펴본 결과, 강남구는 그 중에서도 비율이 가장 높았다.\n",
    "\n",
    "# 2019년 폭력 발생이 가장 낮은 지역 TOP5\n",
    "par(bg = 'white',family = \"applegothic\")\n",
    "\n",
    "pie3D(\n",
    "    arrange(subset(crime,발생년도 == '2019'),desc(폭력발생))[21:25,11],\n",
    "    labels = paste(\n",
    "        arrange(subset(crime,발생년도 == '2019'),desc(폭력발생))[21:25,2],\"\\n\",\n",
    "        round(arrange(subset(crime,발생년도 == '2019'),desc(폭력발생))[21:25,11] / sum(arrange(subset(crime,발생년도 == '2019'),desc(폭력발생))[21:25,11]) * 100,2),\"%\"),\n",
    "    labelcex = 1.8,\n",
    "    radius = 0.9,\n",
    "    col = c('red','yellow','green','skyblue','purple')\n",
    ")\n",
    "title(\n",
    "    main = \"2019년 서울특별시 폭력 발생이 가장 낮은 자치구 TOP5\",\n",
    "    cex.main = 3\n",
    ")\n",
    "# 결과 : 2019년에 가장 적게 발생한 5곳의 자치구들을 살펴본 결과, 도봉구는 그 중에서도 비율이 가장 높았다.\n",
    "\n",
    "par(bg = 'white',family = \"applegothic\")\n",
    "\n",
    "pie3D(\n",
    "    arrange(subset(crime,발생년도 == '2019'),desc(폭력발생))[c(1:5,21:25),11],\n",
    "    labels = paste(\n",
    "        arrange(subset(crime,발생년도 == '2019'),desc(폭력발생))[c(1:5,21:25),2],\"\\n\",\n",
    "        round(arrange(subset(crime,발생년도 == '2019'),desc(폭력발생))[c(1:5,21:25),11] / sum(arrange(subset(crime,발생년도 == '2019'),desc(폭력발생))[c(1:5,21:25),11]) * 100,2),\"%\"),\n",
    "    labelcex = 1.8,\n",
    "    radius = 0.9,\n",
    ")\n",
    "title(\n",
    "    main = \"2019년 서울특별시 폭력 발생 상위 5지구, 하위 5지구\",\n",
    "    cex.main = 3\n",
    ")\n",
    "\n",
    "# 2019년의 강남구와 도봉구의 유흥업소를 비교\n",
    "---\n",
    "# 2022년 폭력 발생이 가장 높은 지역 TOP5\n",
    "par(bg = 'white',family = \"applegothic\")\n",
    "par(mfrow = c(1,3))\n",
    "pie3D(\n",
    "    arrange(subset(crime,발생년도 == '2022'),desc(폭력발생))[1:5,11],\n",
    "    labels = paste(\n",
    "        arrange(subset(crime,발생년도 == '2022'),desc(폭력발생))[1:5,2],\"\\n\",\n",
    "        round(arrange(subset(crime,발생년도 == '2022'),desc(폭력발생))[1:5,11] / sum(arrange(subset(crime,발생년도 == '2022'),desc(폭력발생))[1:5,11]) * 100,2),\"%\"),\n",
    "    labelcex = 1.8,\n",
    "    radius = 0.9,\n",
    "    col = c('red','green','skyblue','yellow','violet')\n",
    ")\n",
    "title(\n",
    "    main = \"2022년 서울특별시 폭력 발생이 가장 높은 자치구 TOP5\",\n",
    "    cex.main = 3\n",
    ")\n",
    "\n",
    "# 2019년 폭력 발생이 가장 낮은 지역 TOP5\n",
    "pie3D(\n",
    "    arrange(subset(crime,발생년도 == '2022'),desc(폭력발생))[21:25,11],\n",
    "    labels = paste(\n",
    "        arrange(subset(crime,발생년도 == '2022'),desc(폭력발생))[21:25,2],\"\\n\",\n",
    "        round(arrange(subset(crime,발생년도 == '2022'),desc(폭력발생))[21:25,11] / sum(arrange(subset(crime,발생년도 == '2022'),desc(폭력발생))[21:25,11]) * 100,2),\"%\"),\n",
    "    labelcex = 1.8,\n",
    "    radius = 0.9,\n",
    "    col = c('red','yellow','green','skyblue','purple')\n",
    ")\n",
    "title(\n",
    "    main = \"2022년 서울특별시 폭력 발생이 가장 낮은 자치구 TOP5\",\n",
    "    cex.main = 3\n",
    ")\n",
    "\n",
    "\n",
    "pie3D(\n",
    "    arrange(subset(crime,발생년도 == '2022'),desc(폭력발생))[c(1:5,21:25),11],\n",
    "    labels = paste(\n",
    "        arrange(subset(crime,발생년도 == '2022'),desc(폭력발생))[c(1:5,21:25),2],\"\\n\",\n",
    "        round(arrange(subset(crime,발생년도 == '2022'),desc(폭력발생))[c(1:5,21:25),11] / sum(arrange(subset(crime,발생년도 == '2022'),desc(폭력발생))[c(1:5,21:25),11]) * 100,2),\"%\"),\n",
    "    labelcex = 1.8,\n",
    "    radius = 0.9,\n",
    ")\n",
    "title(\n",
    "    main = \"2022년 서울특별시 폭력 발생 상위 5지구, 하위 5지구\",\n",
    "    cex.main = 3\n",
    ")\n",
    "--\n",
    "# 2019년 ~ 2022년 사이 폭력사건이 가장 많이 발생한 지역 TOP 5을 선정하였을때, \n",
    "# 강남구,송파구,관악구,영등포구 이 4개의 자치구들은 항상 포함되어 있었음.\n",
    "# 이 4개의 자치구들을 꺾은선 그래프를 통해 비교.\n",
    "par(bg = 'white',family = \"applegothic\")\n",
    "plot(\n",
    "    subset(crime_top4,자치구별 == '강남구')[,c(1,11)],\n",
    "    type = 'o',\n",
    "    col = 'red',\n",
    "    axes = F,\n",
    "    ann = F,\n",
    "    lwd = 2,\n",
    "    ylim = c(0,5000),\n",
    "    pch = 2,\n",
    "    ylab = '발생건수'\n",
    ")\n",
    "\n",
    "text(\n",
    "    c(2019:2022),\n",
    "    subset(crime_top4,자치구별 == '강남구')[,c(11)] + 200,\n",
    "    subset(crime_top4,자치구별 == '강남구')[,c(11)],\n",
    "    col = 'red'\n",
    ")\n",
    "\n",
    "text(\n",
    "    c(2019:2022),\n",
    "    c(subset(crime_top4,자치구별 == '영등포구')[,c(11)][1:2] + 200, subset(crime_top4,자치구별 == '영등포구')[,c(11)][3:4] - 200),\n",
    "    subset(crime_top4,자치구별 == '영등포구')[,c(11)],\n",
    "    col = 'darkgreen'\n",
    ")\n",
    "\n",
    "title(\n",
    "    main = \"연도별 상위 4개 자치구의 폭행발생수\",\n",
    "    cex.main = 3.1,\n",
    ")\n",
    "axis(1,at = 2019:2022,xlab='연도')\n",
    "axis(2)\n",
    "\n",
    "lines(\n",
    "    subset(crime_top4,자치구별 == '송파구')[,c(1,11)],\n",
    "    type = 'o',\n",
    "    col = 'BLUE',\n",
    "    lwd = 2,\n",
    "    pch = 1,\n",
    ")\n",
    "\n",
    "lines(\n",
    "    subset(crime_top4,자치구별 == '관악구')[,c(1,11)],\n",
    "    type = 'o',\n",
    "    col = 'BLACK',\n",
    "    lwd = 2,\n",
    "    pch = 4\n",
    ")\n",
    "\n",
    "lines(\n",
    "    subset(crime_top4,자치구별 == '영등포구')[,c(1,11)],\n",
    "    type = 'o',\n",
    "    col = 'darkgreen',\n",
    "    lwd = 2,\n",
    "    pch = 7\n",
    ")\n",
    "\n",
    "legend(\n",
    "    \"bottomright\",\n",
    "    legend = c(\"강남구\",\"송파구\",\"관악구\",\"영등포구\"),\n",
    "    lty = 1,\n",
    "    col = c(\"red\",\"blue\",\"black\",\"darkgreen\"),\n",
    "    pch = c(2,1,4,7)\n",
    ")\n",
    "\n",
    "mtext(\"2024-03-12\", side = 3, adj = 1, cex = 1)\n",
    "---\n",
    "### 4개년을 비교하였을때, 강남구는 항상 1등에 위치한다.\n",
    "### 송파구와 관악구는 유의미한 변동이 존재하지 않지만, 영등포구는 하향세를 띄고 있다.\n",
    "### 또한 상위 4지역을 비교하였을때, 3지역은 차이가 크지 않지만 강남은 다른지역들과 차이가 많다.\n",
    "\n",
    "---\n",
    "\n",
    "# 서대문구,도봉구,성동구\n",
    "par(bg = 'white',family = \"applegothic\")\n",
    "plot(\n",
    "    subset(crime_bottom3,자치구별 == '성동구')[,c(1,11)],\n",
    "    type = 'o',\n",
    "    col = 'red',\n",
    "    axes = F,\n",
    "    ann = F,\n",
    "    lwd = 2,\n",
    "    pch = 2,\n",
    "    ylim = c(0,2000)\n",
    ")\n",
    "\n",
    "title(\n",
    "    main = \"연도별 폭행발생수 하위 3 자치구\",\n",
    "    cex.main = 3.1,\n",
    ")\n",
    "\n",
    "axis(1,at = 2019:2022)\n",
    "axis(2)\n",
    "\n",
    "\n",
    "lines(\n",
    "    subset(crime_bottom3,자치구별 == '서대문구')[,c(1,11)],\n",
    "    type = 'o',\n",
    "    col = 'BLACK',\n",
    "    lwd = 2,\n",
    "    pch = 4\n",
    ")\n",
    "text(\n",
    "    c(2019:2022),\n",
    "    subset(crime_bottom3,자치구별 == '서대문구')[,c(11)] + 100,\n",
    "    subset(crime_bottom3,자치구별 == '서대문구')[,c(11)],\n",
    "    col = 'BLACK'\n",
    ")\n",
    "\n",
    "lines(\n",
    "    subset(crime_bottom3,자치구별 == '도봉구')[,c(1,11)],\n",
    "    type = 'o',\n",
    "    col = 'BLUE',\n",
    "    lwd = 2,\n",
    "    pch = 1,\n",
    ")\n",
    "text(\n",
    "    c(2019:2022),\n",
    "    subset(crime_bottom3,자치구별 == '도봉구')[,c(11)][1:4] - 100,\n",
    "    subset(crime_bottom3,자치구별 == '도봉구')[,c(11)],\n",
    "    col = 'BLUE'\n",
    ")\n",
    "\n",
    "legend(\n",
    "    \"bottomright\",\n",
    "    legend = c(\"서대문구\",\"성동구\",\"도봉구\"),\n",
    "    lty = 1,\n",
    "    col = c(\"black\",\"red\",\"blue\"),\n",
    "    pch = c(4,2,1)\n",
    ")\n",
    "\n",
    "---\n",
    "par(bg = 'white',family = \"applegothic\")\n",
    "plot(\n",
    "    subset(crime_top4,자치구별 == '강남구')[,c(1,11)],\n",
    "    type = 'o',\n",
    "    col = 'red',\n",
    "    axes = F,\n",
    "    ann = F,\n",
    "    lwd = 2,\n",
    "    ylim = c(0,5000),\n",
    "    pch = 2,\n",
    "    xlab = \"연도\",\n",
    "    ylab = \"발생건수\"\n",
    ")\n",
    "text(\n",
    "    c(2019:2022),\n",
    "    subset(crime_top4,자치구별 == '강남구')[,c(11)] + 200,\n",
    "    subset(crime_top4,자치구별 == '강남구')[,c(11)],\n",
    "    col = 'red'\n",
    ")\n",
    "\n",
    "title(\n",
    "    main = \"연도별 강남구와 도봉구의 폭행발생수\",\n",
    "    cex.main = 3.1,\n",
    ")\n",
    "axis(1,at = 2019:2022)\n",
    "axis(2)\n",
    "\n",
    "lines(\n",
    "    subset(crime_bottom3,자치구별 == '도봉구')[,c(1,11)],\n",
    "    type = 'o',\n",
    "    col = 'BLUE',\n",
    "    lwd = 2,\n",
    "    pch = 1,\n",
    ")\n",
    "text(\n",
    "    c(2019:2022),\n",
    "    subset(crime_bottom3,자치구별 == '도봉구')[,c(11)][1:4] - 200,\n",
    "    subset(crime_bottom3,자치구별 == '도봉구')[,c(11)],\n",
    "    col = 'BLUE'\n",
    ")\n",
    "legend(\n",
    "    \"bottomright\",\n",
    "    legend = c(\"강남구\",\"도봉구\"),\n",
    "    pch = c(2,1),\n",
    "    lty = 1,\n",
    "    col = c('red','blue')\n",
    ")\n",
    "---\n",
    "# 파일 불러오기\n",
    "store_강남 <- read.csv(\"Data/서울 강남 유흥주점.csv\",fileEncoding = \"EUC-KR\")\n",
    "\n",
    "# 삭제 컬럼 번지 : 1,2, 4,5,6,7,  10,11,12,13,14,15,  17,18,  21,22,  24,25,26,27,28,29,30,31,32,33,34,35,36,37,38,39,40,41,42,43,44\n",
    "# 남은 컬럼 번지 : 3,8,9,16,19,20,23\n",
    "store_강남 <- store_강남[,-c(1:2,4:7,10:15,17:18,21:22,24:44)]\n",
    "\n",
    "# 인허가일자,폐업일자,최종수정일자 포맷 변경(YYYYMMDD)\n",
    "store_강남$인허가일자 <- str_replace_all(store_강남$인허가일자,\"-\",\"\")\n",
    "store_강남$폐업일자 <- str_replace_all(store_강남$폐업일자,\"-\",\"\")\n",
    "store_강남$최종수정일자 <- str_replace_all(store_강남$최종수정일자,\"-\",\"\")\n",
    "\n",
    "# 최종수정일자 시,분,초 제외\n",
    "store_강남$최종수정일자 <- substr(store_강남$최종수정일자,1,10)\n",
    "\n",
    "---\n",
    "\n",
    "## 2019년에 강남에서 영업중이였던 유흥주점의 수\n",
    "### 조건\n",
    "1. 현재 영업중이면서 2018-12-31 이전에 인허가를 받았어야함.\n",
    "2. 현재 폐업이라면, 2020-01-01 이후 폐업한 유흥주점.\n",
    "\n",
    "# 1. 현재 영업중이면서, 2018-12-31 이전에 인허가를 받은 곳\n",
    "sum(subset(store_강남,상세영업상태명 == \"영업\")$인허가일자 < 20181231)\n",
    "# 2018-12-31 이전에 인허가를 받은 곳 : 140\n",
    "\n",
    "# 2. 현재 폐업이라면, 2020-01-01 이후에 폐업한 곳\n",
    "sum(subset(store_강남,상세영업상태명 == \"폐업\")$폐업일자 >= 20200101)\n",
    "# 2020-01-01 이후에 폐업한 곳 : 70\n",
    "\n",
    "# 따라서 2019-01-01 ~ 2019-12-31 사이에 영업중이였던 유흥주점 : 210\n",
    "\n",
    "# 2020-01-01 ~ 2020-12-31 - 201곳\n",
    "sum(subset(store_강남,상세영업상태명 == \"영업\")$인허가일자 < 20191231)\n",
    "sum(subset(store_강남,상세영업상태명 == \"폐업\")$폐업일자 >= 20210101)\n",
    "\n",
    "# 2021-01-01 ~ 2021-12-31 - 176곳\n",
    "sum(subset(store_강남,상세영업상태명 == \"영업\")$인허가일자 < 20201231)\n",
    "sum(subset(store_강남,상세영업상태명 == \"폐업\")$폐업일자 >= 20220101)\n",
    "\n",
    "# 2022-01-01 ~ 2022-12-31 - 174곳\n",
    "sum(subset(store_강남,상세영업상태명 == \"영업\")$인허가일자 < 20211231)\n",
    "sum(subset(store_강남,상세영업상태명 == \"폐업\")$폐업일자 >= 20230101)\n",
    "\n",
    "store_강남_년도별 <- data_frame('2019' = 210, '2020' = 201, '2021' = 176, '2022' = 174)\n",
    "\n",
    "---\n",
    "\n",
    "par(family = \"AppleGothic\",bg = \"white\")\n",
    "barplot(\n",
    "    as.integer(store_강남_년도별),\n",
    "    names = c(2019:2022),\n",
    "    ylim = c(0,250),\n",
    "    col = 'yellow2',\n",
    "    xlab = '연도',\n",
    "    ylab = '개수'\n",
    ")\n",
    "mtext(\"2024-03-12\", side = 3, adj = 1, cex = 1)\n",
    "title(\n",
    "    main = \"2019 ~ 2022 강남구 유흥주점 수\",\n",
    "    cex.main = 3\n",
    ")\n",
    "text(\n",
    "    c(0.7,1.9,3.1,4.3,5.5),as.integer(store_강남_년도별) / 2,as.integer(store_강남_년도별),\n",
    "    col = c('black',rep('blue',1,3)),\n",
    "    cex = 3\n",
    ")\n",
    "\n",
    "-\n",
    "store_도봉 <- read.csv(\"Data/서울 도봉 유흥주점.csv\",fileEncoding = \"EUC-KR\")\n",
    "\n",
    "# 삭제 컬럼 번지 : 1,2, 4,5,6,7,  10,11,12,13,14,15,  17,18,  21,22,  24,25,26,27,28,29,30,31,32,33,34,35,36,37,38,39,40,41,42,43,44\n",
    "# 남은 컬럼 번지 : 3,8,9,16,19,20,23\n",
    "store_도봉 <- store_도봉[,-c(1:2,4:7,10:15,17:18,21:22,24:44)]\n",
    "\n",
    "# 인허가일자,폐업일자,최종수정일자 포맷 변경(YYYYMMDD)\n",
    "store_도봉$인허가일자 <- str_replace_all(store_도봉$인허가일자,\"-\",\"\")\n",
    "store_도봉$폐업일자 <- str_replace_all(store_도봉$폐업일자,\"-\",\"\")\n",
    "store_도봉$최종수정일자 <- str_replace_all(store_도봉$최종수정일자,\"-\",\"\")\n",
    "\n",
    "# 최종수정일자 시,분,초 제외\n",
    "store_도봉$최종수정일자 <- substr(store_도봉$최종수정일자,1,10)\n",
    "-\n",
    "# 1. 현재 영업중이면서, 2018-12-31 이전에 인허가를 받은 곳\n",
    "sum(subset(store_도봉,상세영업상태명 == \"영업\")$인허가일자 < 20181231)\n",
    "# 2018-12-31 이전에 인허가를 받은 곳 : 19\n",
    "\n",
    "# 2. 현재 폐업이라면, 2020-01-01 이후에 폐업한 곳\n",
    "sum(subset(store_도봉,상세영업상태명 == \"폐업\")$폐업일자 >= 20200101)\n",
    "# 2020-01-01 이후에 폐업한 곳 : 4\n",
    "\n",
    "# 따라서 2019-01-01 ~ 2019-12-31 사이에 영업중이였던 유흥주점 : 210\n",
    "\n",
    "# 2020-01-01 ~ 2020-12-31 - 23곳\n",
    "sum(subset(store_도봉,상세영업상태명 == \"영업\")$인허가일자 < 20191231)\n",
    "sum(subset(store_도봉,상세영업상태명 == \"폐업\")$폐업일자 >= 20210101)\n",
    "\n",
    "# 2021-01-01 ~ 2021-12-31 - 21곳\n",
    "sum(subset(store_도봉,상세영업상태명 == \"영업\")$인허가일자 < 20201231)\n",
    "sum(subset(store_도봉,상세영업상태명 == \"폐업\")$폐업일자 >= 20220101)\n",
    "\n",
    "# 2022-01-01 ~ 2022-12-31 - 21곳\n",
    "sum(subset(store_도봉,상세영업상태명 == \"영업\")$인허가일자 < 20211231)\n",
    "sum(subset(store_도봉,상세영업상태명 == \"폐업\")$폐업일자 >= 20230101)\n",
    "\n",
    "store_도봉_년도별 <- data_frame('2019' = 23, '2020' = 23, '2021' = 21, '2022' = 21)\n",
    "-\n",
    "par(family = \"AppleGothic\",bg = \"white\")\n",
    "barplot(\n",
    "    as.integer(store_도봉_년도별),\n",
    "    names = c(2019:2022),\n",
    "    ylim = c(0,30),\n",
    "    col = 'light cyan',\n",
    "    xlab = '연도',\n",
    "    ylab = '개수'\n",
    ")\n",
    "mtext(\"2024-03-12\", side = 3, adj = 1, cex = 1)\n",
    "title(\n",
    "    main = \"2019 ~ 2022 도봉구 유흥주점 수\",\n",
    "    cex.main = 3\n",
    ")\n",
    "text(\n",
    "    c(0.7,1.9,3.1,4.3,5.5),as.integer(store_도봉_년도별) / 2,as.integer(store_도봉_년도별),\n",
    "    col = c('black',rep('blue',1,3)),\n",
    "    cex = 3\n",
    ")\n",
    "--\n"
   ]
  }
 ],
 "metadata": {
  "kernelspec": {
   "display_name": "R",
   "language": "R",
   "name": "ir"
  },
  "language_info": {
   "codemirror_mode": "r",
   "file_extension": ".r",
   "mimetype": "text/x-r-source",
   "name": "R",
   "pygments_lexer": "r",
   "version": "4.3.3"
  }
 },
 "nbformat": 4,
 "nbformat_minor": 2
}

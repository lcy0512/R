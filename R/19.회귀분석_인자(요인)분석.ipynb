{
 "cells": [
  {
   "cell_type": "code",
   "execution_count": null,
   "metadata": {
    "vscode": {
     "languageId": "r"
    }
   },
   "outputs": [],
   "source": [
    "# 기본 옵션\n",
    "options(warn = -1)\n",
    "options(repr.plot.width=15, repr.plot.height=9)\n",
    "options(scipen = 100)\n",
    "Sys.setlocale(category = \"LC_ALL\", locale = \"ko_KR.UTF-8\")"
   ]
  },
  {
   "cell_type": "markdown",
   "metadata": {},
   "source": [
    "# 회귀분석 (주관식, Python보다 성능이 좋다)\n",
    "- Y = aX + b => 단순회귀분석\n",
    "- summary를 해석하는 것이 중요하다"
   ]
  },
  {
   "cell_type": "code",
   "execution_count": null,
   "metadata": {
    "vscode": {
     "languageId": "r"
    }
   },
   "outputs": [],
   "source": [
    "regression <- read.csv(\"Data/regression.csv\")\n",
    "head(regression)\n",
    "tail(regression)\n",
    "str(regression)\n",
    "summary(regression)"
   ]
  },
  {
   "cell_type": "code",
   "execution_count": null,
   "metadata": {
    "vscode": {
     "languageId": "r"
    }
   },
   "outputs": [],
   "source": [
    "par(bg = 'white')\n",
    "\n",
    "boxplot(regression$Height,regression$Weight)\n",
    "plot(regression$Height,regression$Weight)\n",
    "hist(regression$Height)\n",
    "hist(regression$Weight)"
   ]
  },
  {
   "cell_type": "code",
   "execution_count": null,
   "metadata": {
    "vscode": {
     "languageId": "r"
    }
   },
   "outputs": [],
   "source": [
    "# 상관계수\n",
    "cor(regression$Height,regression$Weight) # 0.9672"
   ]
  },
  {
   "cell_type": "code",
   "execution_count": null,
   "metadata": {
    "vscode": {
     "languageId": "r"
    }
   },
   "outputs": [],
   "source": [
    "# 회귀선(중심선, 평균선)\n",
    "par(bg = 'white')\n",
    "plot(regression$Weight ~ regression$Height)\n",
    "\n",
    "# 회귀식\n",
    "r <- lm(regression$Weight ~ regression$Height)\n",
    "abline(r, col='red')\n",
    "\n",
    "# 분석 결과\n",
    "summary(r)"
   ]
  },
  {
   "cell_type": "markdown",
   "metadata": {},
   "source": [
    "잔차 : 데이터와 예측값의 차이"
   ]
  },
  {
   "cell_type": "markdown",
   "metadata": {},
   "source": [
    "p-value: < 2.2e-16 < 0.05<br>\n",
    "Adjusted R-squared: 0.9333  =>  예측력<br>\n",
    "Residual standard error: 6.355  =>  표준오차<br>"
   ]
  },
  {
   "cell_type": "markdown",
   "metadata": {},
   "source": [
    "y = ax + b\n",
    "몸무게 = 0.6149 * 키 + (-40.86594)"
   ]
  },
  {
   "cell_type": "code",
   "execution_count": null,
   "metadata": {
    "vscode": {
     "languageId": "r"
    }
   },
   "outputs": [],
   "source": [
    "# 키가 170인 사람의 몸무게\n",
    "0.6149 * 170 + (-40.86594)\n",
    "\n",
    "# 표준오차를 적용한 키가 170인 사람의 몸무게\n",
    "cat(0.6149 * 170 + (-40.86594) - 6.355,\"~\",0.6149 * 170 + (-40.86594) + 6.355)"
   ]
  },
  {
   "cell_type": "markdown",
   "metadata": {},
   "source": [
    "# IQ"
   ]
  },
  {
   "cell_type": "code",
   "execution_count": null,
   "metadata": {
    "vscode": {
     "languageId": "r"
    }
   },
   "outputs": [],
   "source": [
    "iq <- read.csv(\"Data/iq.csv\")\n",
    "head(iq)"
   ]
  },
  {
   "cell_type": "markdown",
   "metadata": {},
   "source": [
    "### (1) 성적과 가장 관련이 깊은 항목은?"
   ]
  },
  {
   "cell_type": "code",
   "execution_count": null,
   "metadata": {
    "vscode": {
     "languageId": "r"
    }
   },
   "outputs": [],
   "source": [
    "cor(iq$성적, iq$IQ)\n",
    "cor(iq$성적, iq$다니는.학원수)\n",
    "cor(iq$성적, iq$게임하는.시간)\n",
    "cor(iq$성적, iq$TV시청.시간)\n",
    "\n",
    "cor(iq[-1])"
   ]
  },
  {
   "cell_type": "markdown",
   "metadata": {},
   "source": [
    "> 성적과 가장 관계가 깊은 항목은 IQ 이다."
   ]
  },
  {
   "cell_type": "markdown",
   "metadata": {},
   "source": [
    "### (2) IQ가 126이 사람의 성적을 예측해 보세요."
   ]
  },
  {
   "cell_type": "code",
   "execution_count": null,
   "metadata": {
    "vscode": {
     "languageId": "r"
    }
   },
   "outputs": [],
   "source": [
    "par(bg = 'white')\n",
    "plot(\n",
    "    iq$성적~iq$IQ\n",
    ")\n",
    "abline(r,col='red')"
   ]
  },
  {
   "cell_type": "code",
   "execution_count": null,
   "metadata": {
    "vscode": {
     "languageId": "r"
    }
   },
   "outputs": [],
   "source": [
    "r <- lm(iq$성적 ~ iq$IQ)\n",
    "summary(r)\n",
    "# IQ가 126인 사람의 성적\n",
    "cat(0.6714*126 - 5.2918 - 3.322, \"~\" ,0.6714*126 - 5.2918 + 3.322)"
   ]
  },
  {
   "cell_type": "markdown",
   "metadata": {},
   "source": [
    "표준오차 : 3.322<br>\n",
    "예측률 : 0.8071"
   ]
  },
  {
   "cell_type": "markdown",
   "metadata": {},
   "source": [
    "> IQ가 126인 사람의 성적 : 75.9826 ~ 82.6266"
   ]
  },
  {
   "cell_type": "code",
   "execution_count": null,
   "metadata": {
    "vscode": {
     "languageId": "r"
    }
   },
   "outputs": [],
   "source": [
    "r_1 <- function(a,b) {\n",
    "   cor(a,b)\n",
    "   par(bg = 'white')\n",
    "   plot(a~b)\n",
    "   abline(lm(a~b), col='red')\n",
    "   summary(lm(a~b))\n",
    "}\n",
    "\n",
    "r_1result <- function(a,b,c) {\n",
    "    cat(summary(lm(a ~ b))$coefficient[2,1],\"* X값 +\", summary(lm(a ~ b))$coefficient[1,1] - summary(lm(a ~ b))$sigma, \n",
    "       \"~\",\n",
    "       summary(lm(a ~ b))$coefficient[2,1],\"* X값 +\" , summary(lm(a ~ b))$coefficient[1,1] + summary(lm(a ~ b))$sigma)\n",
    "\n",
    "    cat(\"\\n\",summary(lm(a ~ b))$coefficient[2,1]*c + summary(lm(a ~ b))$coefficient[1,1] - summary(lm(a ~ b))$sigma)\n",
    "    cat(\"\\n\",summary(lm(a ~ b))$coefficient[2,1]*c + summary(lm(a ~ b))$coefficient[1,1] + summary(lm(a ~ b))$sigma)\n",
    "}"
   ]
  },
  {
   "cell_type": "markdown",
   "metadata": {},
   "source": [
    "### (3) 학원을 몇군데 다녀야 성적이 90점 이상이 될까?"
   ]
  },
  {
   "cell_type": "code",
   "execution_count": null,
   "metadata": {
    "vscode": {
     "languageId": "r"
    }
   },
   "outputs": [],
   "source": [
    "r_1(iq$다니는.학원수,iq$성적)\n",
    "r_1result(iq$다니는.학원수,iq$성적,90)"
   ]
  },
  {
   "cell_type": "code",
   "execution_count": null,
   "metadata": {
    "vscode": {
     "languageId": "r"
    }
   },
   "outputs": [],
   "source": [
    "cat(0.12410*90 -7.89163 - 0.7882,\"~\",0.12410*90 -7.89163 + 0.7882)"
   ]
  },
  {
   "cell_type": "markdown",
   "metadata": {},
   "source": [
    "> 90점 이상을 받으려면 다녀야 하는 학원 수 : 3 ~ 5"
   ]
  },
  {
   "cell_type": "markdown",
   "metadata": {},
   "source": [
    "### (4) 성적이 85점이라면, IQ는 얼마 이상?"
   ]
  },
  {
   "cell_type": "code",
   "execution_count": null,
   "metadata": {
    "vscode": {
     "languageId": "r"
    }
   },
   "outputs": [],
   "source": [
    "r_1(iq$IQ, iq$성적)\n",
    "r_1result(iq$IQ, iq$성적,85)"
   ]
  },
  {
   "cell_type": "code",
   "execution_count": null,
   "metadata": {
    "vscode": {
     "languageId": "r"
    }
   },
   "outputs": [],
   "source": [
    "# iq = 1.234*성적 + 28.0353 +- 4.504\n",
    "cat(1.234*85 + 28.0353 - 4.504,\"~\",1.234*85 + 28.0353 + 4.504)"
   ]
  },
  {
   "cell_type": "markdown",
   "metadata": {},
   "source": [
    "> 성적이 85점인 사람의 IQ : 128.4213 ~ 137.4293"
   ]
  },
  {
   "cell_type": "markdown",
   "metadata": {},
   "source": [
    "# 다중회귀분석 : 여러개의 항목들로 구성된 식으로 예측하는 방법"
   ]
  },
  {
   "cell_type": "code",
   "execution_count": null,
   "metadata": {
    "vscode": {
     "languageId": "r"
    }
   },
   "outputs": [],
   "source": [
    "help(attitude)\n",
    "head(attitude)"
   ]
  },
  {
   "cell_type": "code",
   "execution_count": null,
   "metadata": {
    "vscode": {
     "languageId": "r"
    }
   },
   "outputs": [],
   "source": [
    "par(bg = 'white')\n",
    "plot(attitude)"
   ]
  },
  {
   "cell_type": "code",
   "execution_count": null,
   "metadata": {
    "vscode": {
     "languageId": "r"
    }
   },
   "outputs": [],
   "source": [
    "# rating을 제외한 변수들이 rating에 어떤 영향을 미치는지 회귀분석으로 알아보자\n",
    "model <- lm(rating ~ ., data=attitude)\n",
    "model\n",
    "\n",
    "# Adjusted R-squared:  0.6628\n",
    "summary(model)\n",
    "\n",
    "# 상관계수\n",
    "cor(attitude)"
   ]
  },
  {
   "cell_type": "markdown",
   "metadata": {},
   "source": [
    "Rating = (0.61319 * complaints) + (-0.07305 * privileges) + (0.32033 * learning) + (0.08173 * raises) + (0.03838 * critical)"
   ]
  },
  {
   "cell_type": "code",
   "execution_count": null,
   "metadata": {
    "vscode": {
     "languageId": "r"
    }
   },
   "outputs": [],
   "source": [
    "# 예측할때, 예측력을 높이기 위해 상대적으로 기여도가 낮은 변수를 제거\n",
    "reduced <- step(model, direction ='backward')\n",
    "\n",
    "# Adjusted R-squared:  0.6864 \n",
    "summary(reduced)"
   ]
  },
  {
   "cell_type": "code",
   "execution_count": null,
   "metadata": {
    "vscode": {
     "languageId": "r"
    }
   },
   "outputs": [],
   "source": [
    "r_2 <- function(a, b) {\n",
    "   cor_value <- cor(a, b)\n",
    "   par(bg = 'white')\n",
    "   plot(a ~ b)\n",
    "   abline(lm(a ~ b), col = 'red')\n",
    "   regression_summary <- summary(lm(a ~ b))\n",
    "   print(regression_summary)\n",
    "   return(cor_value)\n",
    "}"
   ]
  },
  {
   "cell_type": "markdown",
   "metadata": {},
   "source": [
    "### iris에 대한 다중회귀 분석"
   ]
  },
  {
   "cell_type": "code",
   "execution_count": 91,
   "metadata": {
    "vscode": {
     "languageId": "r"
    }
   },
   "outputs": [
    {
     "data": {
      "text/plain": [
       "\n",
       "Call:\n",
       "lm(formula = as.numeric(Species) ~ ., data = iris)\n",
       "\n",
       "Residuals:\n",
       "     Min       1Q   Median       3Q      Max \n",
       "-0.59215 -0.15368  0.01268  0.11089  0.55077 \n",
       "\n",
       "Coefficients:\n",
       "             Estimate Std. Error t value      Pr(>|t|)    \n",
       "(Intercept)   1.18650    0.20484   5.792 0.00000004150 ***\n",
       "Sepal.Length -0.11191    0.05765  -1.941        0.0542 .  \n",
       "Sepal.Width  -0.04008    0.05969  -0.671        0.5030    \n",
       "Petal.Length  0.22865    0.05685   4.022 0.00009255215 ***\n",
       "Petal.Width   0.60925    0.09446   6.450 0.00000000156 ***\n",
       "---\n",
       "Signif. codes:  0 ‘***’ 0.001 ‘**’ 0.01 ‘*’ 0.05 ‘.’ 0.1 ‘ ’ 1\n",
       "\n",
       "Residual standard error: 0.2191 on 145 degrees of freedom\n",
       "Multiple R-squared:  0.9304,\tAdjusted R-squared:  0.9285 \n",
       "F-statistic: 484.5 on 4 and 145 DF,  p-value: < 0.00000000000000022\n"
      ]
     },
     "metadata": {},
     "output_type": "display_data"
    },
    {
     "name": "stdout",
     "output_type": "stream",
     "text": [
      "Start:  AIC=-450.56\n",
      "as.numeric(Species) ~ Sepal.Length + Sepal.Width + Petal.Length + \n",
      "    Petal.Width\n",
      "\n",
      "               Df Sum of Sq    RSS     AIC\n",
      "- Sepal.Width   1   0.02164 6.9823 -452.09\n",
      "<none>                      6.9606 -450.56\n",
      "- Sepal.Length  1   0.18090 7.1415 -448.71\n",
      "- Petal.Length  1   0.77649 7.7371 -436.69\n",
      "- Petal.Width   1   1.99710 8.9577 -414.72\n",
      "\n",
      "Step:  AIC=-452.09\n",
      "as.numeric(Species) ~ Sepal.Length + Petal.Length + Petal.Width\n",
      "\n",
      "               Df Sum of Sq    RSS     AIC\n",
      "<none>                      6.9823 -452.09\n",
      "- Sepal.Length  1   0.44324 7.4255 -444.86\n",
      "- Petal.Length  1   1.51946 8.5017 -424.56\n",
      "- Petal.Width   1   2.11632 9.0986 -414.38\n"
     ]
    },
    {
     "data": {
      "text/plain": [
       "\n",
       "Call:\n",
       "lm(formula = as.numeric(Species) ~ Sepal.Length + Petal.Length + \n",
       "    Petal.Width, data = iris)\n",
       "\n",
       "Coefficients:\n",
       " (Intercept)  Sepal.Length  Petal.Length   Petal.Width  \n",
       "      1.1447       -0.1362        0.2521        0.5869  \n"
      ]
     },
     "metadata": {},
     "output_type": "display_data"
    },
    {
     "name": "stdout",
     "output_type": "stream",
     "text": [
      "Start:  AIC=-450.56\n",
      "as.numeric(Species) ~ Sepal.Length + Sepal.Width + Petal.Length + \n",
      "    Petal.Width\n",
      "\n",
      "               Df Sum of Sq    RSS     AIC\n",
      "- Sepal.Width   1   0.02164 6.9823 -452.09\n",
      "<none>                      6.9606 -450.56\n",
      "- Sepal.Length  1   0.18090 7.1415 -448.71\n",
      "- Petal.Length  1   0.77649 7.7371 -436.69\n",
      "- Petal.Width   1   1.99710 8.9577 -414.72\n",
      "\n",
      "Step:  AIC=-452.09\n",
      "as.numeric(Species) ~ Sepal.Length + Petal.Length + Petal.Width\n",
      "\n",
      "               Df Sum of Sq    RSS     AIC\n",
      "<none>                      6.9823 -452.09\n",
      "- Sepal.Length  1   0.44324 7.4255 -444.86\n",
      "- Petal.Length  1   1.51946 8.5017 -424.56\n",
      "- Petal.Width   1   2.11632 9.0986 -414.38\n"
     ]
    },
    {
     "data": {
      "text/plain": [
       "\n",
       "Call:\n",
       "lm(formula = as.numeric(Species) ~ Sepal.Length + Petal.Length + \n",
       "    Petal.Width, data = iris)\n",
       "\n",
       "Residuals:\n",
       "     Min       1Q   Median       3Q      Max \n",
       "-0.60753 -0.16188  0.01367  0.11217  0.54740 \n",
       "\n",
       "Coefficients:\n",
       "             Estimate Std. Error t value       Pr(>|t|)    \n",
       "(Intercept)   1.14469    0.19478   5.877 0.000000027233 ***\n",
       "Sepal.Length -0.13624    0.04475  -3.044        0.00277 ** \n",
       "Petal.Length  0.25213    0.04473   5.637 0.000000086707 ***\n",
       "Petal.Width   0.58689    0.08822   6.652 0.000000000541 ***\n",
       "---\n",
       "Signif. codes:  0 ‘***’ 0.001 ‘**’ 0.01 ‘*’ 0.05 ‘.’ 0.1 ‘ ’ 1\n",
       "\n",
       "Residual standard error: 0.2187 on 146 degrees of freedom\n",
       "Multiple R-squared:  0.9302,\tAdjusted R-squared:  0.9287 \n",
       "F-statistic: 648.3 on 3 and 146 DF,  p-value: < 0.00000000000000022\n"
      ]
     },
     "metadata": {},
     "output_type": "display_data"
    }
   ],
   "source": [
    "model <- lm(as.numeric(Species) ~ . , data = iris)\n",
    "summary(model)\n",
    "\n",
    "step(model,direction = 'backward')\n",
    "summary(step(model,direction = 'backward'))"
   ]
  },
  {
   "cell_type": "code",
   "execution_count": null,
   "metadata": {
    "vscode": {
     "languageId": "r"
    }
   },
   "outputs": [],
   "source": [
    "# Adjusted R-squared:  0.9285\n",
    "# Adjusted R-squared:  0.9287"
   ]
  },
  {
   "cell_type": "markdown",
   "metadata": {},
   "source": [
    "# 교통사고 예측하기 (회귀식과 RandomForest 예측 비교)"
   ]
  },
  {
   "cell_type": "code",
   "execution_count": null,
   "metadata": {
    "vscode": {
     "languageId": "r"
    }
   },
   "outputs": [],
   "source": [
    "# 교통사고 데이터 불러오기\n",
    "seoul <- read.csv(\"Data/newseoul.csv\")\n",
    "head(seoul)"
   ]
  },
  {
   "cell_type": "code",
   "execution_count": null,
   "metadata": {
    "vscode": {
     "languageId": "r"
    }
   },
   "outputs": [],
   "source": [
    "# 종로구의 데이터셋만 추출\n",
    "JongRo <- subset(seoul,자치구명 == '종로구')\n",
    "nrow(JongRo)\n",
    "rownames(JongRo) <- c()"
   ]
  },
  {
   "cell_type": "code",
   "execution_count": null,
   "metadata": {
    "vscode": {
     "languageId": "r"
    }
   },
   "outputs": [],
   "source": [
    "head(JongRo)\n",
    "tail(JongRo)\n",
    "str(JongRo)"
   ]
  },
  {
   "cell_type": "code",
   "execution_count": null,
   "metadata": {
    "vscode": {
     "languageId": "r"
    }
   },
   "outputs": [],
   "source": [
    "# 종로구의 발생건수와 부상자수\n",
    "cor(JongRo[4:6])"
   ]
  },
  {
   "cell_type": "code",
   "execution_count": null,
   "metadata": {
    "vscode": {
     "languageId": "r"
    }
   },
   "outputs": [],
   "source": [
    "par(bg = 'white',family = 'applegothic')\n",
    "plot(\n",
    "    main = '종로구의 발생건수와 부상자수의 산포도',\n",
    "    JongRo$부상자수 ~ JongRo$발생건수,\n",
    "    xlab = '발생건수',\n",
    "    ylab = '부상자수'\n",
    ")\n",
    "\n",
    "abline(lm(JongRo$부상자수 ~ JongRo$발생건수),col='red')"
   ]
  },
  {
   "cell_type": "code",
   "execution_count": null,
   "metadata": {
    "vscode": {
     "languageId": "r"
    }
   },
   "outputs": [],
   "source": [
    "lm(JongRo$부상자수 ~ JongRo$발생건수)"
   ]
  },
  {
   "cell_type": "code",
   "execution_count": null,
   "metadata": {
    "vscode": {
     "languageId": "r"
    }
   },
   "outputs": [],
   "source": [
    "r_2(JongRo$부상자수, JongRo$발생건수)\n",
    "r_1result(JongRo$부상자수, JongRo$발생건수, 100)"
   ]
  },
  {
   "cell_type": "code",
   "execution_count": null,
   "metadata": {
    "vscode": {
     "languageId": "r"
    }
   },
   "outputs": [],
   "source": [
    "# 발생건수가 100건일 경우, 예상 부상자수는?\n",
    "# 129.0629 ~ 148.6958\n",
    "1.359932 * 100 + 2.8866"
   ]
  },
  {
   "cell_type": "code",
   "execution_count": null,
   "metadata": {
    "vscode": {
     "languageId": "r"
    }
   },
   "outputs": [],
   "source": [
    "# RandomForest 예측 : 발생건수가 100건일 경우의 부상자수?\n",
    "# library(randomForest)\n",
    "rf <- randomForest(부상자수 ~ 발생건수, data = JongRo, ntree = 100)"
   ]
  },
  {
   "cell_type": "code",
   "execution_count": null,
   "metadata": {
    "vscode": {
     "languageId": "r"
    }
   },
   "outputs": [],
   "source": [
    "predict(rf, data.frame(발생건수 = 100))\n",
    "predict(rf, list(발생건수 = 100))"
   ]
  },
  {
   "cell_type": "markdown",
   "metadata": {},
   "source": [
    "---\n",
    "# 발생건수가 145건일 경우, 회귀식과 RandomForest를 통한 부상자수 예측"
   ]
  },
  {
   "cell_type": "code",
   "execution_count": null,
   "metadata": {
    "vscode": {
     "languageId": "r"
    }
   },
   "outputs": [],
   "source": [
    "# (1) 회귀식을 통한 예측\n",
    "1.359932 * 145 + 2.8866\n",
    "\n",
    "# (2) RandomForest를 통한 예측\n",
    "predict(rf, data.frame(발생건수 = 145))"
   ]
  },
  {
   "cell_type": "markdown",
   "metadata": {},
   "source": [
    "---\n",
    "# 발생건수가 150건일 경우, 회귀식과 RandomForest를 통한 부상자수 예측"
   ]
  },
  {
   "cell_type": "code",
   "execution_count": null,
   "metadata": {
    "vscode": {
     "languageId": "r"
    }
   },
   "outputs": [],
   "source": [
    "# (1) 회귀식을 통한 예측\n",
    "1.359932 * 150 + 2.8866\n",
    "\n",
    "# (2) RandomForest를 통한 예측\n",
    "predict(rf, data.frame(발생건수 = 150))"
   ]
  },
  {
   "cell_type": "markdown",
   "metadata": {},
   "source": [
    "---\n",
    "# 발생건수가 85건일 경우, 회귀식과 RandomForest를 통한 부상자수 예측"
   ]
  },
  {
   "cell_type": "code",
   "execution_count": null,
   "metadata": {
    "vscode": {
     "languageId": "r"
    }
   },
   "outputs": [],
   "source": [
    "# (1) 회귀식을 통한 예측\n",
    "1.359932 * 85 + 2.8866\n",
    "\n",
    "# (2) RandomForest를 통한 예측\n",
    "predict(rf, data.frame(발생건수 = 85))"
   ]
  },
  {
   "cell_type": "markdown",
   "metadata": {},
   "source": [
    "---\n",
    "# 발생건수가 200건일 경우, 회귀식과 RandomForest를 통한 부상자수 예측"
   ]
  },
  {
   "cell_type": "code",
   "execution_count": null,
   "metadata": {
    "vscode": {
     "languageId": "r"
    }
   },
   "outputs": [],
   "source": [
    "# (1) 회귀식을 통한 예측\n",
    "1.359932 * 200 + 2.8866\n",
    "\n",
    "# (2) RandomForest를 통한 예측\n",
    "predict(rf, data.frame(발생건수 = 200))"
   ]
  },
  {
   "cell_type": "markdown",
   "metadata": {},
   "source": [
    "> # Model은 데이터에 따라 바뀌어야 한다!!\n",
    "- 각 model 특성을 확인해야한다."
   ]
  }
 ],
 "metadata": {
  "kernelspec": {
   "display_name": "R",
   "language": "R",
   "name": "ir"
  },
  "language_info": {
   "codemirror_mode": "r",
   "file_extension": ".r",
   "mimetype": "text/x-r-source",
   "name": "R",
   "pygments_lexer": "r",
   "version": "4.3.3"
  }
 },
 "nbformat": 4,
 "nbformat_minor": 2
}

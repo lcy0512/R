{
 "cells": [
  {
   "cell_type": "code",
   "execution_count": null,
   "metadata": {
    "vscode": {
     "languageId": "r"
    }
   },
   "outputs": [],
   "source": [
    "options(warn = -1)\n",
    "options(repr.plot.width=15, repr.plot.height=9)\n",
    "Sys.setlocale(category = \"LC_ALL\", locale = \"ko_KR.UTF-8\")"
   ]
  },
  {
   "cell_type": "code",
   "execution_count": null,
   "metadata": {
    "vscode": {
     "languageId": "r"
    }
   },
   "outputs": [],
   "source": [
    "# 1 ~ 10까지 출력\n",
    "for(i in 1:10) {\n",
    "    print(i)\n",
    "}\n",
    "\n",
    "# 특정 숫자만 출력\n",
    "for(i in c(1,3,5)) {\n",
    "    print(i)\n",
    "}"
   ]
  },
  {
   "cell_type": "code",
   "execution_count": null,
   "metadata": {
    "vscode": {
     "languageId": "r"
    }
   },
   "outputs": [],
   "source": [
    "# 1부터 100까지의 홀수의 합 구하기 (단, for문을 사용)\n",
    "sum <- 0\n",
    "for(i in seq(1,100,2)) {\n",
    "    sum <- sum + i\n",
    "}\n",
    "sum"
   ]
  },
  {
   "cell_type": "code",
   "execution_count": null,
   "metadata": {
    "vscode": {
     "languageId": "r"
    }
   },
   "outputs": [],
   "source": [
    "for(i in 1:10) {\n",
    "    cat(i,\"=>\",sqrt(i),\"\\n\")\n",
    "}"
   ]
  },
  {
   "cell_type": "code",
   "execution_count": null,
   "metadata": {
    "vscode": {
     "languageId": "r"
    }
   },
   "outputs": [],
   "source": [
    "excel <- read.csv(\"Data/excel.csv\")\n",
    "q3 <- excel$q3"
   ]
  },
  {
   "cell_type": "code",
   "execution_count": null,
   "metadata": {
    "vscode": {
     "languageId": "r"
    }
   },
   "outputs": [],
   "source": [
    "# excel file에서 q3 컬럼의 홀수의 합과 짝수의 합\n",
    "# ifelse() : vector를 만들어줌\n",
    "ifelse(q3 %% 2 == 0, q3, 0)"
   ]
  },
  {
   "cell_type": "code",
   "execution_count": null,
   "metadata": {
    "vscode": {
     "languageId": "r"
    }
   },
   "outputs": [],
   "source": [
    "# excel file에서 q3 컬럼 데이터 중 3의 배수이면서, 4의 배수도 되는 수의 합계\n",
    "# 최소 공배수 : 12\n",
    "# 최댓값이 최소 공배수보다 작으므로, 불가\n",
    "summary(q3)"
   ]
  },
  {
   "cell_type": "code",
   "execution_count": null,
   "metadata": {
    "vscode": {
     "languageId": "r"
    }
   },
   "outputs": [],
   "source": [
    "# 구구단 2단 출력하기\n",
    "for(i in 1:9) {\n",
    "    cat(\"2 X\", i, \"=\", 2*i, \"\\n\")\n",
    "}"
   ]
  },
  {
   "cell_type": "code",
   "execution_count": null,
   "metadata": {
    "vscode": {
     "languageId": "r"
    }
   },
   "outputs": [],
   "source": [
    "# 사용자에게 입력받은 단에 해당하는 구구단 출력\n",
    "dan <- as.integer(readline(\"단을 입력하세요\"))\n",
    "for(i in 1:9) {\n",
    "    cat(dan,\"X\", i, \"=\", dan*i, \"\\n\")\n",
    "}"
   ]
  },
  {
   "cell_type": "code",
   "execution_count": null,
   "metadata": {
    "vscode": {
     "languageId": "r"
    }
   },
   "outputs": [],
   "source": [
    "# 구구단 함수 만들기\n",
    "gugu <- function() {\n",
    "    dan <- as.integer(readline(\"단을 입력하세용~~~!!!\"))\n",
    "    for(i in 1:9) {\n",
    "        cat(dan, \"X\", i, \"=\", dan*i, \"\\n\")\n",
    "    }\n",
    "}"
   ]
  },
  {
   "cell_type": "code",
   "execution_count": null,
   "metadata": {
    "vscode": {
     "languageId": "r"
    }
   },
   "outputs": [],
   "source": [
    "gugu2 <- function(dan) {\n",
    "    for(i in 1:9) {\n",
    "        cat(dan, \"X\", i, \"=\", dan*i, \"\\n\")\n",
    "    }\n",
    "}"
   ]
  },
  {
   "cell_type": "code",
   "execution_count": null,
   "metadata": {
    "vscode": {
     "languageId": "r"
    }
   },
   "outputs": [],
   "source": [
    "gugu3 <- function(dan,count) {\n",
    "    for(i in 1:count) {\n",
    "        cat(dan, \"X\", i, \"=\", dan*i, \"\\n\")\n",
    "    }\n",
    "}"
   ]
  },
  {
   "cell_type": "code",
   "execution_count": null,
   "metadata": {
    "vscode": {
     "languageId": "r"
    }
   },
   "outputs": [],
   "source": [
    "# 구구단 전체 출력\n",
    "gugu4 <- function() {\n",
    "    for(j in 1:9) {\n",
    "        for(i in 1:9) {\n",
    "                cat(j, \"X\", i, \"=\", j*i, \"\\n\")\n",
    "            }\n",
    "        cat(\"\\n\")\n",
    "    }\n",
    "}"
   ]
  },
  {
   "cell_type": "code",
   "execution_count": null,
   "metadata": {
    "vscode": {
     "languageId": "r"
    }
   },
   "outputs": [],
   "source": [
    "gugu5 <- function() {\n",
    "    for(j in 1:9) {\n",
    "        for(i in 2:9) {\n",
    "                cat(i, \"X\", j, \"=\", j*i,\"\\t\")\n",
    "            }\n",
    "        cat(\"\\n\")\n",
    "    }\n",
    "}"
   ]
  },
  {
   "cell_type": "code",
   "execution_count": null,
   "metadata": {
    "vscode": {
     "languageId": "r"
    }
   },
   "outputs": [],
   "source": [
    "# 구구단 중 짝수단과 짝수 곱해지는 수만 출력\n",
    "gugu6 <- function() {\n",
    "    for(i in seq(2,8,2)) {\n",
    "        for(j in seq(2,8,2)) {\n",
    "            cat(i,\"X\",j,\"=\",i*j,\"\\n\")\n",
    "        }\n",
    "        cat(\"-------------------\",\"\\n\")\n",
    "    }\n",
    "}"
   ]
  },
  {
   "cell_type": "code",
   "execution_count": null,
   "metadata": {
    "vscode": {
     "languageId": "r"
    }
   },
   "outputs": [],
   "source": [
    "# 2개의 벡터 자료를 함께 출력\n",
    "score <- c(85,95,89)\n",
    "name <- c(\"유비\",\"관우\",\"장비\")\n",
    "\n",
    "for(i in 1:3) {\n",
    "    cat(paste(name[i], \":\", score[i],\"\\n\"))\n",
    "}\n",
    "\n",
    "cat(paste(name,\":\",score),sep = \"\\n\")"
   ]
  },
  {
   "cell_type": "markdown",
   "metadata": {},
   "source": [
    "## while"
   ]
  },
  {
   "cell_type": "code",
   "execution_count": null,
   "metadata": {
    "vscode": {
     "languageId": "r"
    }
   },
   "outputs": [],
   "source": [
    "i <- 0\n",
    "while(T) {\n",
    "    i <- i + 1\n",
    "    print(i)\n",
    "    if(i>9) {\n",
    "       break\n",
    "    }\n",
    "}"
   ]
  },
  {
   "cell_type": "markdown",
   "metadata": {},
   "source": [
    "## repeat"
   ]
  },
  {
   "cell_type": "code",
   "execution_count": null,
   "metadata": {
    "vscode": {
     "languageId": "r"
    }
   },
   "outputs": [],
   "source": [
    "i <- 0\n",
    "repeat {\n",
    "    i <- i + 1\n",
    "    print(i)\n",
    "    if(i > 9) {\n",
    "        break\n",
    "    }\n",
    "}"
   ]
  }
 ],
 "metadata": {
  "kernelspec": {
   "display_name": "R",
   "language": "R",
   "name": "ir"
  },
  "language_info": {
   "codemirror_mode": "r",
   "file_extension": ".r",
   "mimetype": "text/x-r-source",
   "name": "R",
   "pygments_lexer": "r",
   "version": "4.3.3"
  }
 },
 "nbformat": 4,
 "nbformat_minor": 2
}

{
 "cells": [
  {
   "cell_type": "markdown",
   "metadata": {},
   "source": [
    "# 변수와 자료형"
   ]
  },
  {
   "cell_type": "markdown",
   "metadata": {},
   "source": [
    "### 변수\n",
    "분석에 필요한자료를 일시적으로 저장하거나 처리결과를 담을 수 있는 기억장소를 지정해주는 역할<br>\n",
    "변수 이름은 값을 지정하는 메모리 영역의 이름으로 할당.<br><br>\n",
    "(1) 변수 이름의 작성 규칙\n",
    "- 첫자는 영문으로 시작.\n",
    "- 첫자를 제외하고 숫자, under bar, dot을 사용할 수 있음.\n",
    "- 대문자와 소문자를 구분해야 함.\n",
    "- 변수 이름은 의미를 파악할 수 이름으로 지정하는 것이 좋다.\n",
    "- 두 단어를 포함한 변수 이름을 지정할 결우 camel이나 snake 기법을 사용해야 가독성이 좋다."
   ]
  },
  {
   "cell_type": "code",
   "execution_count": null,
   "metadata": {
    "vscode": {
     "languageId": "r"
    }
   },
   "outputs": [],
   "source": [
    "# 벡터와 함수 사용 (list)\n",
    "sum(iris$Sepal.Length[1:50])\n",
    "\n",
    "sum(iris$Sepal.Length[1:50]) # Setosa\n",
    "sum(iris$Sepal.Length[51:100]) # Versicolor\n",
    "sum(iris$Sepal.Length[101:150]) # Virginica"
   ]
  },
  {
   "cell_type": "code",
   "execution_count": null,
   "metadata": {
    "vscode": {
     "languageId": "r"
    }
   },
   "outputs": [],
   "source": [
    "# Vector 변수의 사용\n",
    "num2 <- c(10,20,30)\n",
    "num2[1]\n",
    "num2[2]\n",
    "num2[3]\n",
    "\n",
    "num3 <- 1:3\n",
    "\n",
    "sum(num2,num3)"
   ]
  },
  {
   "cell_type": "code",
   "execution_count": null,
   "metadata": {
    "vscode": {
     "languageId": "r"
    }
   },
   "outputs": [],
   "source": [
    "# NA(결측치) / 이상치\n",
    "# NA을 유추(근사값)하여 제거해야함\n",
    "sum(10,20,30,NA,na.rm = 'TRUE')"
   ]
  },
  {
   "cell_type": "markdown",
   "metadata": {},
   "source": [
    "### 자료형 확인"
   ]
  },
  {
   "cell_type": "code",
   "execution_count": null,
   "metadata": {
    "vscode": {
     "languageId": "r"
    }
   },
   "outputs": [],
   "source": [
    "# 수치형\n",
    "is.numeric(iris$Sepal.Length)\n",
    "# 정수형\n",
    "is.integer(iris$Sepal.Length)\n",
    "# 실수형\n",
    "is.double(iris$Sepal.Length)\n",
    "# 논리형\n",
    "is.logical(iris$Sepal.Length)\n",
    "# data.frame 확인\n",
    "is.data.frame(iris)\n",
    "# matrix 확인\n",
    "is.matrix(iris)\n",
    "# 숫자와 문자의 값을 보유\n",
    "is.factor(iris$Species)\n",
    "# NA 확인\n",
    "sum(is.na(iris))\n",
    "# 쉽게 확인\n",
    "class(iris$Sepal.Length)\n",
    "class(iris)\n",
    "class(iris$Species)"
   ]
  },
  {
   "cell_type": "code",
   "execution_count": null,
   "metadata": {
    "vscode": {
     "languageId": "r"
    }
   },
   "outputs": [],
   "source": [
    "var1 <- \"apple\"\n",
    "var1\n",
    "class(var1)"
   ]
  },
  {
   "cell_type": "markdown",
   "metadata": {},
   "source": [
    "### data.frame : matrix\n",
    "- data.frame : 자료형 상관 X\n",
    "- matrix : 자료형 통일해야 함."
   ]
  },
  {
   "cell_type": "markdown",
   "metadata": {},
   "source": [
    "### 자료구조 확인\n",
    "- head,tail 확인 후 자료구조 확인\n",
    "- str() : 내부 구조"
   ]
  },
  {
   "cell_type": "code",
   "execution_count": null,
   "metadata": {
    "vscode": {
     "languageId": "r"
    }
   },
   "outputs": [],
   "source": [
    "str(iris)"
   ]
  },
  {
   "cell_type": "code",
   "execution_count": null,
   "metadata": {
    "vscode": {
     "languageId": "r"
    }
   },
   "outputs": [],
   "source": [
    "# 자료형 확인\n",
    "num1 <- c(1,2,3,\"4\")\n",
    "num1\n",
    "is.numeric(num1)\n",
    "class(num1)"
   ]
  },
  {
   "cell_type": "markdown",
   "metadata": {},
   "source": [
    "## 자료형 변환\n",
    "- as.numeric(x) : 수치형\n",
    "- as.integer(x) : 정수형\n",
    "- as.logical(x) : 논리형\n",
    "- as.double(x) : 실수형\n",
    "- as.data.frame(x)\n",
    "- as.factor(x)\n",
    "- as.Date(x)"
   ]
  },
  {
   "cell_type": "markdown",
   "metadata": {},
   "source": [
    "### Data\n",
    "수집 -> 정제 -> 분석 -> ML<br>\n",
    "Collection -> Cleaning -> Analysis -> Machine Leaning"
   ]
  },
  {
   "cell_type": "code",
   "execution_count": null,
   "metadata": {
    "vscode": {
     "languageId": "r"
    }
   },
   "outputs": [],
   "source": [
    "num2 <- as.numeric(num1)\n",
    "class(num1)\n",
    "class(num2)\n",
    "\n",
    "sum(num2)"
   ]
  },
  {
   "cell_type": "markdown",
   "metadata": {},
   "source": [
    "### 요인형(범주형) 변환\n",
    "요인(factor)는 동일한 값의 목록을 범주로 갖는 벡터 자료,<br>\n",
    "요인형 변수는 문자와 숫자를 동시에 가지고 있어서 계산에도 사용이 된다.<br>\n",
    "범주는 변수가 가질 수 있는 범위()"
   ]
  },
  {
   "cell_type": "code",
   "execution_count": null,
   "metadata": {
    "vscode": {
     "languageId": "r"
    }
   },
   "outputs": [],
   "source": [
    "gender <- c(\"man\",\"woman\",\"woman\",\"man\",\"man\")\n",
    "gender\n",
    "class(gender)"
   ]
  },
  {
   "cell_type": "code",
   "execution_count": null,
   "metadata": {
    "vscode": {
     "languageId": "r"
    }
   },
   "outputs": [],
   "source": [
    "# 빈도 수 확인\n",
    "table(gender)"
   ]
  },
  {
   "cell_type": "code",
   "execution_count": null,
   "metadata": {
    "vscode": {
     "languageId": "r"
    }
   },
   "outputs": [],
   "source": [
    "# 문자열 데이터를 factor로 변환\n",
    "Ngender <- as.factor(gender)\n",
    "Ngender\n",
    "table(Ngender)\n",
    "\n",
    "par(bg = 'white')\n",
    "plot(Ngender)"
   ]
  },
  {
   "cell_type": "markdown",
   "metadata": {},
   "source": [
    "# 날짜형 변환"
   ]
  },
  {
   "cell_type": "code",
   "execution_count": null,
   "metadata": {
    "vscode": {
     "languageId": "r"
    }
   },
   "outputs": [],
   "source": [
    "date1 <- \"20/8/3\"\n",
    "date1"
   ]
  },
  {
   "cell_type": "code",
   "execution_count": null,
   "metadata": {
    "vscode": {
     "languageId": "r"
    }
   },
   "outputs": [],
   "source": [
    "# 문자데이터를 날짜데이터로 변환\n",
    "# %y : 2자리만 인식 ex) 16-10-18\n",
    "# %Y : 2자리,4자리 인식 ex) 17-05-12 OR 2022-02-02\n",
    "as.Date(date1)\n",
    "as.Date(\"20/08/03\",\"%y/%m/%d\")\n",
    "as.Date(\"20-08-03\",\"%y-%m-%d\")\n",
    "\n",
    "as.Date(\"2020/08/03\",\"%Y/%m/%d\")"
   ]
  },
  {
   "cell_type": "code",
   "execution_count": null,
   "metadata": {
    "vscode": {
     "languageId": "r"
    }
   },
   "outputs": [],
   "source": [
    "datas <- c(\"02/08/17\",\"02/29/17\",\"03/01/18\")\n",
    "as.Date(datas,\"%m/%d/%y\")"
   ]
  },
  {
   "cell_type": "code",
   "execution_count": null,
   "metadata": {
    "vscode": {
     "languageId": "r"
    }
   },
   "outputs": [],
   "source": [
    "# 날짜 계산\n",
    "myDates <- as.Date(c(\"2023-11-20\", \"2024-03-04\"))\n",
    "myDates[2] - myDates[1]"
   ]
  },
  {
   "cell_type": "code",
   "execution_count": null,
   "metadata": {
    "vscode": {
     "languageId": "r"
    }
   },
   "outputs": [],
   "source": [
    "# 요일 출력\n",
    "weekdays(myDates)"
   ]
  },
  {
   "cell_type": "code",
   "execution_count": 1,
   "metadata": {
    "vscode": {
     "languageId": "r"
    }
   },
   "outputs": [
    {
     "data": {
      "text/html": [
       "'ko_KR.UTF-8/ko_KR.UTF-8/ko_KR.UTF-8/C/ko_KR.UTF-8/C'"
      ],
      "text/latex": [
       "'ko\\_KR.UTF-8/ko\\_KR.UTF-8/ko\\_KR.UTF-8/C/ko\\_KR.UTF-8/C'"
      ],
      "text/markdown": [
       "'ko_KR.UTF-8/ko_KR.UTF-8/ko_KR.UTF-8/C/ko_KR.UTF-8/C'"
      ],
      "text/plain": [
       "[1] \"ko_KR.UTF-8/ko_KR.UTF-8/ko_KR.UTF-8/C/ko_KR.UTF-8/C\""
      ]
     },
     "metadata": {},
     "output_type": "display_data"
    },
    {
     "ename": "ERROR",
     "evalue": "Error in eval(expr, envir, enclos): 객체 'myDates'를 찾을 수 없습니다\n",
     "output_type": "error",
     "traceback": [
      "Error in eval(expr, envir, enclos): 객체 'myDates'를 찾을 수 없습니다\nTraceback:\n",
      "1. weekdays(myDates)"
     ]
    }
   ],
   "source": [
    "# 언어 설정\n",
    "Sys.setlocale(category = \"LC_ALL\", locale = \"ko_KR.UTF-8\")\n",
    "\n",
    "weekdays(myDates)"
   ]
  },
  {
   "cell_type": "code",
   "execution_count": null,
   "metadata": {
    "vscode": {
     "languageId": "r"
    }
   },
   "outputs": [],
   "source": [
    "# 현재 일자 기준으로 날짜 계산하기\n",
    "# 현재 일자\n",
    "Sys.Date()\n",
    "class(Sys.Date())\n",
    "Sys.Date() - as.Date(\"2016/10/18\")"
   ]
  },
  {
   "cell_type": "markdown",
   "metadata": {},
   "source": [
    "------------\n",
    "# Vector 자료 구조\n",
    "벡터는 R에서 가장 기본이 되는 자료구조\n",
    "- 1차원 선형 자료 구조 형태\n",
    "- 구성 : 변수[첨자] 형태로 구성, 첨자는 1부터 시작 (index)\n",
    "- 동일한 자료형의 데이터만 저장 할 수 있다.\n",
    "- 벡터 생성 함수 : c(), :, seq(), rep(), .....\n",
    "- 벡터 처리 함수 : sum(), mean(), sd(), union(), ....."
   ]
  },
  {
   "cell_type": "code",
   "execution_count": null,
   "metadata": {
    "vscode": {
     "languageId": "r"
    }
   },
   "outputs": [],
   "source": [
    "# iris의 Sepal.Length 컬럼의 내용을 1차원 벡터로 만들기\n",
    "irisSepalLength <- iris$Sepal.Length\n",
    "irisSepalLength\n",
    "\n",
    "# Vector인지 확인\n",
    "is.vector(irisSepalLength)"
   ]
  },
  {
   "cell_type": "code",
   "execution_count": null,
   "metadata": {
    "vscode": {
     "languageId": "r"
    }
   },
   "outputs": [],
   "source": [
    "# irisSepalLength의 합계 구하기\n",
    "sum(irisSepalLength)\n",
    "\n",
    "# irisSepalLength의 평균 구하기\n",
    "mean(irisSepalLength)\n",
    "\n",
    "# irisSepalLength의 최댓값 구하기\n",
    "max(irisSepalLength)\n",
    "\n",
    "# irisSepalLength의 최솟값 구하기\n",
    "min(irisSepalLength)"
   ]
  },
  {
   "cell_type": "code",
   "execution_count": null,
   "metadata": {
    "vscode": {
     "languageId": "r"
    }
   },
   "outputs": [],
   "source": [
    "# irisSepalLength의 범위값\n",
    "range(irisSepalLength)"
   ]
  },
  {
   "cell_type": "code",
   "execution_count": null,
   "metadata": {
    "vscode": {
     "languageId": "r"
    }
   },
   "outputs": [],
   "source": [
    "# irisSepalLength의 표준편차\n",
    "sd(irisSepalLength)"
   ]
  },
  {
   "cell_type": "code",
   "execution_count": null,
   "metadata": {
    "vscode": {
     "languageId": "r"
    }
   },
   "outputs": [],
   "source": [
    "# 필요한 데이터만 확인\n",
    "# irisSepalLength의 1번 데이터만 보기\n",
    "irisSepalLength[1]\n",
    "\n",
    "# irisSepalLength의 1번, 10번, 11번 데이터만 보기\n",
    "irisSepalLength[c(1,10,11)]"
   ]
  },
  {
   "cell_type": "code",
   "execution_count": null,
   "metadata": {
    "vscode": {
     "languageId": "r"
    }
   },
   "outputs": [],
   "source": [
    "# irisSepalLength 1,10,11번 데이터의 합계 구하기\n",
    "sum(irisSepalLength[c(1,10,11)])\n",
    "\n",
    "num1 <- c(1,10,11)\n",
    "sum(irisSepalLength[num1])\n",
    "\n",
    "# irisSepalLength의 1~10번지 합계 구하기\n",
    "sum(irisSepalLength[c(1:10)])\n",
    "\n",
    "# irisSepalLength의 1~20번지, 30번지, 40번지의 합계 구하기\n",
    "sum(irisSepalLength[c(1:20,30,40)])"
   ]
  },
  {
   "cell_type": "code",
   "execution_count": null,
   "metadata": {
    "vscode": {
     "languageId": "r"
    }
   },
   "outputs": [],
   "source": [
    "# 벡터형 자료의 일부를 변경\n",
    "x <- c(10,20,30,40,50)\n",
    "x\n",
    "y <- replace(x,c(2,4),c(200,400))\n",
    "y"
   ]
  },
  {
   "cell_type": "code",
   "execution_count": null,
   "metadata": {
    "vscode": {
     "languageId": "r"
    }
   },
   "outputs": [],
   "source": [
    "# 초기값, 최종값, 증가값으로 구성되는 벡터 생성\n",
    "seq(from = 1, to = 10, by = 0.5)"
   ]
  },
  {
   "cell_type": "code",
   "execution_count": null,
   "metadata": {
    "vscode": {
     "languageId": "r"
    }
   },
   "outputs": [],
   "source": [
    "# 1~10 까지의 홀수, 1~10, 50, 60의 합계 구하기\n",
    "sum(c(1:10,50,60,seq(1,10,2)))"
   ]
  },
  {
   "cell_type": "code",
   "execution_count": null,
   "metadata": {
    "vscode": {
     "languageId": "r"
    }
   },
   "outputs": [],
   "source": [
    "# 반복\n",
    "rep(1:3, 3)\n",
    "c(rep(\"red\", 3), \"blue\")\n",
    "\n",
    "rep(1:3,each=3)"
   ]
  },
  {
   "cell_type": "code",
   "execution_count": null,
   "metadata": {
    "vscode": {
     "languageId": "r"
    }
   },
   "outputs": [],
   "source": [
    "# 1 ~ 20 까지의 숫자 중 짝수만 2번 반복하여 합계\n",
    "sum(rep(seq(2,20,2),2))"
   ]
  },
  {
   "cell_type": "code",
   "execution_count": null,
   "metadata": {
    "vscode": {
     "languageId": "r"
    }
   },
   "outputs": [],
   "source": [
    "# 합집합\n",
    "union(x,y)\n",
    "\n",
    "# 교집합\n",
    "intersect(x,y)\n",
    "\n",
    "# 차집합\n",
    "setdiff(x,y) # x-y\n",
    "setdiff(y,x) # y-x"
   ]
  },
  {
   "cell_type": "code",
   "execution_count": null,
   "metadata": {
    "vscode": {
     "languageId": "r"
    }
   },
   "outputs": [],
   "source": [
    "# 벡터 자료 정렬 : 정렬이 되어있어야 ML 학습 용이\n",
    "# sample : 기본값이 중복 불가(replace)\n",
    "sample(1:10, 2, replace = FALSE, prob = NULL) \n",
    "sample(1:45, 6, replace = TRUE, prob = NULL)\n",
    "# sort : 오름차순 정렬, decreasing = TRUE, 내림차순 정렬\n",
    "sort(sample(1:10, 10, replace = FALSE, prob = NULL))\n",
    "sort(sample(1:10, 10, replace = FALSE, prob = NULL), decreasing = TRUE)"
   ]
  },
  {
   "cell_type": "code",
   "execution_count": null,
   "metadata": {
    "vscode": {
     "languageId": "r"
    }
   },
   "outputs": [],
   "source": [
    "# 벡터의 집합 연산\n",
    "x <- sort(sample(1:99,9))\n",
    "y <- sort(sample(3:60,10))\n",
    "\n",
    "# 같은 집합인가?\n",
    "setequal(x,y)\n",
    "\n",
    "# 12는 x에 포함 되었는가?\n",
    "is.element(12,x)\n",
    "\n",
    "# 벡터의 길이\n",
    "length(x)\n",
    "length(y)"
   ]
  },
  {
   "cell_type": "code",
   "execution_count": null,
   "metadata": {
    "vscode": {
     "languageId": "r"
    }
   },
   "outputs": [],
   "source": [
    "# iris의 Sepal.Length와 Petal.Length의 교집합의 갯수?\n",
    "length(intersect(iris$Sepal.Length,iris$Petal.Length))"
   ]
  },
  {
   "cell_type": "code",
   "execution_count": null,
   "metadata": {
    "vscode": {
     "languageId": "r"
    }
   },
   "outputs": [],
   "source": [
    "# 벡터에 이름 설정하기\n",
    "age <- c(30,35,50)\n",
    "age\n",
    "names(age) <- c(\"원도현\",\"이천영\",\"박지환\")\n",
    "age"
   ]
  },
  {
   "cell_type": "markdown",
   "metadata": {},
   "source": [
    "### 문자열 벡터"
   ]
  },
  {
   "cell_type": "code",
   "execution_count": null,
   "metadata": {
    "vscode": {
     "languageId": "r"
    }
   },
   "outputs": [],
   "source": [
    "x <- rep(c('a','b','c'),4)\n",
    "x"
   ]
  },
  {
   "cell_type": "code",
   "execution_count": null,
   "metadata": {
    "vscode": {
     "languageId": "r"
    }
   },
   "outputs": [],
   "source": [
    "# 중복값을 제외하고 보기\n",
    "unique(x)"
   ]
  },
  {
   "cell_type": "code",
   "execution_count": null,
   "metadata": {
    "vscode": {
     "languageId": "r"
    }
   },
   "outputs": [],
   "source": [
    "# iris의 품종이 몇 종류인지 확인\n",
    "length(unique(iris$Species))"
   ]
  },
  {
   "cell_type": "code",
   "execution_count": null,
   "metadata": {
    "vscode": {
     "languageId": "r"
    }
   },
   "outputs": [],
   "source": [
    "name <- c(\"Apple\",\"Computer\",'Samsung','Communication')\n",
    "\n",
    "# name에서 Co를 가지고 있는 단어의 번지수\n",
    "grep('Co', name)\n",
    "\n",
    "# name에서 Co를 가지고 있는 단어는?\n",
    "name[(grep('Co',name))]\n",
    "\n",
    "# name에서 om을 가지고 있는 단어는?\n",
    "name[grep('om',name)]"
   ]
  },
  {
   "cell_type": "code",
   "execution_count": null,
   "metadata": {
    "vscode": {
     "languageId": "r"
    }
   },
   "outputs": [],
   "source": [
    "a <- 1:500\n",
    "\n",
    "# 10번 ~ 전체 데이터 중 끝에서 5개는 빼고 사용 ...\n",
    "setdiff(a[c(10:500)],tail(a,5))\n",
    "\n",
    "a[c(10:length(a)-5)]"
   ]
  },
  {
   "cell_type": "code",
   "execution_count": null,
   "metadata": {
    "vscode": {
     "languageId": "r"
    }
   },
   "outputs": [],
   "source": [
    "a <- 10:50\n",
    "a\n",
    "# 1번지 값 지우기\n",
    "a[-1]"
   ]
  },
  {
   "cell_type": "code",
   "execution_count": null,
   "metadata": {
    "vscode": {
     "languageId": "r"
    }
   },
   "outputs": [],
   "source": [
    "a <- 10:50\n",
    "# a에서 2번과 4번을 삭제\n",
    "a[c(-2,-4)]\n",
    "a[-c(2,4)]\n",
    "\n",
    "# 2번, 5~10번 삭제\n",
    "a[-c(2,5:10)]"
   ]
  },
  {
   "cell_type": "code",
   "execution_count": null,
   "metadata": {
    "vscode": {
     "languageId": "r"
    }
   },
   "outputs": [],
   "source": [
    "a <- 10:50\n",
    "# a의 홀수번지 Data의 합계 구하기 (단, a의 데이터는 가변적이다.)\n",
    "sum(a[seq(1,length(a),2)])\n",
    "\n",
    "a[seq(1,length(a),2)]"
   ]
  },
  {
   "cell_type": "code",
   "execution_count": null,
   "metadata": {
    "vscode": {
     "languageId": "r"
    }
   },
   "outputs": [],
   "source": [
    "a <- 1:10\n",
    "\n",
    "a[c(1,3,5)]\n",
    "a[1:10]\n",
    "a[seq(1,10,2)]\n",
    "rep(a[1:3],2)"
   ]
  },
  {
   "cell_type": "code",
   "execution_count": null,
   "metadata": {
    "vscode": {
     "languageId": "r"
    }
   },
   "outputs": [],
   "source": [
    "irisHead <- iris[1:5,]\n",
    "irisHead"
   ]
  },
  {
   "cell_type": "code",
   "execution_count": null,
   "metadata": {
    "vscode": {
     "languageId": "r"
    }
   },
   "outputs": [],
   "source": [
    "# DataSet의 Row,Col 변경\n",
    "t(irisHead)"
   ]
  },
  {
   "cell_type": "code",
   "execution_count": null,
   "metadata": {
    "vscode": {
     "languageId": "r"
    }
   },
   "outputs": [],
   "source": [
    "iris.num1 <- iris$Sepal.Length\n",
    "print(iris.num1)\n",
    "# iris.num1에서 10,20,30, .... , 150번지만 출력\n",
    "iris.num1[seq(10,150,10)]"
   ]
  },
  {
   "cell_type": "code",
   "execution_count": null,
   "metadata": {
    "vscode": {
     "languageId": "r"
    }
   },
   "outputs": [],
   "source": [
    "# 마지막 문제 \n",
    "iris[seq(10,150,10),]\n",
    "\n",
    "iris[seq(10,length(iris$Sepal.Length),10),]"
   ]
  }
 ],
 "metadata": {
  "kernelspec": {
   "display_name": "R",
   "language": "R",
   "name": "ir"
  },
  "language_info": {
   "codemirror_mode": "r",
   "file_extension": ".r",
   "mimetype": "text/x-r-source",
   "name": "R",
   "pygments_lexer": "r",
   "version": "4.3.3"
  }
 },
 "nbformat": 4,
 "nbformat_minor": 2
}

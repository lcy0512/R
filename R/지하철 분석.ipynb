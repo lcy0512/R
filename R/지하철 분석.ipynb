{
 "cells": [
  {
   "cell_type": "code",
   "execution_count": null,
   "metadata": {
    "vscode": {
     "languageId": "r"
    }
   },
   "outputs": [],
   "source": [
    "# 파일 불러오기\n",
    "subway_2019 <- read.csv(\"Data/CARD_SUBWAY_MONTH_2019.csv\", fileEncoding = \"EUC-KR\")\n",
    "# 등록일자와 승차총승객수 컬럼 삭제\n",
    "subway_2019 <- subway_2019[,-c(4,6)]\n",
    "# 강남구에는 상당히 많은 역들이 존재함.\n",
    "# 하지만 유흥주점 대부분은 역삼동,논현동,신사동,삼성동,청담동 위주에 포진되어있음\n",
    "nrow(store_강남) - ( length(grep('역삼',store_강남$지번주소)) +\n",
    "                    length(grep('논현',store_강남$지번주소)) +\n",
    "                    length(grep('신사',store_강남$지번주소)) +\n",
    "                    length(grep('삼성',store_강남$지번주소)) +\n",
    "                    length(grep('청담',store_강남$지번주소))\n",
    "                   )\n",
    "# 강남구 전체 유흥업소 / 역삼,논현,신사,삼성,청담에 있는 유흥업소 * 100 = 97.86%\n",
    "639 / 653 * 100\n",
    "\n",
    "# 따라서 이 5개의 동 주변에 있는 역들의 유동인구를 파악\n",
    "### 5개 동에 속해있는 역\n",
    "- 강남구청역,강남역,논현역,봉은사역,삼성역\n",
    "- 삼성중앙역,신논현역,신사역\n",
    "- 언주역,역삼역,일원역,청담역,학동역\n",
    "subway_name <- c('강남구청','강남','논현','봉은사','삼성(무역센터)','삼성중앙','신논현','신사','언주','역삼','일원','청담','학동')\n",
    "# 데이터프레임 생성\n",
    "subway_2019_5 <- data.frame(역명 = character(), 하차총승객수 = numeric())\n",
    "\n",
    "# 반복문을 사용하여 각 역별 하차총승객수를 계산하여 데이터프레임에 추가\n",
    "for(i in 1:length(subway_name)) {\n",
    "    # 해당 역명에 해당하는 데이터를 추출하여 합계 계산 후 데이터프레임에 추가\n",
    "    station_data <- subset(subway_2019, 역명 == subway_name[i])\n",
    "    total_passengers <- sum(station_data$하차총승객수)\n",
    "    subway_2019_5 <- rbind(subway_2019_5, data.frame(역명 = subway_name[i], 하차총승객수 = total_passengers))\n",
    "}\n",
    "subway_2019_5\n",
    "par(family = 'AppleGothic',bg = 'white')\n",
    "barplot(\n",
    "    arrange(subway_2019_5,desc(하차총승객수))$하차총승객수 / 10000,\n",
    "    names = arrange(subway_2019_5,desc(하차총승객수))$역명,\n",
    "    xlab = '지하철역 명',\n",
    "    ylab = '하차 승객 수(단위:만명)',\n",
    "    ylim = c(0,4000),\n",
    "    col = c('red',rep('blue3',1,12))\n",
    ")\n",
    "for(i in 1:nrow(subway_2019_5)) {\n",
    "    text(\n",
    "        (0.7 + (i-1)*1.2), # x좌표\n",
    "        (arrange(subway_2019_5,desc(하차총승객수))$하차총승객수[i] / 10000) + 100, # y좌표\n",
    "        paste(round(arrange(subway_2019_5,desc(하차총승객수))$하차총승객수[i] / 10000),\"만명\") # text\n",
    "    )\n",
    "}\n",
    "\n",
    "title(\n",
    "    main = '2019년 역삼,논현,신사,청담,삼성에 속해있는 지하철역의 총 하차 승객수',\n",
    "    cex.main = 1.6\n",
    ")"
   ]
  }
 ],
 "metadata": {
  "kernelspec": {
   "display_name": "R",
   "language": "R",
   "name": "ir"
  },
  "language_info": {
   "name": "R"
  }
 },
 "nbformat": 4,
 "nbformat_minor": 2
}

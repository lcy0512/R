{
 "cells": [
  {
   "cell_type": "markdown",
   "metadata": {},
   "source": [
    "# KNN(k Nearest Neighbors)\n",
    "- 지도학습\n",
    "\n",
    "    객관식 : classification(분류)<br>\n",
    "    주관식 : regression(회귀)"
   ]
  },
  {
   "cell_type": "code",
   "execution_count": null,
   "metadata": {
    "vscode": {
     "languageId": "r"
    }
   },
   "outputs": [],
   "source": [
    "# 학습용 데이터와 검증용 데이터 분리\n",
    "set.seed(1234)\n",
    "samp <- c(sample(1:50,35), sample(51:100,35), sample(101:150,35))"
   ]
  },
  {
   "cell_type": "code",
   "execution_count": 8,
   "metadata": {
    "vscode": {
     "languageId": "r"
    }
   },
   "outputs": [],
   "source": [
    "# 학습용 데이터 셋\n",
    "data.tr <- iris[samp,]\n",
    "\n",
    "# 검증용 데이터 셋\n",
    "data.test <- iris[-samp,]"
   ]
  },
  {
   "cell_type": "code",
   "execution_count": null,
   "metadata": {
    "vscode": {
     "languageId": "r"
    }
   },
   "outputs": [],
   "source": [
    "summary(data.tr)\n",
    "summary(data.test)"
   ]
  },
  {
   "cell_type": "code",
   "execution_count": 20,
   "metadata": {
    "vscode": {
     "languageId": "r"
    }
   },
   "outputs": [],
   "source": [
    "# Training Data 준비\n",
    "data.training = subset(data.tr, select = -Species)\n",
    "data.training.label = data.tr$Species\n",
    "\n",
    "# 문제 및 정답\n",
    "x <- subset(data.test, select = -Species)\n",
    "y <- data.test$Species"
   ]
  },
  {
   "cell_type": "markdown",
   "metadata": {},
   "source": [
    "# 학습"
   ]
  },
  {
   "cell_type": "code",
   "execution_count": null,
   "metadata": {
    "vscode": {
     "languageId": "r"
    }
   },
   "outputs": [],
   "source": [
    "# Model 불러오기(KNN)\n",
    "library(class)\n",
    "\n",
    "# k = 3 (Hyper Parameter 조정)\n",
    "iris_knn <- knn(train=data.training, test=x, cl=data.training.label, k=3)\n",
    "\n",
    "# 예측값\n",
    "mean(y == iris_knn)"
   ]
  },
  {
   "cell_type": "code",
   "execution_count": 27,
   "metadata": {
    "vscode": {
     "languageId": "r"
    }
   },
   "outputs": [
    {
     "data": {
      "text/plain": [
       "            iris_knn\n",
       "y            setosa versicolor virginica\n",
       "  setosa         15          0         0\n",
       "  versicolor      0         13         2\n",
       "  virginica       0          0        15"
      ]
     },
     "metadata": {},
     "output_type": "display_data"
    }
   ],
   "source": [
    "# 정오표 확인\n",
    "table(y,iris_knn)"
   ]
  }
 ],
 "metadata": {
  "kernelspec": {
   "display_name": "R",
   "language": "R",
   "name": "ir"
  },
  "language_info": {
   "codemirror_mode": "r",
   "file_extension": ".r",
   "mimetype": "text/x-r-source",
   "name": "R",
   "pygments_lexer": "r",
   "version": "4.3.3"
  }
 },
 "nbformat": 4,
 "nbformat_minor": 2
}

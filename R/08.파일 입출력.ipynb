{
 "cells": [
  {
   "cell_type": "code",
   "execution_count": null,
   "metadata": {
    "vscode": {
     "languageId": "r"
    }
   },
   "outputs": [],
   "source": [
    "# 기본 옵션\n",
    "options(warn = -1)\n",
    "options(repr.plot.width=15, repr.plot.height=9)\n",
    "options(scipen = 100)\n",
    "Sys.setlocale(category = \"LC_ALL\", locale = \"ko_KR.UTF-8\")\n",
    "\n",
    "# library 불러오기\n",
    "library(stringr)"
   ]
  },
  {
   "cell_type": "code",
   "execution_count": null,
   "metadata": {
    "vscode": {
     "languageId": "r"
    }
   },
   "outputs": [],
   "source": [
    "no <- 1:4\n",
    "name <- c(\"Apple\",\"Banana\",\"Peach\",\"Berry\")\n",
    "price <- c(500,200,200,50)\n",
    "qty <- c(5,4,3,2)"
   ]
  },
  {
   "cell_type": "code",
   "execution_count": null,
   "metadata": {
    "vscode": {
     "languageId": "r"
    }
   },
   "outputs": [],
   "source": [
    "fruit <- data.frame(번호=no,제품=name,금액=price,수량=qty)"
   ]
  },
  {
   "cell_type": "code",
   "execution_count": null,
   "metadata": {
    "vscode": {
     "languageId": "r"
    }
   },
   "outputs": [],
   "source": [
    "# 메모리 형태로 파일 보관\n",
    "save(fruit,no,name,file = \"Data/Fruit.txt\")\n",
    "\n",
    "# 파일 불러오기\n",
    "load(\"Data/Fruit.txt\")\n",
    "\n",
    "# fruit를 csv로 저장\n",
    "write.csv(fruit,\"Data/fruit.csv\",row.names=F)"
   ]
  },
  {
   "cell_type": "markdown",
   "metadata": {},
   "source": [
    "### 세계 GDP 순위 데이터 정제 및 차트 만들기"
   ]
  },
  {
   "cell_type": "code",
   "execution_count": null,
   "metadata": {
    "vscode": {
     "languageId": "r"
    }
   },
   "outputs": [],
   "source": [
    "GDP_ranking <- read.csv(\"Data/GDP.csv\")"
   ]
  },
  {
   "cell_type": "code",
   "execution_count": null,
   "metadata": {
    "vscode": {
     "languageId": "r"
    }
   },
   "outputs": [],
   "source": [
    "# 데이터 삭제\n",
    "GDP <- GDP_ranking[,-c(3,6)]\n",
    "GDP <- GDP[-4:-1,]\n",
    "\n",
    "# 상위 15개국 선별\n",
    "GDP_top15 <- GDP[1:15,]\n",
    "\n",
    "# Column 이름 정의\n",
    "colnames(GDP_top15) <- c(\"Code\",\"Ranking\",\"Nation\",\"GDP\")"
   ]
  },
  {
   "cell_type": "code",
   "execution_count": null,
   "metadata": {
    "vscode": {
     "languageId": "r"
    }
   },
   "outputs": [],
   "source": [
    "# Row 이름 새로 구성\n",
    "rownames(GDP_top15) <- c()"
   ]
  },
  {
   "cell_type": "code",
   "execution_count": null,
   "metadata": {
    "vscode": {
     "languageId": "r"
    }
   },
   "outputs": [],
   "source": [
    "GDP_top15$GDP <- as.numeric(str_replace_all(GDP_top15$GDP,\",\",\"\"))"
   ]
  },
  {
   "cell_type": "code",
   "execution_count": null,
   "metadata": {
    "vscode": {
     "languageId": "r"
    }
   },
   "outputs": [],
   "source": [
    "par(family = \"AppleGothic\", bg = 'lightgrey')\n",
    "barplot(\n",
    "    GDP_top15$GDP / 1000, # Data\n",
    "    main = \"2018년 GDP 세계 15위 국가\", # main Title\n",
    "    xlab = \"국가(nation)\", # x축 이름\n",
    "    ylab = \"단위(천달러)\", # y축 이름\n",
    "    col = ifelse(GDP_top15$GDP / 1000 >= 3000, \"RED\",\"BLUE\"), # color\n",
    "    names = GDP_top15$Code,\n",
    "    cex.names = 1.2,\n",
    "    ylim = c(0,25000)\n",
    ")"
   ]
  },
  {
   "cell_type": "code",
   "execution_count": null,
   "metadata": {
    "vscode": {
     "languageId": "r"
    }
   },
   "outputs": [],
   "source": [
    "# 미국,중국,한국 : 빨간색, 그, 이외 국가는 파란색으로 표현\n",
    "ifelse(is.element(GDP_top15$Code,c(\"USA\",\"KOR\",\"CHN\")),\"Red\",\"BLUE\")\n",
    "ifelse(GDP_top15$Code == \"USA\"|GDP_top15$Code == \"KOR\"|GDP_top15$Code == \"CHN\",\"Red\",\"BLUE\")\n",
    "ifelse(GDP_top15$Code == c('USA','CHN''KOR'),\"RED\",\"BLUE\")\n",
    "\n",
    "# GDP가 3,000,000 이상인 국가만 빨간색으로 표시\n",
    "ifelse(GDP_top15$GDP / 1000 >= 3000, \"RED\",\"BLUE\")"
   ]
  },
  {
   "cell_type": "markdown",
   "metadata": {},
   "source": [
    "---\n",
    "# 데이터 처리"
   ]
  },
  {
   "cell_type": "code",
   "execution_count": null,
   "metadata": {
    "vscode": {
     "languageId": "r"
    }
   },
   "outputs": [],
   "source": [
    "# 데이터 정렬\n",
    "# install.packages(\"dplyr\")\n",
    "library(\"dplyr\")"
   ]
  },
  {
   "cell_type": "code",
   "execution_count": null,
   "metadata": {
    "vscode": {
     "languageId": "r"
    }
   },
   "outputs": [],
   "source": [
    "# Sepal.Length 기준으로 오름차순 정렬\n",
    "# arrange() : dplyr\n",
    "head(arrange(iris,Sepal.Length))\n",
    "\n",
    "# Sepal.Length 기준으로 오름차순 정렬 후 1열과 2열만 보기\n",
    "head(arrange(iris[,1:2],Sepal.Length))\n",
    "\n",
    "# Sepal.Length 기준으로 오름차순 정렬 후 동일한 크기를 가진 데이터 발생 시 Petal.Length 기준으로 오름차순 정렬\n",
    "head(arrange(iris,Sepal.Length,Petal.Length))\n",
    "\n",
    "# Sepal.Length 기준으로 내림차순 정렬\n",
    "head(arrange(iris,desc(Sepal.Length)))"
   ]
  },
  {
   "cell_type": "code",
   "execution_count": null,
   "metadata": {
    "vscode": {
     "languageId": "r"
    }
   },
   "outputs": [],
   "source": [
    "# Sampling(중복값을 허용하지 않음) -> target의 숫자가 동일해야함\n",
    "samp <- sample(1:nrow(iris),nrow(iris)*0.7)\n",
    "irisTrain <- iris[samp,]"
   ]
  },
  {
   "cell_type": "code",
   "execution_count": null,
   "metadata": {
    "vscode": {
     "languageId": "r"
    }
   },
   "outputs": [],
   "source": [
    "# 동일 데이터로 Training을 위함\n",
    "set.seed(1234)\n",
    "\n",
    "# iris는 이미 정렬이 되어있으므로 Target 각각의 숫자를 동일하게 표본집단 추출, 모집단의 70%는 Training, 30%는 Test\n",
    "samp <- c(sample(1:50,35),sample(51:100,35),sample(101:150,35))\n",
    "irisTrain <- iris[samp,]\n",
    "\n",
    "# Test\n",
    "irisTest <- iris[-samp,]\n",
    "\n",
    "# 표본집단들의 중앙값,평균 확인 -> 정규분포를 이루는지\n",
    "summary(irisTrain)\n",
    "summary(irisTest)"
   ]
  },
  {
   "cell_type": "code",
   "execution_count": null,
   "metadata": {
    "vscode": {
     "languageId": "r"
    }
   },
   "outputs": [],
   "source": [
    "# 모집단에서 필요한 데이터만 추출\n",
    "# iris에서 Species = setosa 만 추출하여 iris_setosa 라는 data.frame 생성\n",
    "iris_setosa <- subset(iris,Species == 'setosa')\n",
    "\n",
    "# Species가 3종류가 추출되었기에 조정필요\n",
    "str(iris_setosa)\n",
    "\n",
    "# factor 조정\n",
    "iris_setosa$Species <- factor(iris_setosa$Species)"
   ]
  },
  {
   "cell_type": "code",
   "execution_count": null,
   "metadata": {
    "vscode": {
     "languageId": "r"
    }
   },
   "outputs": [],
   "source": [
    "# iris에서 Species가 versicolor 인것만 추출하여 iris_versicolor라는 data.frame 생성\n",
    "iris_versicolor <- subset(iris,Species == 'versicolor')\n",
    "rownames(iris_versicolor) <- c()\n",
    "iris_versicolor$Species <- factor(iris_versicolor$Species)"
   ]
  },
  {
   "cell_type": "code",
   "execution_count": null,
   "metadata": {
    "vscode": {
     "languageId": "r"
    }
   },
   "outputs": [],
   "source": [
    "# iris에서 Species가 setosa이고, Sepal.Length가 5보다 큰 자료만 추출\n",
    "iris_setosa_5 <- subset(iris,Species == 'setosa' & Sepal.Length > 5)\n",
    "rownames(iris_setosa_5) <- c()\n",
    "iris_setosa_5$Species <- factor(iris_setosa_5$Species)"
   ]
  },
  {
   "cell_type": "code",
   "execution_count": null,
   "metadata": {
    "vscode": {
     "languageId": "r"
    }
   },
   "outputs": [],
   "source": [
    "# subset으로 컬럼 지우기\n",
    "subset(iris,select = -Species)"
   ]
  },
  {
   "cell_type": "markdown",
   "metadata": {},
   "source": [
    "## 그룹 연산 함수"
   ]
  },
  {
   "cell_type": "code",
   "execution_count": null,
   "metadata": {
    "vscode": {
     "languageId": "r"
    }
   },
   "outputs": [],
   "source": [
    "# iris에서 Species별로 Sepal.width의 평균\n",
    "mean(subset(iris,Species == 'setosa')$Sepal.Width)\n",
    "\n",
    "aggregate(Sepal.Width ~ Species, iris, mean)"
   ]
  },
  {
   "cell_type": "code",
   "execution_count": null,
   "metadata": {
    "vscode": {
     "languageId": "r"
    }
   },
   "outputs": [],
   "source": [
    "seoul <- read.csv(\"Data/newSeoul.csv\")"
   ]
  },
  {
   "cell_type": "markdown",
   "metadata": {},
   "source": [
    "# 컬럼별 데이터 확인"
   ]
  },
  {
   "cell_type": "code",
   "execution_count": null,
   "metadata": {
    "vscode": {
     "languageId": "r"
    }
   },
   "outputs": [],
   "source": [
    "# NA 확인\n",
    "sum(is.na(seoul))\n",
    "\n",
    "# 컬럼별 결측치 확인\n",
    "for(i in 1:ncol(seoul)) {\n",
    "    cat(colnames(seoul[i]), \":\" ,sum(is.na(seoul[,i])),\"\\n\")\n",
    "}\n",
    "\n",
    "colSums(is.na(seoul))\n",
    "\n",
    "# 컬럼별 데이터 갯수 확인\n",
    "table(seoul$년도)"
   ]
  },
  {
   "cell_type": "code",
   "execution_count": null,
   "metadata": {
    "vscode": {
     "languageId": "r"
    }
   },
   "outputs": [],
   "source": [
    "# 자치구 별 발생건수의 평균\n",
    "regionAcc.mean <- aggregate(발생건수 ~ 자치구명,seoul,mean)\n",
    "arrange(regionAcc.mean,desc(발생건수))\n",
    "\n",
    "# 자치구 별 발생건수의 표준편차\n",
    "regionAcc.sd <- aggregate(발생건수 ~ 자치구명,seoul,sd)\n",
    "\n",
    "# 자치구별의 발생건수의 변동계수\n",
    "# 변동계수 = 표준편차 / 평균\n",
    "regionAcc.cv <- regionAcc.sd$발생건수/ regionAcc.mean$발생건수\n",
    "\n",
    "# 자치구명과 변동계수를 가진 DataFrame 만들기\n",
    "regionAcc <- data.frame(자치구명=regionAcc.mean$자치구명,변동계수=regionAcc.cv)\n",
    "arrange(regionAcc,변동계수)"
   ]
  },
  {
   "cell_type": "markdown",
   "metadata": {},
   "source": [
    "### 서울시 교통사고 부상자수에 대한 변동계수 구하기"
   ]
  },
  {
   "cell_type": "code",
   "execution_count": null,
   "metadata": {
    "vscode": {
     "languageId": "r"
    }
   },
   "outputs": [],
   "source": [
    "# 평균\n",
    "regionInjure.mean <- aggregate(부상자수 ~ 자치구명,seoul,mean)\n",
    "\n",
    "# 표준편차\n",
    "regionInjure.sd <- aggregate(부상자수 ~ 자치구명,seoul,sd)\n",
    "\n",
    "# 변동계수\n",
    "regionInjure.cv <- regionInjure.sd$부상자수 / regionInjure.mean$부상자수\n",
    "\n",
    "# 변동계수 DataFrame\n",
    "regionInjure <- data.frame(자치구명=regionInjure.mean$자치구명,변동계수=regionInjure.cv)\n",
    "arrange(regionInjure,변동계수)"
   ]
  },
  {
   "cell_type": "code",
   "execution_count": null,
   "metadata": {
    "vscode": {
     "languageId": "r"
    }
   },
   "outputs": [],
   "source": [
    "# 교통사고 발생건수와 부상자수의 관계 : 상관관계\n",
    "# 0 ~ 0.3 : 상관없음\n",
    "# 0.3 ~ 0.5 : 약한 관계\n",
    "# 0.5 ~ 0.7 : 관계\n",
    "# 0.7 ~ : 강한 관계\n",
    "cor(seoul$발생건수,seoul$부상자수)\n",
    "\n",
    "# 교통사고 발생건수와 사망자수의 관계\n",
    "cor(seoul$발생건수,seoul$사망자수)\n",
    "\n",
    "# 교통사고 부상자수와 사망자수의 관계\n",
    "cor(seoul$부상자수,seoul$사망자수)"
   ]
  },
  {
   "cell_type": "code",
   "execution_count": null,
   "metadata": {
    "vscode": {
     "languageId": "r"
    }
   },
   "outputs": [],
   "source": [
    "par(family = \"AppleGothic\",bg = 'white')\n",
    "# 발생건수와 부상자수의 산포도\n",
    "plot(x = seoul$발생건수,y = seoul$부상자수)\n",
    "\n",
    "# 발생건수와 사망자수의 산포도\n",
    "plot(x = seoul$발생건수,y = seoul$사망자수)"
   ]
  },
  {
   "cell_type": "code",
   "execution_count": null,
   "metadata": {
    "vscode": {
     "languageId": "r"
    }
   },
   "outputs": [],
   "source": [
    "# 서울시 교통사고 사망자수에 대한 변동계수\n",
    "\n",
    "# 평균\n",
    "regionDeath.mean <- aggregate(사망자수 ~ 자치구명,seoul,mean)\n",
    "\n",
    "# 표준편차\n",
    "regionDeath.sd <- aggregate(사망자수 ~ 자치구명,seoul,sd)\n",
    "\n",
    "# 변동계수\n",
    "regionDeath.cv <- regionDeath.sd$사망자수 / regionDeath.mean$사망자수\n",
    "\n",
    "# 변동계수 DataFrame\n",
    "regionDeath <- data.frame(자치구명=regionDeath.mean$자치구명,변동계수=regionDeath.cv)\n",
    "arrange(regionDeath,변동계수)"
   ]
  }
 ],
 "metadata": {
  "kernelspec": {
   "display_name": "R",
   "language": "R",
   "name": "ir"
  },
  "language_info": {
   "codemirror_mode": "r",
   "file_extension": ".r",
   "mimetype": "text/x-r-source",
   "name": "R",
   "pygments_lexer": "r",
   "version": "4.3.3"
  }
 },
 "nbformat": 4,
 "nbformat_minor": 2
}

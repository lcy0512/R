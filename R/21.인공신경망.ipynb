{
 "cells": [
  {
   "cell_type": "code",
   "execution_count": 2,
   "metadata": {
    "vscode": {
     "languageId": "r"
    }
   },
   "outputs": [
    {
     "name": "stderr",
     "output_type": "stream",
     "text": [
      "Loading required package: ggplot2\n",
      "\n",
      "Loading required package: lattice\n",
      "\n"
     ]
    }
   ],
   "source": [
    "library(caret)"
   ]
  },
  {
   "cell_type": "code",
   "execution_count": 50,
   "metadata": {
    "vscode": {
     "languageId": "r"
    }
   },
   "outputs": [
    {
     "name": "stdout",
     "output_type": "stream",
     "text": [
      "# weights:  27\n",
      "initial  value 135.284345 \n",
      "iter  10 value 48.520303\n",
      "final  value 48.520303 \n",
      "converged\n"
     ]
    },
    {
     "data": {
      "text/html": [
       "0.622222222222222"
      ],
      "text/latex": [
       "0.622222222222222"
      ],
      "text/markdown": [
       "0.622222222222222"
      ],
      "text/plain": [
       "[1] 0.6222222"
      ]
     },
     "metadata": {},
     "output_type": "display_data"
    }
   ],
   "source": [
    "# set.seed(1234)\n",
    "samp <- createDataPartition(iris$Species, p=0.7, list=F)\n",
    "\n",
    "# 학습용 검증용\n",
    "data.tr <- iris[samp,]\n",
    "data.test <- iris[-samp,]\n",
    "\n",
    "# 모델 만들기\n",
    "model.nnet <- nnet(Species ~ ., data = data.tr, size = 3) # size : 은닉층 갯수\n",
    "\n",
    "# 문제 및 정답 \n",
    "x <- subset(data.test, select = -Species)\n",
    "y <- data.test$Species\n",
    "\n",
    "# 검증\n",
    "pred <- predict(model.nnet, x, type=\"class\") # class : 객관식, raw : 주관식\n",
    "\n",
    "# 예측력\n",
    "mean(pred == y)"
   ]
  },
  {
   "cell_type": "code",
   "execution_count": 4,
   "metadata": {
    "vscode": {
     "languageId": "r"
    }
   },
   "outputs": [],
   "source": []
  },
  {
   "cell_type": "code",
   "execution_count": 5,
   "metadata": {
    "vscode": {
     "languageId": "r"
    }
   },
   "outputs": [],
   "source": [
    "# 인공신경망 Library\n",
    "library(nnet)"
   ]
  },
  {
   "cell_type": "code",
   "execution_count": 6,
   "metadata": {
    "vscode": {
     "languageId": "r"
    }
   },
   "outputs": [
    {
     "name": "stdout",
     "output_type": "stream",
     "text": [
      "# weights:  27\n",
      "initial  value 114.068000 \n",
      "iter  10 value 18.597320\n",
      "iter  20 value 0.570637\n",
      "iter  30 value 0.003455\n",
      "final  value 0.000051 \n",
      "converged\n"
     ]
    }
   ],
   "source": []
  },
  {
   "cell_type": "code",
   "execution_count": 7,
   "metadata": {
    "vscode": {
     "languageId": "r"
    }
   },
   "outputs": [],
   "source": []
  },
  {
   "cell_type": "code",
   "execution_count": 8,
   "metadata": {
    "vscode": {
     "languageId": "r"
    }
   },
   "outputs": [
    {
     "data": {
      "text/html": [
       "<style>\n",
       ".list-inline {list-style: none; margin:0; padding: 0}\n",
       ".list-inline>li {display: inline-block}\n",
       ".list-inline>li:not(:last-child)::after {content: \"\\00b7\"; padding: 0 .5ex}\n",
       "</style>\n",
       "<ol class=list-inline><li>'setosa'</li><li>'setosa'</li><li>'setosa'</li><li>'setosa'</li><li>'setosa'</li><li>'setosa'</li></ol>\n"
      ],
      "text/latex": [
       "\\begin{enumerate*}\n",
       "\\item 'setosa'\n",
       "\\item 'setosa'\n",
       "\\item 'setosa'\n",
       "\\item 'setosa'\n",
       "\\item 'setosa'\n",
       "\\item 'setosa'\n",
       "\\end{enumerate*}\n"
      ],
      "text/markdown": [
       "1. 'setosa'\n",
       "2. 'setosa'\n",
       "3. 'setosa'\n",
       "4. 'setosa'\n",
       "5. 'setosa'\n",
       "6. 'setosa'\n",
       "\n",
       "\n"
      ],
      "text/plain": [
       "[1] \"setosa\" \"setosa\" \"setosa\" \"setosa\" \"setosa\" \"setosa\""
      ]
     },
     "metadata": {},
     "output_type": "display_data"
    }
   ],
   "source": []
  },
  {
   "cell_type": "code",
   "execution_count": 9,
   "metadata": {
    "vscode": {
     "languageId": "r"
    }
   },
   "outputs": [
    {
     "data": {
      "text/html": [
       "0.911111111111111"
      ],
      "text/latex": [
       "0.911111111111111"
      ],
      "text/markdown": [
       "0.911111111111111"
      ],
      "text/plain": [
       "[1] 0.9111111"
      ]
     },
     "metadata": {},
     "output_type": "display_data"
    }
   ],
   "source": []
  },
  {
   "cell_type": "code",
   "execution_count": 10,
   "metadata": {
    "vscode": {
     "languageId": "r"
    }
   },
   "outputs": [
    {
     "data": {
      "text/plain": [
       "            y\n",
       "pred         setosa versicolor virginica\n",
       "  setosa         15          2         0\n",
       "  versicolor      0         11         0\n",
       "  virginica       0          2        15"
      ]
     },
     "metadata": {},
     "output_type": "display_data"
    }
   ],
   "source": [
    "# 정오표\n",
    "table(pred, y)"
   ]
  },
  {
   "cell_type": "code",
   "execution_count": 17,
   "metadata": {
    "vscode": {
     "languageId": "r"
    }
   },
   "outputs": [
    {
     "data": {
      "text/html": [
       "<table class=\"dataframe\">\n",
       "<caption>A matrix: 6 x 3 of type dbl</caption>\n",
       "<thead>\n",
       "\t<tr><th></th><th scope=col>setosa</th><th scope=col>versicolor</th><th scope=col>virginica</th></tr>\n",
       "</thead>\n",
       "<tbody>\n",
       "\t<tr><th scope=row>1</th><td>0.9999979</td><td>2.107860e-06</td><td>1.880438e-62</td></tr>\n",
       "\t<tr><th scope=row>7</th><td>0.9999979</td><td>2.107611e-06</td><td>1.879894e-62</td></tr>\n",
       "\t<tr><th scope=row>10</th><td>0.9999979</td><td>2.107761e-06</td><td>1.880220e-62</td></tr>\n",
       "\t<tr><th scope=row>11</th><td>0.9999979</td><td>2.107948e-06</td><td>1.880630e-62</td></tr>\n",
       "\t<tr><th scope=row>13</th><td>0.9999979</td><td>2.107657e-06</td><td>1.879993e-62</td></tr>\n",
       "\t<tr><th scope=row>17</th><td>0.9999979</td><td>2.107942e-06</td><td>1.880617e-62</td></tr>\n",
       "</tbody>\n",
       "</table>\n"
      ],
      "text/latex": [
       "A matrix: 6 x 3 of type dbl\n",
       "\\begin{tabular}{r|lll}\n",
       "  & setosa & versicolor & virginica\\\\\n",
       "\\hline\n",
       "\t1 & 0.9999979 & 2.107860e-06 & 1.880438e-62\\\\\n",
       "\t7 & 0.9999979 & 2.107611e-06 & 1.879894e-62\\\\\n",
       "\t10 & 0.9999979 & 2.107761e-06 & 1.880220e-62\\\\\n",
       "\t11 & 0.9999979 & 2.107948e-06 & 1.880630e-62\\\\\n",
       "\t13 & 0.9999979 & 2.107657e-06 & 1.879993e-62\\\\\n",
       "\t17 & 0.9999979 & 2.107942e-06 & 1.880617e-62\\\\\n",
       "\\end{tabular}\n"
      ],
      "text/markdown": [
       "\n",
       "A matrix: 6 x 3 of type dbl\n",
       "\n",
       "| <!--/--> | setosa | versicolor | virginica |\n",
       "|---|---|---|---|\n",
       "| 1 | 0.9999979 | 2.107860e-06 | 1.880438e-62 |\n",
       "| 7 | 0.9999979 | 2.107611e-06 | 1.879894e-62 |\n",
       "| 10 | 0.9999979 | 2.107761e-06 | 1.880220e-62 |\n",
       "| 11 | 0.9999979 | 2.107948e-06 | 1.880630e-62 |\n",
       "| 13 | 0.9999979 | 2.107657e-06 | 1.879993e-62 |\n",
       "| 17 | 0.9999979 | 2.107942e-06 | 1.880617e-62 |\n",
       "\n"
      ],
      "text/plain": [
       "   setosa    versicolor   virginica   \n",
       "1  0.9999979 2.107860e-06 1.880438e-62\n",
       "7  0.9999979 2.107611e-06 1.879894e-62\n",
       "10 0.9999979 2.107761e-06 1.880220e-62\n",
       "11 0.9999979 2.107948e-06 1.880630e-62\n",
       "13 0.9999979 2.107657e-06 1.879993e-62\n",
       "17 0.9999979 2.107942e-06 1.880617e-62"
      ]
     },
     "metadata": {},
     "output_type": "display_data"
    },
    {
     "data": {
      "text/html": [
       "<table class=\"dataframe\">\n",
       "<caption>A matrix: 6 x 3 of type dbl</caption>\n",
       "<thead>\n",
       "\t<tr><th></th><th scope=col>setosa</th><th scope=col>versicolor</th><th scope=col>virginica</th></tr>\n",
       "</thead>\n",
       "<tbody>\n",
       "\t<tr><th scope=row>142</th><td>3.598902e-40</td><td>2.633577e-15</td><td>1</td></tr>\n",
       "\t<tr><th scope=row>143</th><td>2.059146e-40</td><td>1.661319e-15</td><td>1</td></tr>\n",
       "\t<tr><th scope=row>145</th><td>1.668759e-40</td><td>1.396752e-15</td><td>1</td></tr>\n",
       "\t<tr><th scope=row>148</th><td>3.630734e-40</td><td>2.652783e-15</td><td>1</td></tr>\n",
       "\t<tr><th scope=row>149</th><td>1.678871e-40</td><td>1.403732e-15</td><td>1</td></tr>\n",
       "\t<tr><th scope=row>150</th><td>3.800221e-40</td><td>2.754560e-15</td><td>1</td></tr>\n",
       "</tbody>\n",
       "</table>\n"
      ],
      "text/latex": [
       "A matrix: 6 x 3 of type dbl\n",
       "\\begin{tabular}{r|lll}\n",
       "  & setosa & versicolor & virginica\\\\\n",
       "\\hline\n",
       "\t142 & 3.598902e-40 & 2.633577e-15 & 1\\\\\n",
       "\t143 & 2.059146e-40 & 1.661319e-15 & 1\\\\\n",
       "\t145 & 1.668759e-40 & 1.396752e-15 & 1\\\\\n",
       "\t148 & 3.630734e-40 & 2.652783e-15 & 1\\\\\n",
       "\t149 & 1.678871e-40 & 1.403732e-15 & 1\\\\\n",
       "\t150 & 3.800221e-40 & 2.754560e-15 & 1\\\\\n",
       "\\end{tabular}\n"
      ],
      "text/markdown": [
       "\n",
       "A matrix: 6 x 3 of type dbl\n",
       "\n",
       "| <!--/--> | setosa | versicolor | virginica |\n",
       "|---|---|---|---|\n",
       "| 142 | 3.598902e-40 | 2.633577e-15 | 1 |\n",
       "| 143 | 2.059146e-40 | 1.661319e-15 | 1 |\n",
       "| 145 | 1.668759e-40 | 1.396752e-15 | 1 |\n",
       "| 148 | 3.630734e-40 | 2.652783e-15 | 1 |\n",
       "| 149 | 1.678871e-40 | 1.403732e-15 | 1 |\n",
       "| 150 | 3.800221e-40 | 2.754560e-15 | 1 |\n",
       "\n"
      ],
      "text/plain": [
       "    setosa       versicolor   virginica\n",
       "142 3.598902e-40 2.633577e-15 1        \n",
       "143 2.059146e-40 1.661319e-15 1        \n",
       "145 1.668759e-40 1.396752e-15 1        \n",
       "148 3.630734e-40 2.652783e-15 1        \n",
       "149 1.678871e-40 1.403732e-15 1        \n",
       "150 3.800221e-40 2.754560e-15 1        "
      ]
     },
     "metadata": {},
     "output_type": "display_data"
    }
   ],
   "source": [
    "# 검증\n",
    "pred <- predict(model.nnet, x, type=\"raw\") # class : 객관식, raw : 주관식\n",
    "head(pred)\n",
    "tail(pred)"
   ]
  },
  {
   "cell_type": "markdown",
   "metadata": {},
   "source": [
    "### 학습시킨 머신러닝 사용하기"
   ]
  },
  {
   "cell_type": "code",
   "execution_count": 18,
   "metadata": {
    "vscode": {
     "languageId": "r"
    }
   },
   "outputs": [],
   "source": [
    "# Sepal.Length = 5.3\n",
    "# Sepal.Width = 3.3\n",
    "# Petal.Length = 1.6\n",
    "# Petal.Width = 0.3"
   ]
  },
  {
   "cell_type": "code",
   "execution_count": 19,
   "metadata": {
    "vscode": {
     "languageId": "r"
    }
   },
   "outputs": [
    {
     "data": {
      "text/html": [
       "<table class=\"dataframe\">\n",
       "<caption>A data.frame: 1 x 4</caption>\n",
       "<thead>\n",
       "\t<tr><th scope=col>Sepal.Length</th><th scope=col>Sepal.Width</th><th scope=col>Petal.Length</th><th scope=col>Petal.Width</th></tr>\n",
       "\t<tr><th scope=col>&lt;dbl&gt;</th><th scope=col>&lt;dbl&gt;</th><th scope=col>&lt;dbl&gt;</th><th scope=col>&lt;dbl&gt;</th></tr>\n",
       "</thead>\n",
       "<tbody>\n",
       "\t<tr><td>5.3</td><td>3.3</td><td>1.6</td><td>0.3</td></tr>\n",
       "</tbody>\n",
       "</table>\n"
      ],
      "text/latex": [
       "A data.frame: 1 x 4\n",
       "\\begin{tabular}{llll}\n",
       " Sepal.Length & Sepal.Width & Petal.Length & Petal.Width\\\\\n",
       " <dbl> & <dbl> & <dbl> & <dbl>\\\\\n",
       "\\hline\n",
       "\t 5.3 & 3.3 & 1.6 & 0.3\\\\\n",
       "\\end{tabular}\n"
      ],
      "text/markdown": [
       "\n",
       "A data.frame: 1 x 4\n",
       "\n",
       "| Sepal.Length &lt;dbl&gt; | Sepal.Width &lt;dbl&gt; | Petal.Length &lt;dbl&gt; | Petal.Width &lt;dbl&gt; |\n",
       "|---|---|---|---|\n",
       "| 5.3 | 3.3 | 1.6 | 0.3 |\n",
       "\n"
      ],
      "text/plain": [
       "  Sepal.Length Sepal.Width Petal.Length Petal.Width\n",
       "1 5.3          3.3         1.6          0.3        "
      ]
     },
     "metadata": {},
     "output_type": "display_data"
    }
   ],
   "source": [
    "data.frame(Sepal.Length = 5.3, Sepal.Width = 3.3, Petal.Length = 1.6, Petal.Width = 0.3)"
   ]
  },
  {
   "cell_type": "code",
   "execution_count": 20,
   "metadata": {
    "vscode": {
     "languageId": "r"
    }
   },
   "outputs": [
    {
     "data": {
      "text/html": [
       "'setosa'"
      ],
      "text/latex": [
       "'setosa'"
      ],
      "text/markdown": [
       "'setosa'"
      ],
      "text/plain": [
       "[1] \"setosa\""
      ]
     },
     "metadata": {},
     "output_type": "display_data"
    }
   ],
   "source": [
    "predict(model.nnet, data.frame(Sepal.Length = 5.3, Sepal.Width = 3.3, Petal.Length = 1.6, Petal.Width = 0.3), type=\"class\")"
   ]
  },
  {
   "cell_type": "code",
   "execution_count": 29,
   "metadata": {
    "vscode": {
     "languageId": "r"
    }
   },
   "outputs": [
    {
     "data": {
      "text/html": [
       "<table class=\"dataframe\">\n",
       "<caption>A matrix: 1 x 3 of type dbl</caption>\n",
       "<thead>\n",
       "\t<tr><th></th><th scope=col>setosa</th><th scope=col>versicolor</th><th scope=col>virginica</th></tr>\n",
       "</thead>\n",
       "<tbody>\n",
       "\t<tr><th scope=row>1</th><td>0.9999979</td><td>2.108031e-06</td><td>1.88081e-62</td></tr>\n",
       "</tbody>\n",
       "</table>\n"
      ],
      "text/latex": [
       "A matrix: 1 x 3 of type dbl\n",
       "\\begin{tabular}{r|lll}\n",
       "  & setosa & versicolor & virginica\\\\\n",
       "\\hline\n",
       "\t1 & 0.9999979 & 2.108031e-06 & 1.88081e-62\\\\\n",
       "\\end{tabular}\n"
      ],
      "text/markdown": [
       "\n",
       "A matrix: 1 x 3 of type dbl\n",
       "\n",
       "| <!--/--> | setosa | versicolor | virginica |\n",
       "|---|---|---|---|\n",
       "| 1 | 0.9999979 | 2.108031e-06 | 1.88081e-62 |\n",
       "\n"
      ],
      "text/plain": [
       "  setosa    versicolor   virginica  \n",
       "1 0.9999979 2.108031e-06 1.88081e-62"
      ]
     },
     "metadata": {},
     "output_type": "display_data"
    }
   ],
   "source": [
    "predict(model.nnet, data.frame(Sepal.Length = 5.3, Sepal.Width = 3.3, Petal.Length = 1.6, Petal.Width = 0.3), type=\"raw\")"
   ]
  },
  {
   "cell_type": "code",
   "execution_count": 38,
   "metadata": {
    "vscode": {
     "languageId": "r"
    }
   },
   "outputs": [
    {
     "name": "stdout",
     "output_type": "stream",
     "text": [
      "# weights:  27\n",
      "initial  value 180.656304 \n",
      "iter  10 value 58.982459\n",
      "iter  20 value 7.654091\n",
      "iter  30 value 5.476439\n",
      "iter  40 value 4.943576\n",
      "iter  50 value 4.922347\n",
      "iter  60 value 4.921965\n",
      "final  value 4.921959 \n",
      "converged\n"
     ]
    }
   ],
   "source": [
    "modelNew <- nnet(Species ~ ., data = iris, size = 3)"
   ]
  },
  {
   "cell_type": "code",
   "execution_count": 39,
   "metadata": {
    "vscode": {
     "languageId": "r"
    }
   },
   "outputs": [
    {
     "data": {
      "text/html": [
       "<table class=\"dataframe\">\n",
       "<caption>A matrix: 1 x 3 of type dbl</caption>\n",
       "<thead>\n",
       "\t<tr><th></th><th scope=col>setosa</th><th scope=col>versicolor</th><th scope=col>virginica</th></tr>\n",
       "</thead>\n",
       "<tbody>\n",
       "\t<tr><th scope=row>1</th><td>1</td><td>1.405011e-15</td><td>3.530936e-103</td></tr>\n",
       "</tbody>\n",
       "</table>\n"
      ],
      "text/latex": [
       "A matrix: 1 x 3 of type dbl\n",
       "\\begin{tabular}{r|lll}\n",
       "  & setosa & versicolor & virginica\\\\\n",
       "\\hline\n",
       "\t1 & 1 & 1.405011e-15 & 3.530936e-103\\\\\n",
       "\\end{tabular}\n"
      ],
      "text/markdown": [
       "\n",
       "A matrix: 1 x 3 of type dbl\n",
       "\n",
       "| <!--/--> | setosa | versicolor | virginica |\n",
       "|---|---|---|---|\n",
       "| 1 | 1 | 1.405011e-15 | 3.530936e-103 |\n",
       "\n"
      ],
      "text/plain": [
       "  setosa versicolor   virginica    \n",
       "1 1      1.405011e-15 3.530936e-103"
      ]
     },
     "metadata": {},
     "output_type": "display_data"
    }
   ],
   "source": [
    "predict(modelNew, data.frame(Sepal.Length = 5.3, Sepal.Width = 3.3, Petal.Length = 1.6, Petal.Width = 0.3), type=\"raw\")"
   ]
  },
  {
   "cell_type": "code",
   "execution_count": 40,
   "metadata": {
    "vscode": {
     "languageId": "r"
    }
   },
   "outputs": [
    {
     "data": {
      "text/html": [
       "'setosa'"
      ],
      "text/latex": [
       "'setosa'"
      ],
      "text/markdown": [
       "'setosa'"
      ],
      "text/plain": [
       "[1] \"setosa\""
      ]
     },
     "metadata": {},
     "output_type": "display_data"
    }
   ],
   "source": [
    "predict(modelNew, data.frame(Sepal.Length = 5.3, Sepal.Width = 3.3, Petal.Length = 1.6, Petal.Width = 0.3), type=\"class\")"
   ]
  },
  {
   "cell_type": "code",
   "execution_count": null,
   "metadata": {
    "vscode": {
     "languageId": "r"
    }
   },
   "outputs": [],
   "source": [
    "# Sepal.Length = 9.3\n",
    "# Sepal.Width = 2.2\n",
    "# Petal.Length = 7.5\n",
    "# Petal.Width = 3.5"
   ]
  },
  {
   "cell_type": "code",
   "execution_count": 41,
   "metadata": {
    "vscode": {
     "languageId": "r"
    }
   },
   "outputs": [
    {
     "data": {
      "text/html": [
       "'virginica'"
      ],
      "text/latex": [
       "'virginica'"
      ],
      "text/markdown": [
       "'virginica'"
      ],
      "text/plain": [
       "[1] \"virginica\""
      ]
     },
     "metadata": {},
     "output_type": "display_data"
    }
   ],
   "source": [
    "predict(modelNew, data.frame(Sepal.Length = 9.3, Sepal.Width = 2.2, Petal.Length = 7.5, Petal.Width = 3.5), type=\"class\")"
   ]
  },
  {
   "cell_type": "code",
   "execution_count": 48,
   "metadata": {
    "vscode": {
     "languageId": "r"
    }
   },
   "outputs": [
    {
     "data": {
      "text/plain": [
       "  Sepal.Length    Sepal.Width     Petal.Length    Petal.Width   \n",
       " Min.   :4.300   Min.   :2.000   Min.   :1.000   Min.   :0.100  \n",
       " 1st Qu.:5.100   1st Qu.:2.800   1st Qu.:1.600   1st Qu.:0.300  \n",
       " Median :5.800   Median :3.000   Median :4.350   Median :1.300  \n",
       " Mean   :5.843   Mean   :3.057   Mean   :3.758   Mean   :1.199  \n",
       " 3rd Qu.:6.400   3rd Qu.:3.300   3rd Qu.:5.100   3rd Qu.:1.800  \n",
       " Max.   :7.900   Max.   :4.400   Max.   :6.900   Max.   :2.500  \n",
       "       Species  \n",
       " setosa    :50  \n",
       " versicolor:50  \n",
       " virginica :50  \n",
       "                \n",
       "                \n",
       "                "
      ]
     },
     "metadata": {},
     "output_type": "display_data"
    }
   ],
   "source": [
    "# 위의 데이터는 학습하지 않은 데이터\n",
    "summary(iris)"
   ]
  }
 ],
 "metadata": {
  "kernelspec": {
   "display_name": "R",
   "language": "R",
   "name": "ir"
  },
  "language_info": {
   "codemirror_mode": "r",
   "file_extension": ".r",
   "mimetype": "text/x-r-source",
   "name": "R",
   "pygments_lexer": "r",
   "version": "4.3.3"
  }
 },
 "nbformat": 4,
 "nbformat_minor": 2
}

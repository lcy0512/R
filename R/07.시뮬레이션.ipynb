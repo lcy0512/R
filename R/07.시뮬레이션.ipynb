{
 "cells": [
  {
   "cell_type": "code",
   "execution_count": null,
   "metadata": {
    "vscode": {
     "languageId": "r"
    }
   },
   "outputs": [],
   "source": [
    "# 기본 옵션\n",
    "options(warn = -1)\n",
    "options(repr.plot.width=15, repr.plot.height=9)\n",
    "Sys.setlocale(category = \"LC_ALL\", locale = \"ko_KR.UTF-8\")"
   ]
  },
  {
   "cell_type": "markdown",
   "metadata": {},
   "source": [
    "# 몬테카를로 시뮬레이션\n",
    "### 동전의 앞면 뒷면 시뮬레이션"
   ]
  },
  {
   "cell_type": "code",
   "execution_count": null,
   "metadata": {
    "vscode": {
     "languageId": "r"
    }
   },
   "outputs": [],
   "source": [
    "result1 <- 0\n",
    "result2 <- 0\n",
    "for(i in 1:1000000) {\n",
    "    x <- runif(1)\n",
    "    if(x <= 1/2) {\n",
    "        result1 <- result1 + 1 # 앞면\n",
    "    }else {\n",
    "        result2 <- result2 + 1\n",
    "    }\n",
    "}\n",
    "result1\n",
    "result2"
   ]
  },
  {
   "cell_type": "code",
   "execution_count": null,
   "metadata": {
    "vscode": {
     "languageId": "r"
    }
   },
   "outputs": [],
   "source": [
    "coin <- function(parameters) {\n",
    "    result1 <- 0\n",
    "    result2 <- 0\n",
    "    for(i in 1:parameters) {\n",
    "        if(runif(1) <= 1/2) {\n",
    "            result1 <- result1 + 1 # 앞면\n",
    "        }else {\n",
    "            result2 <- result2 + 1\n",
    "        }\n",
    "    }\n",
    "    cat(\"앞면 :\",result1)\n",
    "    cat(\"뒷면 :\",result2)\n",
    "}"
   ]
  },
  {
   "cell_type": "code",
   "execution_count": null,
   "metadata": {
    "vscode": {
     "languageId": "r"
    }
   },
   "outputs": [],
   "source": [
    "# 가위 바위 보 시뮬레이션\n",
    "rsp <- function(n) {\n",
    "    r <- 0\n",
    "    s <- 0\n",
    "    p <- 0\n",
    "\n",
    "    for(i in 1:n) {\n",
    "        x <- trunc(runif(1) * 3) + 1\n",
    "        if(x == 1) r = r + 1\n",
    "        if(x == 2) s = s + 1\n",
    "        if(x == 3) p = p + 1\n",
    "    }\n",
    "\n",
    "    cat(\"주먹 :\", r,\"\\n\")\n",
    "    cat(\"가위 :\", s,\"\\n\")\n",
    "    cat(\"보 :\", p,\"\\n\")\n",
    "}"
   ]
  },
  {
   "cell_type": "code",
   "execution_count": null,
   "metadata": {
    "vscode": {
     "languageId": "r"
    }
   },
   "outputs": [],
   "source": [
    "# 주사위 시뮬레이션\n",
    "dice <- function(n) {\n",
    "    n1 <- c(0,0,0,0,0,0)\n",
    "    cat(\"Throw\",n,\"\\n\")\n",
    "    for(i in 1:n) {\n",
    "        x <- trunc(runif(1) * 6) + 1\n",
    "        n1[x] <- n1[x] + 1\n",
    "    }\n",
    "\n",
    "    for(i in 1:length(n1)) {\n",
    "        cat(\"No\", i, \"=>\", n1[i],\"\\n\")\n",
    "    }\n",
    "}"
   ]
  }
 ],
 "metadata": {
  "kernelspec": {
   "display_name": "R",
   "language": "R",
   "name": "ir"
  },
  "language_info": {
   "codemirror_mode": "r",
   "file_extension": ".r",
   "mimetype": "text/x-r-source",
   "name": "R",
   "pygments_lexer": "r",
   "version": "4.3.3"
  }
 },
 "nbformat": 4,
 "nbformat_minor": 2
}

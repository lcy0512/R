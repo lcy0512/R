{
 "cells": [
  {
   "cell_type": "code",
   "execution_count": 1,
   "metadata": {
    "vscode": {
     "languageId": "r"
    }
   },
   "outputs": [
    {
     "data": {
      "text/html": [
       "'ko_KR.UTF-8/ko_KR.UTF-8/ko_KR.UTF-8/C/ko_KR.UTF-8/C'"
      ],
      "text/latex": [
       "'ko\\_KR.UTF-8/ko\\_KR.UTF-8/ko\\_KR.UTF-8/C/ko\\_KR.UTF-8/C'"
      ],
      "text/markdown": [
       "'ko_KR.UTF-8/ko_KR.UTF-8/ko_KR.UTF-8/C/ko_KR.UTF-8/C'"
      ],
      "text/plain": [
       "[1] \"ko_KR.UTF-8/ko_KR.UTF-8/ko_KR.UTF-8/C/ko_KR.UTF-8/C\""
      ]
     },
     "metadata": {},
     "output_type": "display_data"
    }
   ],
   "source": [
    "# 기본 옵션\n",
    "options(warn = -1)\n",
    "options(repr.plot.width=15, repr.plot.height=9)\n",
    "# options(scipen = 100)\n",
    "Sys.setlocale(category = \"LC_ALL\", locale = \"ko_KR.UTF-8\")"
   ]
  },
  {
   "cell_type": "markdown",
   "metadata": {},
   "source": [
    "# Mushroom\n",
    "- 8124 종류의 버섯의 특징과 독의 유무를 정리해놓은 데이터셋\n",
    "- 버섯 모양의 특징을 기반으로 독의 유무를 판단\n",
    "- 한 줄(ROW)이 버섯 한 종류\n",
    "\n",
    "1번째 컬럼(독의 유무) : 독(p), 식용(e)<br>\n",
    "2번째 컬럼(버섯의 머리 모양) : 종 모양(b), 원뿔(c), 볼록(x), 평평(f), 혹(k), 오목(s)<br>\n",
    "4번째 컬럼(버섯의 머리 색) : 갈색(n), 황갈색(b), 연한갈색(c), 회색(g) "
   ]
  },
  {
   "cell_type": "markdown",
   "metadata": {},
   "source": [
    "# 랜덤포레스트를 이용한 버섯 분류 예측"
   ]
  },
  {
   "cell_type": "code",
   "execution_count": 17,
   "metadata": {
    "vscode": {
     "languageId": "r"
    }
   },
   "outputs": [],
   "source": [
    "mr <- read.csv(\"Data/mushroom.csv\", header = F, stringsAsFactors = T)"
   ]
  },
  {
   "cell_type": "code",
   "execution_count": 18,
   "metadata": {
    "vscode": {
     "languageId": "r"
    }
   },
   "outputs": [],
   "source": [
    "library(randomForest)"
   ]
  },
  {
   "cell_type": "code",
   "execution_count": 21,
   "metadata": {
    "vscode": {
     "languageId": "r"
    }
   },
   "outputs": [
    {
     "data": {
      "text/html": [
       "<table class=\"dataframe\">\n",
       "<caption>A data.frame: 6 x 23</caption>\n",
       "<thead>\n",
       "\t<tr><th></th><th scope=col>V1</th><th scope=col>V2</th><th scope=col>V3</th><th scope=col>V4</th><th scope=col>V5</th><th scope=col>V6</th><th scope=col>V7</th><th scope=col>V8</th><th scope=col>V9</th><th scope=col>V10</th><th scope=col>...</th><th scope=col>V14</th><th scope=col>V15</th><th scope=col>V16</th><th scope=col>V17</th><th scope=col>V18</th><th scope=col>V19</th><th scope=col>V20</th><th scope=col>V21</th><th scope=col>V22</th><th scope=col>V23</th></tr>\n",
       "\t<tr><th></th><th scope=col>&lt;fct&gt;</th><th scope=col>&lt;dbl&gt;</th><th scope=col>&lt;dbl&gt;</th><th scope=col>&lt;dbl&gt;</th><th scope=col>&lt;dbl&gt;</th><th scope=col>&lt;dbl&gt;</th><th scope=col>&lt;dbl&gt;</th><th scope=col>&lt;dbl&gt;</th><th scope=col>&lt;dbl&gt;</th><th scope=col>&lt;dbl&gt;</th><th scope=col>...</th><th scope=col>&lt;dbl&gt;</th><th scope=col>&lt;dbl&gt;</th><th scope=col>&lt;dbl&gt;</th><th scope=col>&lt;dbl&gt;</th><th scope=col>&lt;dbl&gt;</th><th scope=col>&lt;dbl&gt;</th><th scope=col>&lt;dbl&gt;</th><th scope=col>&lt;dbl&gt;</th><th scope=col>&lt;dbl&gt;</th><th scope=col>&lt;dbl&gt;</th></tr>\n",
       "</thead>\n",
       "<tbody>\n",
       "\t<tr><th scope=row>1</th><td>p</td><td>6</td><td>3</td><td> 5</td><td>2</td><td>7</td><td>2</td><td>1</td><td>2</td><td>5</td><td>...</td><td>3</td><td>8</td><td>8</td><td>1</td><td>3</td><td>2</td><td>5</td><td>3</td><td>4</td><td>6</td></tr>\n",
       "\t<tr><th scope=row>2</th><td>e</td><td>6</td><td>3</td><td>10</td><td>2</td><td>1</td><td>2</td><td>1</td><td>1</td><td>5</td><td>...</td><td>3</td><td>8</td><td>8</td><td>1</td><td>3</td><td>2</td><td>5</td><td>4</td><td>3</td><td>2</td></tr>\n",
       "\t<tr><th scope=row>3</th><td>e</td><td>1</td><td>3</td><td> 9</td><td>2</td><td>4</td><td>2</td><td>1</td><td>1</td><td>6</td><td>...</td><td>3</td><td>8</td><td>8</td><td>1</td><td>3</td><td>2</td><td>5</td><td>4</td><td>3</td><td>4</td></tr>\n",
       "\t<tr><th scope=row>4</th><td>p</td><td>6</td><td>4</td><td> 9</td><td>2</td><td>7</td><td>2</td><td>1</td><td>2</td><td>6</td><td>...</td><td>3</td><td>8</td><td>8</td><td>1</td><td>3</td><td>2</td><td>5</td><td>3</td><td>4</td><td>6</td></tr>\n",
       "\t<tr><th scope=row>5</th><td>e</td><td>6</td><td>3</td><td> 4</td><td>1</td><td>6</td><td>2</td><td>2</td><td>1</td><td>5</td><td>...</td><td>3</td><td>8</td><td>8</td><td>1</td><td>3</td><td>2</td><td>1</td><td>4</td><td>1</td><td>2</td></tr>\n",
       "\t<tr><th scope=row>6</th><td>e</td><td>6</td><td>4</td><td>10</td><td>2</td><td>1</td><td>2</td><td>1</td><td>1</td><td>6</td><td>...</td><td>3</td><td>8</td><td>8</td><td>1</td><td>3</td><td>2</td><td>5</td><td>3</td><td>3</td><td>2</td></tr>\n",
       "</tbody>\n",
       "</table>\n"
      ],
      "text/latex": [
       "A data.frame: 6 x 23\n",
       "\\begin{tabular}{r|lllllllllllllllllllll}\n",
       "  & V1 & V2 & V3 & V4 & V5 & V6 & V7 & V8 & V9 & V10 & ... & V14 & V15 & V16 & V17 & V18 & V19 & V20 & V21 & V22 & V23\\\\\n",
       "  & <fct> & <dbl> & <dbl> & <dbl> & <dbl> & <dbl> & <dbl> & <dbl> & <dbl> & <dbl> & ... & <dbl> & <dbl> & <dbl> & <dbl> & <dbl> & <dbl> & <dbl> & <dbl> & <dbl> & <dbl>\\\\\n",
       "\\hline\n",
       "\t1 & p & 6 & 3 &  5 & 2 & 7 & 2 & 1 & 2 & 5 & ... & 3 & 8 & 8 & 1 & 3 & 2 & 5 & 3 & 4 & 6\\\\\n",
       "\t2 & e & 6 & 3 & 10 & 2 & 1 & 2 & 1 & 1 & 5 & ... & 3 & 8 & 8 & 1 & 3 & 2 & 5 & 4 & 3 & 2\\\\\n",
       "\t3 & e & 1 & 3 &  9 & 2 & 4 & 2 & 1 & 1 & 6 & ... & 3 & 8 & 8 & 1 & 3 & 2 & 5 & 4 & 3 & 4\\\\\n",
       "\t4 & p & 6 & 4 &  9 & 2 & 7 & 2 & 1 & 2 & 6 & ... & 3 & 8 & 8 & 1 & 3 & 2 & 5 & 3 & 4 & 6\\\\\n",
       "\t5 & e & 6 & 3 &  4 & 1 & 6 & 2 & 2 & 1 & 5 & ... & 3 & 8 & 8 & 1 & 3 & 2 & 1 & 4 & 1 & 2\\\\\n",
       "\t6 & e & 6 & 4 & 10 & 2 & 1 & 2 & 1 & 1 & 6 & ... & 3 & 8 & 8 & 1 & 3 & 2 & 5 & 3 & 3 & 2\\\\\n",
       "\\end{tabular}\n"
      ],
      "text/markdown": [
       "\n",
       "A data.frame: 6 x 23\n",
       "\n",
       "| <!--/--> | V1 &lt;fct&gt; | V2 &lt;dbl&gt; | V3 &lt;dbl&gt; | V4 &lt;dbl&gt; | V5 &lt;dbl&gt; | V6 &lt;dbl&gt; | V7 &lt;dbl&gt; | V8 &lt;dbl&gt; | V9 &lt;dbl&gt; | V10 &lt;dbl&gt; | ... ... | V14 &lt;dbl&gt; | V15 &lt;dbl&gt; | V16 &lt;dbl&gt; | V17 &lt;dbl&gt; | V18 &lt;dbl&gt; | V19 &lt;dbl&gt; | V20 &lt;dbl&gt; | V21 &lt;dbl&gt; | V22 &lt;dbl&gt; | V23 &lt;dbl&gt; |\n",
       "|---|---|---|---|---|---|---|---|---|---|---|---|---|---|---|---|---|---|---|---|---|---|\n",
       "| 1 | p | 6 | 3 |  5 | 2 | 7 | 2 | 1 | 2 | 5 | ... | 3 | 8 | 8 | 1 | 3 | 2 | 5 | 3 | 4 | 6 |\n",
       "| 2 | e | 6 | 3 | 10 | 2 | 1 | 2 | 1 | 1 | 5 | ... | 3 | 8 | 8 | 1 | 3 | 2 | 5 | 4 | 3 | 2 |\n",
       "| 3 | e | 1 | 3 |  9 | 2 | 4 | 2 | 1 | 1 | 6 | ... | 3 | 8 | 8 | 1 | 3 | 2 | 5 | 4 | 3 | 4 |\n",
       "| 4 | p | 6 | 4 |  9 | 2 | 7 | 2 | 1 | 2 | 6 | ... | 3 | 8 | 8 | 1 | 3 | 2 | 5 | 3 | 4 | 6 |\n",
       "| 5 | e | 6 | 3 |  4 | 1 | 6 | 2 | 2 | 1 | 5 | ... | 3 | 8 | 8 | 1 | 3 | 2 | 1 | 4 | 1 | 2 |\n",
       "| 6 | e | 6 | 4 | 10 | 2 | 1 | 2 | 1 | 1 | 6 | ... | 3 | 8 | 8 | 1 | 3 | 2 | 5 | 3 | 3 | 2 |\n",
       "\n"
      ],
      "text/plain": [
       "  V1 V2 V3 V4 V5 V6 V7 V8 V9 V10 ... V14 V15 V16 V17 V18 V19 V20 V21 V22 V23\n",
       "1 p  6  3   5 2  7  2  1  2  5   ... 3   8   8   1   3   2   5   3   4   6  \n",
       "2 e  6  3  10 2  1  2  1  1  5   ... 3   8   8   1   3   2   5   4   3   2  \n",
       "3 e  1  3   9 2  4  2  1  1  6   ... 3   8   8   1   3   2   5   4   3   4  \n",
       "4 p  6  4   9 2  7  2  1  2  6   ... 3   8   8   1   3   2   5   3   4   6  \n",
       "5 e  6  3   4 1  6  2  2  1  5   ... 3   8   8   1   3   2   1   4   1   2  \n",
       "6 e  6  4  10 2  1  2  1  1  6   ... 3   8   8   1   3   2   5   3   3   2  "
      ]
     },
     "metadata": {},
     "output_type": "display_data"
    }
   ],
   "source": [
    "# Feature를 숫자화\n",
    "for(i in 2:ncol(mr)) {\n",
    "    mr[,i] <- as.numeric(mr[,i])\n",
    "}\n",
    "\n",
    "# 정렬(Sampling을 하려면 데이터가 무작위로 있으면 안됨) : V1 기준으로 p와 e를 정렬\n",
    "library(dplyr)\n",
    "mr <- arrange(mr,V1)"
   ]
  },
  {
   "cell_type": "code",
   "execution_count": 37,
   "metadata": {
    "vscode": {
     "languageId": "r"
    }
   },
   "outputs": [
    {
     "data": {
      "text/html": [
       "4208"
      ],
      "text/latex": [
       "4208"
      ],
      "text/markdown": [
       "4208"
      ],
      "text/plain": [
       "[1] 4208"
      ]
     },
     "metadata": {},
     "output_type": "display_data"
    },
    {
     "data": {
      "text/html": [
       "3916"
      ],
      "text/latex": [
       "3916"
      ],
      "text/markdown": [
       "3916"
      ],
      "text/plain": [
       "[1] 3916"
      ]
     },
     "metadata": {},
     "output_type": "display_data"
    },
    {
     "data": {
      "text/html": [
       "0.930608365019011"
      ],
      "text/latex": [
       "0.930608365019011"
      ],
      "text/markdown": [
       "0.930608365019011"
      ],
      "text/plain": [
       "[1] 0.9306084"
      ]
     },
     "metadata": {},
     "output_type": "display_data"
    }
   ],
   "source": [
    "# 정리한 dataset의 식용버섯(e)와 독버섯(p)의 갯수 확인\n",
    "# 식용버섯의 갯수 : 4208\n",
    "nrow(subset(mr,V1 == 'e'))\n",
    "# 독버섯의 갯수 : 3916\n",
    "nrow(subset(mr,V1 == 'p'))\n",
    "# 비율(0.93 : 1)\n",
    "nrow(subset(mr,V1 == 'p')) / nrow(subset(mr,V1 == 'e'))"
   ]
  },
  {
   "cell_type": "code",
   "execution_count": 39,
   "metadata": {
    "vscode": {
     "languageId": "r"
    }
   },
   "outputs": [],
   "source": [
    "# Sampling\n",
    "library(caret)\n",
    "set.seed(1234)\n",
    "samp <- createDataPartition(mr$V1, p=0.7, list=F)"
   ]
  },
  {
   "cell_type": "code",
   "execution_count": 41,
   "metadata": {
    "vscode": {
     "languageId": "r"
    }
   },
   "outputs": [],
   "source": [
    "# 학습 데이터\n",
    "data.train <- mr[samp,]\n",
    "# 검증 데이터\n",
    "data.test <- mr[-samp,]"
   ]
  },
  {
   "cell_type": "code",
   "execution_count": 64,
   "metadata": {
    "vscode": {
     "languageId": "r"
    }
   },
   "outputs": [
    {
     "data": {
      "text/html": [
       "1"
      ],
      "text/latex": [
       "1"
      ],
      "text/markdown": [
       "1"
      ],
      "text/plain": [
       "[1] 1"
      ]
     },
     "metadata": {},
     "output_type": "display_data"
    }
   ],
   "source": [
    "# RandomForest로 예측력 확인\n",
    "# 문제\n",
    "x <- subset(data.test, select = -V1)\n",
    "# 정답\n",
    "y <- data.test$V1\n",
    "# 학습\n",
    "model.rf <- randomForest(V1 ~ ., data = data.train, ntree = 100)\n",
    "# 검증\n",
    "pred <- predict(model.rf, x)\n",
    "# 예측력\n",
    "mean(pred == y)"
   ]
  },
  {
   "cell_type": "code",
   "execution_count": 71,
   "metadata": {
    "vscode": {
     "languageId": "r"
    }
   },
   "outputs": [],
   "source": [
    "rfFun <- function(data)  {\n",
    "    library(randomForest)\n",
    "    library(caret)\n",
    "    result <- c()\n",
    "    for(i in 1:count) {\n",
    "        samp <- createDataPartition(mr$V1, p=0.7, list=F)\n",
    "        result <- c(result,\n",
    "            mean(\n",
    "                predict(model.rf, subset(data.test, select = -V1)) == data.test$V1)) # 예측력\n",
    "    }\n",
    "    cat(\"\\033[45m------------------------------------------------\\033[0m\\n\")\n",
    "    cat(\"\\033[36m 예측율 \\033[0m\\n\",result,\"\\n\")\n",
    "    # cat(\"\\n------------------------------------------------\\n\")\n",
    "    cat(\"\\033[45m------------------------------------------------\\033[0m\\n\")\n",
    "    cat(\"\\033[31m 평균 예측율 \\033[0m\\n\",mean(result),\"\\n\")\n",
    "    # cat(\"\\n------------------------------------------------\")\n",
    "    cat(\"\\033[45m------------------------------------------------\\033[0m\\n\")\n",
    "}"
   ]
  },
  {
   "cell_type": "code",
   "execution_count": 73,
   "metadata": {
    "vscode": {
     "languageId": "r"
    }
   },
   "outputs": [
    {
     "name": "stdout",
     "output_type": "stream",
     "text": [
      "\u001b[45m------------------------------------------------\u001b[0m\n",
      "\u001b[36m 예측율 \u001b[0m\n",
      " 1 1 1 1 1 1 1 1 1 1 \n",
      "\u001b[45m------------------------------------------------\u001b[0m\n",
      "\u001b[31m 평균 예측율 \u001b[0m\n",
      " 1 \n",
      "\u001b[45m------------------------------------------------\u001b[0m\n"
     ]
    }
   ],
   "source": [
    "rfFun(10)"
   ]
  },
  {
   "cell_type": "code",
   "execution_count": 100,
   "metadata": {
    "vscode": {
     "languageId": "r"
    }
   },
   "outputs": [
    {
     "name": "stdout",
     "output_type": "stream",
     "text": [
      "# weights:  73\n"
     ]
    },
    {
     "name": "stdout",
     "output_type": "stream",
     "text": [
      "initial  value 4564.474242 \n",
      "iter  10 value 3668.842301\n",
      "iter  20 value 2052.308629\n",
      "iter  30 value 1600.675419\n",
      "iter  40 value 1151.023576\n",
      "iter  50 value 1120.542323\n",
      "iter  60 value 1101.407950\n",
      "iter  70 value 1100.087299\n",
      "iter  80 value 1100.053644\n",
      "iter  90 value 1100.043506\n",
      "iter 100 value 1100.038108\n",
      "final  value 1100.038108 \n",
      "stopped after 100 iterations\n",
      "인공신경망 :  0.9449918 \n",
      "SVM : 1 \n",
      "# weights:  24 (23 variable)\n",
      "initial  value 3942.621163 \n",
      "iter  10 value 1633.673376\n",
      "iter  20 value 1264.137543\n",
      "iter  30 value 868.476686\n",
      "iter  40 value 789.424077\n",
      "iter  50 value 785.517204\n",
      "final  value 785.517135 \n",
      "converged\n",
      "로지스틱 회귀분석 : 0.9671593 \n"
     ]
    }
   ],
   "source": [
    "# 인공신경망을 이용한 예측력 확인\n",
    "# library(nnet)\n",
    "model.nnet <- nnet(V1 ~ ., data = data.train, size = 3)\n",
    "# predict(model.nnet, x, type = \"class\")\n",
    "cat(\"인공신경망 : \", mean(predict(model.nnet, x, type = \"class\") == y),\"\\n\")\n",
    "\n",
    "# SVM을 이용한 예측력 확인\n",
    "library(e1071)\n",
    "model.svm <- svm(V1 ~ ., data=data.train)\n",
    "cat(\"SVM :\",mean(predict(model.svm, x) == y),\"\\n\")\n",
    "\n",
    "# 로지스틱 회귀분석을 이용한 예측력 확인\n",
    "model.multinom <- multinom(V1 ~ ., data = data.train)\n",
    "cat(\"로지스틱 회귀분석 :\",mean(predict(model.multinom, x) == y),\"\\n\")"
   ]
  },
  {
   "cell_type": "markdown",
   "metadata": {},
   "source": [
    "---\n",
    "# One-Hot Encoding\n",
    "- Feature Engineering의 한 분야"
   ]
  },
  {
   "cell_type": "code",
   "execution_count": 108,
   "metadata": {
    "vscode": {
     "languageId": "r"
    }
   },
   "outputs": [
    {
     "name": "stdout",
     "output_type": "stream",
     "text": [
      "Column Name :  V2 \n",
      "Column Name :  V3 \n",
      "Column Name :  V4 \n",
      "Column Name :  V5 \n",
      "Column Name :  V6 \n",
      "Column Name :  V7 \n",
      "Column Name :  V8 \n",
      "Column Name :  V9 \n",
      "Column Name :  V10 \n",
      "Column Name :  V11 \n",
      "Column Name :  V12 \n",
      "Column Name :  V13 \n",
      "Column Name :  V14 \n",
      "Column Name :  V15 \n",
      "Column Name :  V16 \n",
      "Column Name :  V17 \n",
      "Column Name :  V18 \n",
      "Column Name :  V19 \n",
      "Column Name :  V20 \n",
      "Column Name :  V21 \n",
      "Column Name :  V22 \n",
      "Column Name :  V23 \n"
     ]
    }
   ],
   "source": [
    "# 각 컬럼별 Data 확인\n",
    "for(i in 2:ncol(mr)) {\n",
    "    cat(\"Column Name : \", colnames(mr)[i],\"\\n\")\n",
    "}"
   ]
  },
  {
   "cell_type": "code",
   "execution_count": 110,
   "metadata": {
    "vscode": {
     "languageId": "r"
    }
   },
   "outputs": [
    {
     "data": {
      "text/html": [
       "<style>\n",
       ".list-inline {list-style: none; margin:0; padding: 0}\n",
       ".list-inline>li {display: inline-block}\n",
       ".list-inline>li:not(:last-child)::after {content: \"\\00b7\"; padding: 0 .5ex}\n",
       "</style>\n",
       "<ol class=list-inline><li>6</li><li>4</li><li>10</li><li>2</li><li>9</li><li>2</li><li>2</li><li>2</li><li>12</li><li>2</li><li>5</li><li>4</li><li>4</li><li>9</li><li>9</li><li>1</li><li>4</li><li>3</li><li>5</li><li>9</li><li>6</li><li>7</li></ol>\n"
      ],
      "text/latex": [
       "\\begin{enumerate*}\n",
       "\\item 6\n",
       "\\item 4\n",
       "\\item 10\n",
       "\\item 2\n",
       "\\item 9\n",
       "\\item 2\n",
       "\\item 2\n",
       "\\item 2\n",
       "\\item 12\n",
       "\\item 2\n",
       "\\item 5\n",
       "\\item 4\n",
       "\\item 4\n",
       "\\item 9\n",
       "\\item 9\n",
       "\\item 1\n",
       "\\item 4\n",
       "\\item 3\n",
       "\\item 5\n",
       "\\item 9\n",
       "\\item 6\n",
       "\\item 7\n",
       "\\end{enumerate*}\n"
      ],
      "text/markdown": [
       "1. 6\n",
       "2. 4\n",
       "3. 10\n",
       "4. 2\n",
       "5. 9\n",
       "6. 2\n",
       "7. 2\n",
       "8. 2\n",
       "9. 12\n",
       "10. 2\n",
       "11. 5\n",
       "12. 4\n",
       "13. 4\n",
       "14. 9\n",
       "15. 9\n",
       "16. 1\n",
       "17. 4\n",
       "18. 3\n",
       "19. 5\n",
       "20. 9\n",
       "21. 6\n",
       "22. 7\n",
       "\n",
       "\n"
      ],
      "text/plain": [
       " [1]  6  4 10  2  9  2  2  2 12  2  5  4  4  9  9  1  4  3  5  9  6  7"
      ]
     },
     "metadata": {},
     "output_type": "display_data"
    },
    {
     "data": {
      "text/html": [
       "117"
      ],
      "text/latex": [
       "117"
      ],
      "text/markdown": [
       "117"
      ],
      "text/plain": [
       "[1] 117"
      ]
     },
     "metadata": {},
     "output_type": "display_data"
    }
   ],
   "source": [
    "# 작업 후의 컬럼 갯수 파악\n",
    "num <- c()\n",
    "for(i in 2:23) {\n",
    "    num = append(num, length(unique(mr[,i])))\n",
    "}\n",
    "num\n",
    "sum(num)"
   ]
  },
  {
   "cell_type": "markdown",
   "metadata": {},
   "source": [
    "## 별도의 DataFrame 생성"
   ]
  },
  {
   "cell_type": "code",
   "execution_count": 111,
   "metadata": {
    "vscode": {
     "languageId": "r"
    }
   },
   "outputs": [],
   "source": [
    "mr2 <- data.frame(V1=mr$V1)"
   ]
  },
  {
   "cell_type": "code",
   "execution_count": 115,
   "metadata": {
    "vscode": {
     "languageId": "r"
    }
   },
   "outputs": [
    {
     "data": {
      "text/html": [
       "<style>\n",
       ".list-inline {list-style: none; margin:0; padding: 0}\n",
       ".list-inline>li {display: inline-block}\n",
       ".list-inline>li:not(:last-child)::after {content: \"\\00b7\"; padding: 0 .5ex}\n",
       "</style>\n",
       "<ol class=list-inline><li>1</li><li>2</li><li>3</li><li>4</li><li>5</li><li>6</li></ol>\n"
      ],
      "text/latex": [
       "\\begin{enumerate*}\n",
       "\\item 1\n",
       "\\item 2\n",
       "\\item 3\n",
       "\\item 4\n",
       "\\item 5\n",
       "\\item 6\n",
       "\\end{enumerate*}\n"
      ],
      "text/markdown": [
       "1. 1\n",
       "2. 2\n",
       "3. 3\n",
       "4. 4\n",
       "5. 5\n",
       "6. 6\n",
       "\n",
       "\n"
      ],
      "text/plain": [
       "[1] 1 2 3 4 5 6"
      ]
     },
     "metadata": {},
     "output_type": "display_data"
    }
   ],
   "source": [
    "# col의 종류 확인\n",
    "sort(unique(mr$V2))"
   ]
  },
  {
   "cell_type": "code",
   "execution_count": null,
   "metadata": {
    "vscode": {
     "languageId": "r"
    }
   },
   "outputs": [],
   "source": [
    "for(i in 2:23) {\n",
    "    for(j in sort(unique(mr[,i]))) {\n",
    "        mr2 <- cbind(mr2, mr[,i] == j)\n",
    "    }\n",
    "}\n",
    "\n",
    "colnames(mr2) <- paste(\"V\",1:118, sep = \"\")"
   ]
  },
  {
   "cell_type": "markdown",
   "metadata": {},
   "source": [
    "---\n",
    "## Column 이름과 One-Hot Encoding을 한번에 처리"
   ]
  },
  {
   "cell_type": "code",
   "execution_count": 120,
   "metadata": {
    "vscode": {
     "languageId": "r"
    }
   },
   "outputs": [],
   "source": [
    "mr4 <- data.frame(V1 = mr$V1)"
   ]
  },
  {
   "cell_type": "code",
   "execution_count": 121,
   "metadata": {
    "vscode": {
     "languageId": "r"
    }
   },
   "outputs": [],
   "source": [
    "count = 2 # 2번째 컬럼부터 작업 시작 후 원본 컬럼번호에 새로운 컬럼이름 저장하기 위해 사용\n",
    "for(i in 2:23) {\n",
    "    for(j in sort(unique(mr[,i]))) {\n",
    "        mr4 <- cbind(mr4, mr[,i] == j)\n",
    "        colnames(mr4)[count] <- paste(\"V\",i,\"_\",j,sep = \"\")\n",
    "        count <- count + 1\n",
    "    }\n",
    "}"
   ]
  },
  {
   "cell_type": "code",
   "execution_count": 131,
   "metadata": {
    "vscode": {
     "languageId": "r"
    }
   },
   "outputs": [
    {
     "ename": "ERROR",
     "evalue": "Error in unique.default(x, nmax = nmax): unique()는 오로지 벡터들에만 적용됩니다\n",
     "output_type": "error",
     "traceback": [
      "Error in unique.default(x, nmax = nmax): unique()는 오로지 벡터들에만 적용됩니다\nTraceback:\n",
      "1. createDataPartition(mr4$V1 ~ ., p = 0.7, list = F)",
      "2. table(y)",
      "3. factor(a, exclude = exclude)",
      "4. unique(x, nmax = nmax)",
      "5. unique.default(x, nmax = nmax)"
     ]
    }
   ],
   "source": [
    "createDataPartition(mr4$V1 ~ ., p=0.7, list = F)"
   ]
  },
  {
   "cell_type": "code",
   "execution_count": 134,
   "metadata": {
    "vscode": {
     "languageId": "r"
    }
   },
   "outputs": [
    {
     "ename": "ERROR",
     "evalue": "Error in unique.default(mr4$V1 ~ .): unique()는 오로지 벡터들에만 적용됩니다\n",
     "output_type": "error",
     "traceback": [
      "Error in unique.default(mr4$V1 ~ .): unique()는 오로지 벡터들에만 적용됩니다\nTraceback:\n",
      "1. unique(mr4$V1 ~ .)",
      "2. unique.default(mr4$V1 ~ .)"
     ]
    }
   ],
   "source": []
  }
 ],
 "metadata": {
  "kernelspec": {
   "display_name": "R",
   "language": "R",
   "name": "r"
  },
  "language_info": {
   "codemirror_mode": "r",
   "file_extension": ".r",
   "mimetype": "text/x-r-source",
   "name": "R",
   "pygments_lexer": "r",
   "version": "4.3.3"
  }
 },
 "nbformat": 4,
 "nbformat_minor": 2
}

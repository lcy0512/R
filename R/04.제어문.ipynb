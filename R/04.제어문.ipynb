{
 "cells": [
  {
   "cell_type": "code",
   "execution_count": null,
   "metadata": {
    "vscode": {
     "languageId": "r"
    }
   },
   "outputs": [],
   "source": [
    "options(warn = -1)\n",
    "options(repr.plot.width=15, repr.plot.height=9)\n",
    "Sys.setlocale(category = \"LC_ALL\", locale = \"ko_KR.UTF-8\")"
   ]
  },
  {
   "cell_type": "code",
   "execution_count": null,
   "metadata": {
    "vscode": {
     "languageId": "r"
    }
   },
   "outputs": [],
   "source": [
    "x <- 10\n",
    "y <- runif(1)*100\n",
    "\n",
    "if(x > y){\n",
    "    print(\"x가 y보다 큽니다\")\n",
    "}else if(x < y) {\n",
    "   print(\"x가 y보다 작습니다\")\n",
    "}else{\n",
    "   print(\"x와 y가 같습니다.\")\n",
    "}"
   ]
  },
  {
   "cell_type": "code",
   "execution_count": null,
   "metadata": {
    "vscode": {
     "languageId": "r"
    }
   },
   "outputs": [],
   "source": [
    "# 홀수 짝수 구분\n",
    "a <- c(1,2,3)\n",
    "\n",
    "cat(a,ifelse(a%%2 == 0, \"은 짝수 입니다.\", \"은 홀수 입니다.\"),sep = \"\")\n",
    "\n",
    "ifelse(a%%2==0,paste(a,\"은 짝수\"),paste(a,\"은 홀수\"))"
   ]
  }
 ],
 "metadata": {
  "kernelspec": {
   "display_name": "R",
   "language": "R",
   "name": "ir"
  },
  "language_info": {
   "codemirror_mode": "r",
   "file_extension": ".r",
   "mimetype": "text/x-r-source",
   "name": "R",
   "pygments_lexer": "r",
   "version": "4.3.3"
  }
 },
 "nbformat": 4,
 "nbformat_minor": 2
}

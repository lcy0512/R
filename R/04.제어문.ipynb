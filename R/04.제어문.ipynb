{
 "cells": [
  {
   "cell_type": "code",
   "execution_count": null,
   "metadata": {
    "vscode": {
     "languageId": "r"
    }
   },
   "outputs": [],
   "source": [
    "options(warn = -1)\n",
    "options(repr.plot.width=15, repr.plot.height=9)\n",
    "Sys.setlocale(category = \"LC_ALL\", locale = \"ko_KR.UTF-8\")"
   ]
  },
  {
   "cell_type": "code",
   "execution_count": null,
   "metadata": {
    "vscode": {
     "languageId": "r"
    }
   },
   "outputs": [],
   "source": [
    "x <- 10\n",
    "y <- runif(1)*100\n",
    "\n",
    "if(x > y){\n",
    "    print(\"x가 y보다 큽니다\")\n",
    "}else if(x < y) {\n",
    "   print(\"x가 y보다 작습니다\")\n",
    "}else{\n",
    "   print(\"x와 y가 같습니다.\")\n",
    "}"
   ]
  },
  {
   "cell_type": "code",
   "execution_count": null,
   "metadata": {
    "vscode": {
     "languageId": "r"
    }
   },
   "outputs": [],
   "source": [
    "# 홀수 짝수 구분\n",
    "a <- c(1,2,3)\n",
    "\n",
    "ifelse(a%%2==0,paste(a,\"은 짝수\"),paste(a,\"은 홀수\"))"
   ]
  },
  {
   "cell_type": "markdown",
   "metadata": {},
   "source": [
    "### readline"
   ]
  },
  {
   "cell_type": "code",
   "execution_count": null,
   "metadata": {
    "vscode": {
     "languageId": "r"
    }
   },
   "outputs": [],
   "source": [
    "num1 <- as.integer(readline(\"숫자를 입력하세요 : \"))\n",
    "num1"
   ]
  },
  {
   "cell_type": "code",
   "execution_count": null,
   "metadata": {
    "vscode": {
     "languageId": "r"
    }
   },
   "outputs": [],
   "source": [
    "# 사용자로부터 Data를 입력받아 입력한 숫자가 홀수인지 짝수인지 판단하여 출력\n",
    "# Ex : 결과물 ) 입력하신 숫자는 12이고, 짝수 입니다.\n",
    "\n",
    "inputNum <- as.integer(readline(\"숫자를 입력하세요!!\"))\n",
    "\n",
    "cat(\"입력하신 숫자는 \", inputNum, \"이고,\", ifelse(inputNum %% 2 == 0, \"짝수\",\"홀수\"), sep = \"\", \"입니다.\")"
   ]
  },
  {
   "cell_type": "code",
   "execution_count": null,
   "metadata": {
    "vscode": {
     "languageId": "r"
    }
   },
   "outputs": [],
   "source": [
    "# csv 외부파일 불러오기\n",
    "excel <- read.csv(\"Data/excel.csv\")\n",
    "\n",
    "class(excel)\n",
    "str(excel)\n",
    "summary(excel)"
   ]
  },
  {
   "cell_type": "code",
   "execution_count": null,
   "metadata": {
    "vscode": {
     "languageId": "r"
    }
   },
   "outputs": [],
   "source": [
    "# q1 컬럼에서 Data가 3보다 크거나 같으면 data의 제곱급을 구하고, 아니면 원래 Data를 출력하기\n",
    "ifelse(excel$q1 >= 3, sqrt(excel$q1),excel$q1)"
   ]
  },
  {
   "cell_type": "code",
   "execution_count": null,
   "metadata": {
    "vscode": {
     "languageId": "r"
    }
   },
   "outputs": [],
   "source": [
    "# 위의 결과를 q6라는 컬럼을 만들어 DataSet에 추가\n",
    "excel$q6 <- ifelse(excel$q1 >= 3, sqrt(excel$q1),excel$q1)\n",
    "\n",
    "str(excel)\n",
    "summary(excel)"
   ]
  }
 ],
 "metadata": {
  "kernelspec": {
   "display_name": "R",
   "language": "R",
   "name": "ir"
  },
  "language_info": {
   "codemirror_mode": "r",
   "file_extension": ".r",
   "mimetype": "text/x-r-source",
   "name": "R",
   "pygments_lexer": "r",
   "version": "4.3.3"
  }
 },
 "nbformat": 4,
 "nbformat_minor": 2
}

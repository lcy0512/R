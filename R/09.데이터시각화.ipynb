{
 "cells": [
  {
   "cell_type": "code",
   "execution_count": null,
   "metadata": {
    "vscode": {
     "languageId": "r"
    }
   },
   "outputs": [],
   "source": [
    "# 기본 옵션\n",
    "options(warn = -1)\n",
    "options(repr.plot.width=15, repr.plot.height=9)\n",
    "options(scipen = 100)\n",
    "Sys.setlocale(category = \"LC_ALL\", locale = \"ko_KR.UTF-8\")\n",
    "\n",
    "# library 불러오기\n",
    "library(stringr)"
   ]
  },
  {
   "cell_type": "code",
   "execution_count": null,
   "metadata": {
    "vscode": {
     "languageId": "r"
    }
   },
   "outputs": [],
   "source": [
    "# 산점도(산포도)\n",
    "y <- c(1,1,2,2,3,3,4,4,5,5)\n",
    "par(bg = 'white')\n",
    "plot(y)"
   ]
  },
  {
   "cell_type": "code",
   "execution_count": null,
   "metadata": {
    "vscode": {
     "languageId": "r"
    }
   },
   "outputs": [],
   "source": [
    "par(bg = 'white')\n",
    "x <- 1:10\n",
    "y <- 1:10\n",
    "plot(x,y,\n",
    "    xlim = c(11,0), # x축의 범위 설정\n",
    "    ylim = c(0,11), # y축의 범위 설정\n",
    "    )"
   ]
  },
  {
   "cell_type": "code",
   "execution_count": null,
   "metadata": {
    "vscode": {
     "languageId": "r"
    }
   },
   "outputs": [],
   "source": [
    "seoul <- read.csv(\"Data/newSeoul.csv\")"
   ]
  },
  {
   "cell_type": "code",
   "execution_count": null,
   "metadata": {
    "vscode": {
     "languageId": "r"
    }
   },
   "outputs": [],
   "source": [
    "# 발생건수와 부상자수의 산포도\n",
    "par(family = \"AppleGothic\",bg = 'lightgray')\n",
    "plot(x = seoul$발생건수,\n",
    "    y = seoul$부상자수,\n",
    "    xlab = '발생건수',\n",
    "    ylab = '부상자수',\n",
    "    col = ifelse(seoul$발생건수 < 150,\"RED\",ifelse(seoul$발생건수 > 300,\"BLACK\",\"BLUE\")),\n",
    "    main = '서울시 교통사고 발생건수의 부상자수의 산포도',\n",
    "    )"
   ]
  },
  {
   "cell_type": "code",
   "execution_count": null,
   "metadata": {
    "vscode": {
     "languageId": "r"
    }
   },
   "outputs": [],
   "source": [
    "# 평균\n",
    "aggregate(발생건수~자치구명,newSeoul,mean)\n",
    "\n",
    "# 표준편차\n",
    "aggregate(발생건수~자치구명,newSeoul,sd)\n",
    "\n",
    "# 변동계수\n",
    "aggregate(발생건수~자치구명,newSeoul,sd)$발생건수 / aggregate(발생건수~자치구명,newSeoul,mean)$발생건수\n",
    "\n",
    "# dataframe\n",
    "newSeoulDF <- data.frame(자치구명=aggregate(발생건수~자치구명,newSeoul,mean)$자치구명,변동계수=aggregate(발생건수~자치구명,newSeoul,sd)$발생건수 / aggregate(발생건수~자치구명,newSeoul,mean)$발생건수)\n",
    "newSeoulDF"
   ]
  },
  {
   "cell_type": "code",
   "execution_count": null,
   "metadata": {
    "vscode": {
     "languageId": "r"
    }
   },
   "outputs": [],
   "source": [
    "newSeoul <- rbind(subset(seoul,자치구명=='강남구'),subset(seoul,자치구명=='광진구'))\n",
    "\n",
    "par(family = \"AppleGothic\",bg = 'lightgray')\n",
    "plot(x = newSeoul$발생건수,\n",
    "    y = newSeoul$부상자수,\n",
    "    col = ifelse(newSeoul$자치구명 == \"강남구\",\"RED\",\"BLUE\"),\n",
    "    main = \"광진구와 강남구의 발생건수에 따른 부상자수 산포도\",\n",
    "    xlab = \"발생건수\",\n",
    "    ylab = \"부상자수\",\n",
    "    )\n",
    "\n",
    "legend(\"bottomright\", \n",
    "    legend = c(\"강남구\", \"광진구\"),\n",
    "    col = c(\"red\", \"blue\"),\n",
    "    text.col = c(\"red\", \"blue\"),\n",
    "    pch = 1,\n",
    "    cex = 1.3,\n",
    "    )"
   ]
  },
  {
   "cell_type": "code",
   "execution_count": null,
   "metadata": {
    "vscode": {
     "languageId": "r"
    }
   },
   "outputs": [],
   "source": [
    "# 메인 타이틀\n",
    "y <- c(1,3,2,4,8,5,7,6,9)\n",
    "par(family = \"Applegothic\",bg = \"lightgrey\")\n",
    "plot(y,\n",
    "     xlim=c(min(y)-1,max(y)+1),\n",
    "     ylim=c(min(y)-1,max(y)+1),\n",
    "     main=\"Simple Time Series\"\n",
    "     )"
   ]
  },
  {
   "cell_type": "code",
   "execution_count": null,
   "metadata": {
    "vscode": {
     "languageId": "r"
    }
   },
   "outputs": [],
   "source": [
    "# 꺾은 선 그래프\n",
    "y <- c(1,3,2,4,8,5,7,6,9)\n",
    "par(family = \"Applegothic\",bg = \"lightgrey\")\n",
    "plot(y,\n",
    "     xlim = c(min(y)-1,max(y)+1),\n",
    "     ylim = c(min(y)-1,max(y)+1),\n",
    "     main = \"Simple Time Series\",\n",
    "     type = 'l'\n",
    "     )"
   ]
  },
  {
   "cell_type": "code",
   "execution_count": null,
   "metadata": {
    "vscode": {
     "languageId": "r"
    }
   },
   "outputs": [],
   "source": [
    "# 점과 꺾은 선 그래프\n",
    "y <- c(1,3,2,4,8,5,7,6,9)\n",
    "par(family = \"Applegothic\",bg = \"lightgrey\")\n",
    "plot(y,\n",
    "     xlim = c(min(y)-1,max(y)+1),\n",
    "     ylim = c(min(y)-1,max(y)+1),\n",
    "     main = \"Simple Time Series\",\n",
    "     type = 'b'\n",
    "     )"
   ]
  },
  {
   "cell_type": "code",
   "execution_count": null,
   "metadata": {
    "vscode": {
     "languageId": "r"
    }
   },
   "outputs": [],
   "source": [
    "# 점이 빠진 꺾은 선 그래프\n",
    "y <- c(1,3,2,4,8,5,7,6,9)\n",
    "par(family = \"Applegothic\",bg = \"lightgrey\")\n",
    "plot(y,\n",
    "     xlim = c(min(y)-1,max(y)+1),\n",
    "     ylim = c(min(y)-1,max(y)+1),\n",
    "     main = \"Simple Time Series\",\n",
    "     type = 'c'\n",
    "     )"
   ]
  },
  {
   "cell_type": "code",
   "execution_count": null,
   "metadata": {
    "vscode": {
     "languageId": "r"
    }
   },
   "outputs": [],
   "source": [
    "# 점과 꺾은 선을 중첩한 그래프\n",
    "y <- c(1,3,2,4,8,5,7,6,9)\n",
    "par(family = \"Applegothic\",bg = \"lightgrey\")\n",
    "plot(y,\n",
    "     xlim = c(min(y)-1,max(y)+1),\n",
    "     ylim = c(min(y)-1,max(y)+1),\n",
    "     main = \"Simple Time Series\",\n",
    "     type = 'o'\n",
    "     )"
   ]
  },
  {
   "cell_type": "code",
   "execution_count": null,
   "metadata": {
    "vscode": {
     "languageId": "r"
    }
   },
   "outputs": [],
   "source": [
    "# 수직선 그래프\n",
    "y <- c(1,3,2,4,8,5,7,6,9)\n",
    "par(family = \"Applegothic\",bg = \"lightgrey\")\n",
    "plot(y,\n",
    "     xlim = c(min(y)-1,max(y)+1),\n",
    "     ylim = c(min(y)-1,max(y)+1),\n",
    "     main = \"Simple Time Series\",\n",
    "     type = 'h'\n",
    "     )"
   ]
  },
  {
   "cell_type": "code",
   "execution_count": null,
   "metadata": {
    "vscode": {
     "languageId": "r"
    }
   },
   "outputs": [],
   "source": [
    "# 왼쪽값을 기초로 한 계단모양 그래프\n",
    "y <- c(1,3,2,4,8,5,7,6,9)\n",
    "par(family = \"Applegothic\",bg = \"lightgrey\")\n",
    "plot(y,\n",
    "     xlim = c(min(y)-1,max(y)+1),\n",
    "     ylim = c(min(y)-1,max(y)+1),\n",
    "     main = \"Simple Time Series\",\n",
    "     type = 's'\n",
    "     )"
   ]
  },
  {
   "cell_type": "code",
   "execution_count": null,
   "metadata": {
    "vscode": {
     "languageId": "r"
    }
   },
   "outputs": [],
   "source": [
    "# 오른쪽값을 기초로 한 계단모양 그래프\n",
    "y <- c(1,3,2,4,8,5,7,6,9)\n",
    "par(family = \"Applegothic\",bg = \"lightgrey\")\n",
    "plot(y,\n",
    "     xlim = c(min(y)-1,max(y)+1),\n",
    "     ylim = c(min(y)-1,max(y)+1),\n",
    "     main = \"Simple Time Series\",\n",
    "     type = 'S',\n",
    "     )"
   ]
  },
  {
   "cell_type": "code",
   "execution_count": null,
   "metadata": {
    "vscode": {
     "languageId": "r"
    }
   },
   "outputs": [],
   "source": [
    "# 오른쪽값을 기초로 한 계단모양 그래프\n",
    "y <- c(1,3,2,4,8,5,7,6,9)\n",
    "par(family = \"Applegothic\",bg = \"lightgrey\")\n",
    "plot(y,\n",
    "     xlim = c(min(y)-1,max(y)+1),\n",
    "     ylim = c(min(y)-1,max(y)+1),\n",
    "     main = \"Simple Time Series\",\n",
    "     pch = '*',\n",
    "     col = \"RED\"\n",
    "     )"
   ]
  },
  {
   "cell_type": "code",
   "execution_count": null,
   "metadata": {
    "vscode": {
     "languageId": "r"
    }
   },
   "outputs": [],
   "source": [
    "x <- runif(100)\n",
    "y <- runif(100)\n",
    "\n",
    "# 0.5 기준으로 0.5보다 크면 pch=1, 아니면 pch=18\n",
    "# 0.5 기준으로 0.5보다 크면 red, 아니면 blue\n",
    "par(bg = 'lightgray')\n",
    "plot(x,\n",
    "    y,\n",
    "    pch = ifelse(y > 0.5,1,18),\n",
    "    col = ifelse(y > 0.5,\"HOTPINK\",\"BLUE\"),\n",
    "    )"
   ]
  },
  {
   "cell_type": "markdown",
   "metadata": {},
   "source": [
    "## 선 그래프 : 여러개의 Data를 비교"
   ]
  },
  {
   "cell_type": "code",
   "execution_count": null,
   "metadata": {
    "vscode": {
     "languageId": "r"
    }
   },
   "outputs": [],
   "source": [
    "# 3종류의 선 그래프\n",
    "abc <- c(260,300,250,280,310)\n",
    "def <- c(180,200,210,190,170)\n",
    "ghi <- c(210,250,260,210,270)\n",
    "\n",
    "par(family = \"AppleGothic\",bg = 'lightgrey')\n",
    "plot(abc,\n",
    "    type = \"o\",\n",
    "    col = \"RED\",\n",
    "    axes = F, # 축 설정\n",
    "    ann = F, # x,y Label 제거\n",
    "    ylim = c(0,400),\n",
    "    )\n",
    "\n",
    "# x축 및 x축 라벨을 설정\n",
    "axis(1,at = 1:5,labels = c('서울','대전','대구','광주','원주'))\n",
    "\n",
    "# y축 및 y축 라벨을 설정\n",
    "axis(2,ylim = c(0,400))\n",
    "\n",
    "# main title 지정\n",
    "title(main = \"과일 판매량\",col.main = \"HOTPINK\", cex.main = 3)\n",
    "\n",
    "# x축 label 지정\n",
    "title(xlab = '지역',col.lab = \"DARKGREEN\", cex.lab = \"1.8\")\n",
    "\n",
    "# y축 label 지정\n",
    "title(ylab = \"판매량(단위:개)\", col.lab = \"DARKGREEN\", cex.lab = \"1\")\n",
    "\n",
    "# 선 그리기로 def와 ghi 그리기\n",
    "lines(def,\n",
    "    type = \"o\",\n",
    "    pch = 22,\n",
    "    col = \"BLUE\",\n",
    "    lty = 2,\n",
    "    lwd = 2,\n",
    "    )\n",
    "\n",
    "lines(ghi,\n",
    "    type = \"o\",\n",
    "    pch = 22,\n",
    "    col = \"CHOCOLATE\",\n",
    "    lty = 2,\n",
    "    lwd = 2,\n",
    ")\n",
    "\n",
    "# 범례\n",
    "legend(\n",
    "    \"bottomright\",\n",
    "    legend = c(\"야구장\",\"축구장\",\"해변가\"),\n",
    "    col = c(\"RED\",\"BLUE\",\"CHOCOLATE\"),\n",
    "    lty = c(1,2,2),\n",
    "    pch = c(21,22,22),\n",
    "    cex = 0.9\n",
    ")"
   ]
  },
  {
   "cell_type": "markdown",
   "metadata": {},
   "source": [
    "## 막대 그래프"
   ]
  },
  {
   "cell_type": "code",
   "execution_count": null,
   "metadata": {
    "vscode": {
     "languageId": "r"
    }
   },
   "outputs": [],
   "source": [
    "x <- 1:6\n",
    "# names(x) <- c('A','B','C','D','E','F')\n",
    "par(bg = 'lightgrey')\n",
    "barplot(x,\n",
    "        main = \"1 ~ 6\",\n",
    "        xlab = 'Sales',\n",
    "        ylab = 'Amounts',\n",
    "        col = rainbow(6),\n",
    "        names = c('A','B','C','D','E','F'),\n",
    "        )"
   ]
  },
  {
   "cell_type": "code",
   "execution_count": null,
   "metadata": {
    "vscode": {
     "languageId": "r"
    }
   },
   "outputs": [],
   "source": [
    "# matrix\n",
    "x <- matrix(1:6,3,2)\n",
    "x"
   ]
  },
  {
   "cell_type": "code",
   "execution_count": null,
   "metadata": {
    "vscode": {
     "languageId": "r"
    }
   },
   "outputs": [],
   "source": [
    "par(bg = 'lightgrey')\n",
    "barplot(x)"
   ]
  },
  {
   "cell_type": "code",
   "execution_count": null,
   "metadata": {
    "vscode": {
     "languageId": "r"
    }
   },
   "outputs": [],
   "source": [
    "par(family = \"AppleGothic\",bg = 'lightgrey')\n",
    "rownames(x) <- c('A','B','C')\n",
    "barplot(x,\n",
    "        beside = T,\n",
    "        main = '수출량',\n",
    "        xlab = '국가',\n",
    "        ylab = '빈도수',\n",
    "        col = c(1,2,3,4,5,6),\n",
    "        # names = c('한국','중국')\n",
    "        names = c('k1','k2','k3','c1','c2','c3'),\n",
    "        legend.text = T,\n",
    "        ylim = c(0,8)\n",
    "        )"
   ]
  },
  {
   "cell_type": "code",
   "execution_count": null,
   "metadata": {
    "vscode": {
     "languageId": "r"
    }
   },
   "outputs": [],
   "source": []
  }
 ],
 "metadata": {
  "kernelspec": {
   "display_name": "R",
   "language": "R",
   "name": "ir"
  },
  "language_info": {
   "codemirror_mode": "r",
   "file_extension": ".r",
   "mimetype": "text/x-r-source",
   "name": "R",
   "pygments_lexer": "r",
   "version": "4.3.3"
  }
 },
 "nbformat": 4,
 "nbformat_minor": 2
}

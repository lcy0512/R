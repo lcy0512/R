{
 "cells": [
  {
   "cell_type": "markdown",
   "metadata": {},
   "source": [
    "## Sampling\n",
    "\n",
    "- 모집단의 특징을 가진 임의집단을 선정해야함.\n",
    "- Target을 확인, 수가 동일해야함."
   ]
  },
  {
   "cell_type": "markdown",
   "metadata": {},
   "source": [
    "### 분석 순서\n",
    "\n",
    "- head()\n",
    "- tail()\n",
    "- str()\n",
    "- summary()"
   ]
  },
  {
   "cell_type": "code",
   "execution_count": null,
   "metadata": {
    "vscode": {
     "languageId": "r"
    }
   },
   "outputs": [],
   "source": [
    "Sys.setlocale(category = \"LC_ALL\", locale = \"ko_KR.UTF-8\")\n",
    "samp <- sample(1:150, 12)\n",
    "iris[sort(samp), ]"
   ]
  },
  {
   "cell_type": "code",
   "execution_count": null,
   "metadata": {
    "vscode": {
     "languageId": "r"
    }
   },
   "outputs": [],
   "source": [
    "# Data.frame의 Column 수\n",
    "ncol(iris)\n",
    "\n",
    "# Data.frame의 Row 수\n",
    "nrow(iris)"
   ]
  },
  {
   "cell_type": "code",
   "execution_count": null,
   "metadata": {
    "vscode": {
     "languageId": "r"
    }
   },
   "outputs": [],
   "source": [
    "# iris의 Sepal.Length의 최댓값과 최솟값의 차이가 평균보다 큰지?\n",
    "max(iris$Sepal.Length) - min(iris$Sepal.Length)\n",
    "mean(iris$Sepal.Length)"
   ]
  },
  {
   "cell_type": "code",
   "execution_count": null,
   "metadata": {
    "vscode": {
     "languageId": "r"
    }
   },
   "outputs": [],
   "source": [
    "# iris에서 1~10까지의 데이터 중 Sepal.Length와 Petal.Length 출력\n",
    "iris[1:10, c(\"Sepal.Length\",\"Petal.Length\")]\n",
    "iris[1:10, grep(\"Length\", colnames(iris))]"
   ]
  },
  {
   "cell_type": "code",
   "execution_count": null,
   "metadata": {
    "vscode": {
     "languageId": "r"
    }
   },
   "outputs": [],
   "source": [
    "# col,row 이름\n",
    "colnames(iris)\n",
    "rownames(iris)"
   ]
  },
  {
   "cell_type": "code",
   "execution_count": null,
   "metadata": {
    "vscode": {
     "languageId": "r"
    }
   },
   "outputs": [],
   "source": [
    "# iris의 Sepal.Length를 iSL이라는 벡터를 생성하고 이 중 1번 2번 데이터를 삭제\n",
    "iSL <- iris$Sepal.Length\n",
    "iSL\n",
    "iSL[-c(1:2)]\n",
    "iSL[-2:-1]\n",
    "setdiff(iSL,iSL[-c(1:2)])\n",
    "length(iris$Sepal.Length)\n",
    "length(iSL[-c(1:2)])"
   ]
  },
  {
   "cell_type": "code",
   "execution_count": null,
   "metadata": {
    "vscode": {
     "languageId": "r"
    }
   },
   "outputs": [],
   "source": [
    "# median : 중앙값\n",
    "# 중앙값과 평균의 차이가 크면, 정규분포 형태 X\n",
    "\n",
    "summary(iris)\n",
    "median(iris$Sepal.Length)"
   ]
  },
  {
   "cell_type": "code",
   "execution_count": null,
   "metadata": {
    "vscode": {
     "languageId": "r"
    }
   },
   "outputs": [],
   "source": [
    "# 중앙값과 평균\n",
    "num1 <- c(1,1,1,1,5)\n",
    "mean(num1)\n",
    "median(num1)"
   ]
  },
  {
   "cell_type": "code",
   "execution_count": null,
   "metadata": {
    "vscode": {
     "languageId": "r"
    }
   },
   "outputs": [],
   "source": [
    "# factor Type인 Species에서 문자와 숫자로 각각 출력하기\n",
    "unique(as.character(iris$Species))\n",
    "as.numeric(iris$Species)"
   ]
  },
  {
   "cell_type": "code",
   "execution_count": null,
   "metadata": {
    "vscode": {
     "languageId": "r"
    }
   },
   "outputs": [],
   "source": [
    "# 벡터 계산\n",
    "x <- c(3,6,9,12,15)\n",
    "x + c(1,2,3)\n",
    "x + c(2,3)"
   ]
  },
  {
   "cell_type": "code",
   "execution_count": null,
   "metadata": {
    "vscode": {
     "languageId": "r"
    }
   },
   "outputs": [],
   "source": [
    "# 벡터 합치기\n",
    "x <- c(3,5,6,12,15)\n",
    "y <- c(1,2,3,4,5)\n",
    "z <- append(x,y)\n",
    "z1 <- c(x,y)\n",
    "z1"
   ]
  },
  {
   "cell_type": "code",
   "execution_count": null,
   "metadata": {
    "vscode": {
     "languageId": "r"
    }
   },
   "outputs": [],
   "source": [
    "# iris의 Sepal.Length의 중복되지 않은 갯수의 percent\n",
    "length(unique(iris$Sepal.Length)) / length(iris$Sepal.Length) * 100"
   ]
  },
  {
   "cell_type": "code",
   "execution_count": null,
   "metadata": {
    "vscode": {
     "languageId": "r"
    }
   },
   "outputs": [],
   "source": [
    "# iris의 Sepal.Length의 중복된 갯수의 percent 구하기\n",
    "(1 - (length(unique(iris$Sepal.Length)) / length(iris$Sepal.Length))) * 100"
   ]
  },
  {
   "cell_type": "markdown",
   "metadata": {},
   "source": [
    "### 문자열 관련 함수"
   ]
  },
  {
   "cell_type": "code",
   "execution_count": null,
   "metadata": {
    "vscode": {
     "languageId": "r"
    }
   },
   "outputs": [],
   "source": [
    "x <- c('a','b','c','d','e')\n",
    "x\n",
    "x[1:2]\n",
    "paste(x[1],x[2])"
   ]
  },
  {
   "cell_type": "code",
   "execution_count": null,
   "metadata": {
    "vscode": {
     "languageId": "r"
    }
   },
   "outputs": [],
   "source": [
    "# iris의 1,51,101번의 Species만 한꺼번에 출력\n",
    "paste(iris$Species[1],\":\",iris$Species[51],\":\",iris$Species[101])\n",
    "paste(\"010\",\"1111\",\"2222\",sep = \"-\")"
   ]
  },
  {
   "cell_type": "code",
   "execution_count": null,
   "metadata": {
    "vscode": {
     "languageId": "r"
    }
   },
   "outputs": [],
   "source": [
    "# 출력\n",
    "cat(\"a\",\"b\",\"c\")"
   ]
  },
  {
   "cell_type": "code",
   "execution_count": null,
   "metadata": {
    "vscode": {
     "languageId": "r"
    }
   },
   "outputs": [],
   "source": [
    "# 문자열 추출\n",
    "str01 <- \"abcdefghijklmn\"\n",
    "str02 <- \"가나다라마바사\"\n",
    "substring(str01,2,4)\n",
    "substring(str02,2,5)"
   ]
  },
  {
   "cell_type": "markdown",
   "metadata": {},
   "source": [
    "# 행렬(matrix)\n",
    "- 2차원 자료를 저장하는 자료형\n",
    "- 데이터 형태가 모두 일치"
   ]
  },
  {
   "cell_type": "code",
   "execution_count": null,
   "metadata": {
    "vscode": {
     "languageId": "r"
    }
   },
   "outputs": [],
   "source": [
    "# 벡터를 이용하여 행렬 만들기\n",
    "vec1 <- c(1,2,3)\n",
    "vec2 <- c(4,5,6)\n",
    "vec3 <- c(7,8,9)"
   ]
  },
  {
   "cell_type": "code",
   "execution_count": null,
   "metadata": {
    "vscode": {
     "languageId": "r"
    }
   },
   "outputs": [],
   "source": [
    "# rbind : row bind, 데이터 추가\n",
    "# cbind : col bind, 속성 추가\n",
    "mat1 <- rbind(vec1,vec2,vec3)\n",
    "mat2 <- cbind(vec1,vec2,vec3)\n",
    "mat1\n",
    "mat2"
   ]
  },
  {
   "cell_type": "code",
   "execution_count": null,
   "metadata": {
    "vscode": {
     "languageId": "r"
    }
   },
   "outputs": [],
   "source": [
    "# iris의 1~5 데이터만 추출\n",
    "irisHead <- iris[1:5,]\n",
    "irisHead"
   ]
  },
  {
   "cell_type": "code",
   "execution_count": null,
   "metadata": {
    "vscode": {
     "languageId": "r"
    }
   },
   "outputs": [],
   "source": [
    "# 추출한 데이터의 row에 1,1,1,1,setosa 추가\n",
    "newData <- c(1,1,1,1,\"setosa\")\n",
    "newIrisHead <- rbind(irisHead,newData)"
   ]
  },
  {
   "cell_type": "code",
   "execution_count": null,
   "metadata": {
    "vscode": {
     "languageId": "r"
    }
   },
   "outputs": [],
   "source": [
    "abc <- rep(2,6)\n",
    "newIrisHead <- cbind(newIrisHead,abc)\n",
    "newIrisHead "
   ]
  },
  {
   "cell_type": "code",
   "execution_count": null,
   "metadata": {
    "vscode": {
     "languageId": "r"
    }
   },
   "outputs": [],
   "source": [
    "irisHead$Sepal.Length <- as.numeric(irisHead$Sepal.Length)\n",
    "irisHead"
   ]
  },
  {
   "cell_type": "code",
   "execution_count": null,
   "metadata": {
    "vscode": {
     "languageId": "r"
    }
   },
   "outputs": [],
   "source": [
    "# 번지를 통해 col 삭제\n",
    "newIrisHead <- newIrisHead[ , -ncol(newIrisHead)]\n",
    "newIrisHead"
   ]
  },
  {
   "cell_type": "code",
   "execution_count": null,
   "metadata": {
    "vscode": {
     "languageId": "r"
    }
   },
   "outputs": [],
   "source": [
    "newIrisHead$Sepal.Length <- as.numeric(newIrisHead$Sepal.Length)\n",
    "newIrisHead"
   ]
  },
  {
   "cell_type": "code",
   "execution_count": null,
   "metadata": {
    "vscode": {
     "languageId": "r"
    }
   },
   "outputs": [],
   "source": [
    "Length <- iris$Sepal.Length + iris$Petal.Length\n",
    "Length\n",
    "cbind(iris,Length)[1:5,]"
   ]
  },
  {
   "cell_type": "code",
   "execution_count": null,
   "metadata": {
    "vscode": {
     "languageId": "r"
    }
   },
   "outputs": [],
   "source": [
    "# data.frame 에서 사용 가능한 col 추가\n",
    "irisHead$Length <- irisHead$Sepal.Length + irisHead$Petal.Length"
   ]
  },
  {
   "cell_type": "code",
   "execution_count": null,
   "metadata": {
    "vscode": {
     "languageId": "r"
    }
   },
   "outputs": [],
   "source": [
    "# cbind는 matrix type을 생성\n",
    "sl <- iris$Petal.Length\n",
    "sw <- iris$Petal.Width\n",
    "\n",
    "irisM <- cbind(sl,sw)\n",
    "\n",
    "# matrix는 structure 확인 불가\n",
    "str(irisM)"
   ]
  },
  {
   "cell_type": "code",
   "execution_count": null,
   "metadata": {
    "vscode": {
     "languageId": "r"
    }
   },
   "outputs": [],
   "source": [
    "# matrix를 data.frame으로 변환\n",
    "irisD <- as.data.frame(irisM)\n",
    "str(irisD)"
   ]
  },
  {
   "cell_type": "code",
   "execution_count": null,
   "metadata": {
    "vscode": {
     "languageId": "r"
    }
   },
   "outputs": [],
   "source": [
    "colnames(mat1) <- c(\"A\",\"B\",\"C\")\n",
    "mat1\n",
    "mat1D <- as.data.frame(mat1)\n",
    "class(mat1D)"
   ]
  },
  {
   "cell_type": "code",
   "execution_count": null,
   "metadata": {
    "vscode": {
     "languageId": "r"
    }
   },
   "outputs": [],
   "source": [
    "mat2\n",
    "rownames(mat2) <- 1:3\n",
    "mat2D <- as.data.frame(mat2)\n",
    "class(mat2D)"
   ]
  },
  {
   "cell_type": "code",
   "execution_count": null,
   "metadata": {
    "vscode": {
     "languageId": "r"
    }
   },
   "outputs": [],
   "source": [
    "mat1D\n",
    "mat2D\n",
    "# mat1D와 mat2D를 하나의 DataSet으로 만들기\n",
    "# Coulmn name이 달라 Error -> colnames로 이름 통일.\n",
    "colnames(mat2D) <- c(\"A\",\"B\",\"C\")\n",
    "\n",
    "rbind(mat1D,mat2D)"
   ]
  },
  {
   "cell_type": "markdown",
   "metadata": {},
   "source": [
    "# 데이터 프레임\n",
    "- 다양한 자료형으로 구성된 2차원 형태의 데이터 구조"
   ]
  },
  {
   "cell_type": "code",
   "execution_count": null,
   "metadata": {
    "vscode": {
     "languageId": "r"
    }
   },
   "outputs": [],
   "source": [
    "# 벡터로 data.frame 만들기\n",
    "\n",
    "no <- 1:4\n",
    "name <- c(\"Apple\",\"Banana\",\"Peach\",\"Berry\")\n",
    "price <- c(500,400,300,200)\n",
    "qty <- c(5,2,7,9)"
   ]
  },
  {
   "cell_type": "code",
   "execution_count": null,
   "metadata": {
    "vscode": {
     "languageId": "r"
    }
   },
   "outputs": [],
   "source": [
    "fruit <- data.frame(번호=no,상품명=name,가격=price,수량=qty)\n",
    "fruit\n",
    "str(fruit)"
   ]
  },
  {
   "cell_type": "code",
   "execution_count": null,
   "metadata": {
    "vscode": {
     "languageId": "r"
    }
   },
   "outputs": [],
   "source": [
    "# fruit에서 상품명과 수량만 보기\n",
    "fruit[c(2,4)]"
   ]
  },
  {
   "cell_type": "code",
   "execution_count": null,
   "metadata": {
    "vscode": {
     "languageId": "r"
    }
   },
   "outputs": [],
   "source": [
    "# fruit에서 번호를 제외한 모든 내용 보기\n",
    "fruit[2:ncol(fruit)]\n",
    "fruit[-1]\n",
    "\n",
    "# fruit에서 2,4번 행을 제외한 상품명, 가격, 수량만 출력\n",
    "fruit[-c(2,4),-1]"
   ]
  },
  {
   "cell_type": "code",
   "execution_count": null,
   "metadata": {
    "vscode": {
     "languageId": "r"
    }
   },
   "outputs": [],
   "source": [
    "fruit$재고금액 <- fruit$가격 * fruit$수량\n",
    "fruit"
   ]
  },
  {
   "cell_type": "code",
   "execution_count": null,
   "metadata": {
    "vscode": {
     "languageId": "r"
    }
   },
   "outputs": [],
   "source": [
    "fruit$원산지 <- c(\"한국\",\"태국\",\"한국\",\"중국\")\n",
    "fruit"
   ]
  },
  {
   "cell_type": "markdown",
   "metadata": {},
   "source": [
    "## 외부 파일 불러오기"
   ]
  },
  {
   "cell_type": "code",
   "execution_count": null,
   "metadata": {
    "vscode": {
     "languageId": "r"
    }
   },
   "outputs": [],
   "source": [
    "txtEmp <- read.table(\"Data/emp.txt\", \n",
    "                     header = TRUE, \n",
    "                     stringsAsFactors = FALSE, \n",
    "                     fileEncoding = \"UTF-8\")\n",
    "txtEmp\n",
    "str(txtEmp)"
   ]
  },
  {
   "cell_type": "code",
   "execution_count": null,
   "metadata": {
    "vscode": {
     "languageId": "r"
    }
   },
   "outputs": [],
   "source": [
    "csvEmp <- read.csv(\"Data/TalkFile_emp2.csv\",\n",
    "            header = F,\n",
    "            fileEncoding = \"UTF-8\")\n",
    "\n",
    "colnames(csvEmp) <- c(\"사원\",\"이름\",\"급여\")\n",
    "\n",
    "# Column 갯수\n",
    "ncol(csvEmp)\n",
    "\n",
    "# Row 갯수\n",
    "nrow(csvEmp)"
   ]
  },
  {
   "cell_type": "markdown",
   "metadata": {},
   "source": [
    "-------"
   ]
  },
  {
   "cell_type": "code",
   "execution_count": null,
   "metadata": {
    "vscode": {
     "languageId": "r"
    }
   },
   "outputs": [],
   "source": [
    "df <- data.frame(x = 1:5,\n",
    "                y = seq(2,10,2),\n",
    "                z = c('a','b','c','d','e'))\n",
    "df"
   ]
  },
  {
   "cell_type": "code",
   "execution_count": null,
   "metadata": {
    "vscode": {
     "languageId": "r"
    }
   },
   "outputs": [],
   "source": [
    "# x,y 컬럼의 합계 구하기\n",
    "sum(df$x)\n",
    "sum(df$y)"
   ]
  },
  {
   "cell_type": "markdown",
   "metadata": {},
   "source": [
    "### 함수를 부르는 함수"
   ]
  },
  {
   "cell_type": "code",
   "execution_count": null,
   "metadata": {
    "vscode": {
     "languageId": "r"
    }
   },
   "outputs": [],
   "source": [
    "# Column의 합계\n",
    "apply(df[1:2],2,sum)\n",
    "apply(df[1:2],2,mean)\n",
    "apply(df[1:2],2,sd)\n",
    "\n",
    "# Row의 합계\n",
    "apply(df[1:2],1,sum)"
   ]
  },
  {
   "cell_type": "code",
   "execution_count": null,
   "metadata": {
    "vscode": {
     "languageId": "r"
    }
   },
   "outputs": [],
   "source": [
    "df$Hap <- apply(df[1:2],1,sum)"
   ]
  },
  {
   "cell_type": "code",
   "execution_count": null,
   "metadata": {
    "vscode": {
     "languageId": "r"
    }
   },
   "outputs": [],
   "source": [
    "# 부분 집합\n",
    "subset(df, x>=3 & y>= 8)"
   ]
  },
  {
   "cell_type": "code",
   "execution_count": null,
   "metadata": {
    "vscode": {
     "languageId": "r"
    }
   },
   "outputs": [],
   "source": [
    "# x가 3이상이고, y가 8이상인 데이터 중 x와 y의 합계\n",
    "apply(subset(df, x>=3 & y>= 8)[1:2],2,sum)"
   ]
  },
  {
   "cell_type": "markdown",
   "metadata": {},
   "source": [
    "## 두 개 이상의 데이터프레임 병합"
   ]
  },
  {
   "cell_type": "markdown",
   "metadata": {},
   "source": [
    "### case 1 : key 값이 되는 컬럼이 동일하고 data의 갯수도 동일한 경우"
   ]
  },
  {
   "cell_type": "code",
   "execution_count": null,
   "metadata": {
    "vscode": {
     "languageId": "r"
    }
   },
   "outputs": [],
   "source": [
    "height <- data.frame(id = 1:3, height = seq(160,180,10))\n",
    "height\n",
    "\n",
    "weight <- data.frame(id = c(\"2\",\"1\",\"3\"), weight = c(70,80,60))\n",
    "weight\n",
    "\n",
    "merge(height,weight)"
   ]
  },
  {
   "cell_type": "markdown",
   "metadata": {},
   "source": [
    "### case 2 : key 값이 되는 컬럼이 동일하고 data의 갯수는 다를 경우"
   ]
  },
  {
   "cell_type": "code",
   "execution_count": null,
   "metadata": {
    "vscode": {
     "languageId": "r"
    }
   },
   "outputs": [],
   "source": [
    "height <- data.frame(id = 1:3, height = seq(160,180,10))\n",
    "height\n",
    "\n",
    "weight <- data.frame(ad = c(\"2\",\"1\"), weight = c(70,80))\n",
    "weight\n",
    "\n",
    "# key를 정의 : data가 적은쪽의 기준으로 merge\n",
    "merge(x=height, y=weight, by.x = \"id\",by.y = \"ad\")\n",
    "\n",
    "# key를 정의 : data가 많은쪽의 기준으로 merge\n",
    "merge(x=height, y=weight, by.x = \"id\",by.y = \"ad\",all.x = T)"
   ]
  },
  {
   "cell_type": "markdown",
   "metadata": {},
   "source": [
    "## 행렬 함수로 행렬(matrix) 만들기"
   ]
  },
  {
   "cell_type": "code",
   "execution_count": null,
   "metadata": {
    "vscode": {
     "languageId": "r"
    }
   },
   "outputs": [],
   "source": [
    "matrix(1:10)\n",
    "# 두 줄로 만들기\n",
    "matrix(1:10,nrow = 2)\n",
    "# 가로 세줄, 세로 세줄\n",
    "matrix(1:9,nrow = 3, ncol = 3)\n",
    "matrix(1:9,ncol = 3, byrow = 3)"
   ]
  },
  {
   "cell_type": "markdown",
   "metadata": {},
   "source": [
    "## List\n",
    "- 성격이 다른 자료구조로 생성이 가능하다.\n",
    "- key와 value 값으로 구성\n",
    "- AI 학습을 data.frame으로 했을 떄 List를 AI에게 주면 제대로 답을 줌"
   ]
  },
  {
   "cell_type": "code",
   "execution_count": null,
   "metadata": {
    "vscode": {
     "languageId": "r"
    }
   },
   "outputs": [],
   "source": [
    "member <- list(name=\"홍길동\", address=\"서울\", tel=\"010-1111-1111\", pay=300)\n",
    "member$birth <- \"1988-08-08\"\n",
    "member"
   ]
  },
  {
   "cell_type": "markdown",
   "metadata": {},
   "source": [
    "# 문자열 처리\n",
    "수집한 데이터의 필요한 문자열을 자르고, 교체하고, 추출하는 작업\n",
    "\n",
    "## stringr package 사용\n",
    "- str_length() : 문자열 길이\n",
    "- str_c() : 문자열 연결\n",
    "- str_sub() : 범위에 해당하는 문자열 생성(substring)\n",
    "- str_split() : 구분자를 기준으로 문자열을 분리\n",
    "- str_replace : 기존 문자열을 특정 문자열로 대치\n",
    "- str_extract : 문자열에서 특정 문자열 패턴의 '첫번째' 문자열 추출\n",
    "- str_extract_all() : 문자열에서 특정 문자열 추출\n",
    "- str_locate() : 문자열에서 특정 문자열 패턴의 첫번째 위치 추출, 특정 문자열 앞 부분으로만 Data 작업이 이루어져야 할 때 주로 사용\n",
    "- str_locate_all() : 문자열에서 특정 문자열 패턴의 위치들 추출"
   ]
  },
  {
   "cell_type": "code",
   "execution_count": null,
   "metadata": {
    "vscode": {
     "languageId": "r"
    }
   },
   "outputs": [],
   "source": [
    "# 패키지 설치\n",
    "install.packages(\"stringr\")\n",
    "# 패키지 불러오기\n",
    "library(stringr)"
   ]
  },
  {
   "cell_type": "code",
   "execution_count": null,
   "metadata": {
    "vscode": {
     "languageId": "r"
    }
   },
   "outputs": [],
   "source": [
    "string <- \"hongkildong105youbee1002kwanwoo25장비2005\"\n",
    "str_length(string)\n",
    "str_sub(string,1,11)"
   ]
  },
  {
   "cell_type": "code",
   "execution_count": null,
   "metadata": {
    "vscode": {
     "languageId": "r"
    }
   },
   "outputs": [],
   "source": [
    "# a ~ z 까지의 영문자가 연속으로 3개 발견된 문자열 추출\n",
    "str_extract_all(string, \"[a-z]{3,5}\")\n",
    "\n",
    "# 영문만 추출\n",
    "aaa <- str_extract_all(string, \"[a-z]{1,}\")\n",
    "unlist(aaa)\n",
    "\n",
    "# 숫자만 추출\n",
    "as.numeric(unlist(str_extract_all(string,\"[0-9]{1,}\")))\n",
    "\n",
    "# 한글만 추출\n",
    "unlist(str_extract_all(string,\"[가-힣]{1,}\"))\n",
    "\n",
    "# 영문자를 제외한 문자 출력\n",
    "str_extract_all(string, \"[^a-z]{1,}\")"
   ]
  },
  {
   "cell_type": "code",
   "execution_count": null,
   "metadata": {
    "vscode": {
     "languageId": "r"
    }
   },
   "outputs": [],
   "source": [
    "# 문자열 길이 구하기\n",
    "str_length(string)\n",
    "\n",
    "# 문자열 위치 구하기\n",
    "str_locate(string,\"장비\")\n",
    "\n",
    "# 부분 문자열 추출\n",
    "str_sub(string,1,str_locate(string,\"장비\")[1]-1)\n",
    "\n",
    "# 문자열 대문자로 치환\n",
    "str_to_upper(string)\n",
    "\n",
    "# 문자열 교체\n",
    "string <- str_replace(string,\"hongkildong105\",\"홍길동35,\")\n",
    "string <- str_replace(string,\"youbee1002\",\"유비45,\")\n",
    "string <- str_replace(string,\"kwanwoo25\",\"관우25,\")\n",
    "string <- str_replace(string,\"2005\",\"20\")\n",
    "unlist(str_split(string,\",\"))\n",
    "\n",
    "# 천단위 쉼표가 들어간문자열을 숫자로 변경하기\n",
    "price <- \"123,456,789\"\n",
    "as.numeric(str_replace_all(price,\",\",\"\"))\n",
    "as.numeric(str_remove_all(price,\",\"))"
   ]
  },
  {
   "cell_type": "code",
   "execution_count": null,
   "metadata": {
    "vscode": {
     "languageId": "r"
    }
   },
   "outputs": [],
   "source": [
    "# NA 변경\n",
    "temp <- c(1,2,NA,4)\n",
    "temp\n",
    "str_replace_na(temp)\n",
    "as.numeric(str_replace_all(str_replace_na(temp),\"NA\",\"99\"))\n",
    "\n",
    "# NA 제거\n",
    "na.omit(temp)"
   ]
  }
 ],
 "metadata": {
  "kernelspec": {
   "display_name": "R",
   "language": "R",
   "name": "ir"
  },
  "language_info": {
   "codemirror_mode": "r",
   "file_extension": ".r",
   "mimetype": "text/x-r-source",
   "name": "R",
   "pygments_lexer": "r",
   "version": "4.3.3"
  }
 },
 "nbformat": 4,
 "nbformat_minor": 2
}

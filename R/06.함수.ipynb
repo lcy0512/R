{
 "cells": [
  {
   "cell_type": "code",
   "execution_count": null,
   "metadata": {
    "vscode": {
     "languageId": "r"
    }
   },
   "outputs": [],
   "source": [
    "# 기본 옵션\n",
    "options(warn = -1)\n",
    "options(repr.plot.width=15, repr.plot.height=9)\n",
    "Sys.setlocale(category = \"LC_ALL\", locale = \"ko_KR.UTF-8\")"
   ]
  },
  {
   "cell_type": "markdown",
   "metadata": {},
   "source": [
    "# 함수(function)\n",
    "- 함수는 코드의 집합이다."
   ]
  },
  {
   "cell_type": "code",
   "execution_count": null,
   "metadata": {
    "vscode": {
     "languageId": "r"
    }
   },
   "outputs": [],
   "source": [
    "# 주요 내장 함수\n",
    "vec <- 10:20\n",
    "\n",
    "min(vec) # 최솟값\n",
    "max(vec) # 최댓값\n",
    "mean(vec) # 평균\n",
    "median(vec) # 중앙값\n",
    "sum(vec) # 합계\n",
    "sd(vec) # 표준편차\n",
    "summary(vec) # 기본 통계량\n",
    "table(vec) # 빈도수\n",
    "range(vec) # 범위값"
   ]
  },
  {
   "cell_type": "markdown",
   "metadata": {},
   "source": [
    "## 기술통계량을 계산하는 함수 정의"
   ]
  },
  {
   "cell_type": "code",
   "execution_count": null,
   "metadata": {
    "vscode": {
     "languageId": "r"
    }
   },
   "outputs": [],
   "source": [
    "# test.csv를 읽어서 test라는 벡터 변수에 넣기\n",
    "test <- read.csv(\"Data/test.csv\")"
   ]
  },
  {
   "cell_type": "code",
   "execution_count": null,
   "metadata": {
    "vscode": {
     "languageId": "r"
    }
   },
   "outputs": [],
   "source": [
    "# test의 자료구조 확인하기\n",
    "str(test)"
   ]
  },
  {
   "cell_type": "code",
   "execution_count": null,
   "metadata": {
    "vscode": {
     "languageId": "r"
    }
   },
   "outputs": [],
   "source": [
    "# test의 기본 통계량 보기\n",
    "summary(test)"
   ]
  },
  {
   "cell_type": "code",
   "execution_count": null,
   "metadata": {
    "vscode": {
     "languageId": "r"
    }
   },
   "outputs": [],
   "source": [
    "# A컬럼의 최댓값, 최솟값, 빈도수\n",
    "max(test$A)\n",
    "min(test$A)\n",
    "table(test$A)\n",
    "hist(test$A)"
   ]
  },
  {
   "cell_type": "code",
   "execution_count": null,
   "metadata": {
    "vscode": {
     "languageId": "r"
    }
   },
   "outputs": [],
   "source": [
    "# 각 컬럼의 빈도수 구하기\n",
    "for(i in 1:ncol(test)) {\n",
    "    cat(colnames(test)[i],\"번째 컬럼의 빈도 분석 결과\")\n",
    "    print(table(test[,i]))\n",
    "    cat(\"=====================\\n\")\n",
    "}\n",
    "\n",
    "# 각 컬럼의 빈도수의 최댓값, 최솟값\n",
    "for(i in 1:ncol(test)) {\n",
    "    cat(colnames(test)[i],\"컬럼의 빈도수의 최댓값과 최솟값\\n\")\n",
    "    cat(\"최댓값 :\",max(table(test[,i])),\", 최솟값 :\",min(table(test[i])),\"\\n\")\n",
    "    cat(\"============================\\n\")\n",
    "}"
   ]
  },
  {
   "cell_type": "code",
   "execution_count": null,
   "metadata": {
    "vscode": {
     "languageId": "r"
    }
   },
   "outputs": [],
   "source": [
    "f <- table(test[,1])\n",
    "f[1]"
   ]
  },
  {
   "cell_type": "code",
   "execution_count": null,
   "metadata": {
    "vscode": {
     "languageId": "r"
    }
   },
   "outputs": [],
   "source": [
    "# 구구단 출력 함수\n",
    "gugu <- function(x,y) {\n",
    "   for(i in x) {\n",
    "        for(j in y) {\n",
    "            cat(paste(i,\"X\",j,\"=\",i*j,\"\\n\"))\n",
    "        }\n",
    "        cat(\"----------\\n\")\n",
    "   }\n",
    "}\n",
    "\n",
    "x <- c(2:3) # 단\n",
    "y <- c(1:5) # 곱해지는 수\n",
    "\n",
    "gugu(x,y)"
   ]
  },
  {
   "cell_type": "markdown",
   "metadata": {},
   "source": [
    "## 결측치(NA) 자료 평균 계산\n",
    "- 결측치를 무조건 제거하면 통계량을 얻을 수 없으며, 데이터 손실로 문제 발생"
   ]
  },
  {
   "cell_type": "code",
   "execution_count": null,
   "metadata": {
    "vscode": {
     "languageId": "r"
    }
   },
   "outputs": [],
   "source": [
    "data <- c(10,20,5,4,40,7,NA,6,3,NA,2,NA)"
   ]
  },
  {
   "cell_type": "code",
   "execution_count": null,
   "metadata": {
    "vscode": {
     "languageId": "r"
    }
   },
   "outputs": [],
   "source": [
    "# NA의 갯수 구하기\n",
    "sum(is.na(data))\n",
    "table(is.na(data))"
   ]
  },
  {
   "cell_type": "code",
   "execution_count": null,
   "metadata": {
    "vscode": {
     "languageId": "r"
    }
   },
   "outputs": [],
   "source": [
    "# 결측치를 제거하고 평균\n",
    " mean(data,na.rm = T)"
   ]
  },
  {
   "cell_type": "code",
   "execution_count": null,
   "metadata": {
    "vscode": {
     "languageId": "r"
    }
   },
   "outputs": [],
   "source": [
    "# (1) NA를 0으로 대체하여 평균\n",
    "mean(ifelse(is.na(data), 0, data))"
   ]
  },
  {
   "cell_type": "code",
   "execution_count": null,
   "metadata": {
    "vscode": {
     "languageId": "r"
    }
   },
   "outputs": [],
   "source": [
    "# (2) NA를 평균으로 대체 : 의미있는 데이터 X\n",
    "mean(ifelse(is.na(data),mean(data,na.rm = T),data))"
   ]
  },
  {
   "cell_type": "code",
   "execution_count": null,
   "metadata": {
    "vscode": {
     "languageId": "r"
    }
   },
   "outputs": [],
   "source": [
    "# (3) NA를 중앙값으로 대체\n",
    "mean(ifelse(is.na(data), median(data,na.rm = T), data))"
   ]
  },
  {
   "cell_type": "code",
   "execution_count": null,
   "metadata": {
    "vscode": {
     "languageId": "r"
    }
   },
   "outputs": [],
   "source": [
    "# (4) NA를 최솟값으로 대체하여 평균\n",
    "mean(ifelse(is.na(data), min(data,na.rm = T), data))"
   ]
  },
  {
   "cell_type": "code",
   "execution_count": null,
   "metadata": {
    "vscode": {
     "languageId": "r"
    }
   },
   "outputs": [],
   "source": [
    "# (5) NA를 최댓값으로 대체하여 평균\n",
    "mean(ifelse(is.na(data), max(data,na.rm = T), data))"
   ]
  },
  {
   "cell_type": "code",
   "execution_count": null,
   "metadata": {
    "vscode": {
     "languageId": "r"
    }
   },
   "outputs": [],
   "source": [
    "# (5) NA를 1사분위수로 대체하여 평균\n",
    "mean(ifelse(is.na(data), quantile(data,0.25,na.rm = T), data))"
   ]
  },
  {
   "cell_type": "code",
   "execution_count": null,
   "metadata": {
    "vscode": {
     "languageId": "r"
    }
   },
   "outputs": [],
   "source": [
    "# (5) NA를 3사분위수로 대체하여 평균\n",
    "mean(ifelse(is.na(data), quantile(data,0.75,na.rm = T), data))"
   ]
  },
  {
   "cell_type": "code",
   "execution_count": null,
   "metadata": {
    "vscode": {
     "languageId": "r"
    }
   },
   "outputs": [],
   "source": [
    "sd(ifelse(is.na(data), quantile(data,0.75,na.rm = T), data))"
   ]
  },
  {
   "cell_type": "code",
   "execution_count": null,
   "metadata": {
    "vscode": {
     "languageId": "r"
    }
   },
   "outputs": [],
   "source": [
    "sd(data,na.rm = T)"
   ]
  }
 ],
 "metadata": {
  "kernelspec": {
   "display_name": "R",
   "language": "R",
   "name": "ir"
  },
  "language_info": {
   "codemirror_mode": "r",
   "file_extension": ".r",
   "mimetype": "text/x-r-source",
   "name": "R",
   "pygments_lexer": "r",
   "version": "4.3.3"
  }
 },
 "nbformat": 4,
 "nbformat_minor": 2
}
